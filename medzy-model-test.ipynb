{
 "cells": [
  {
   "cell_type": "markdown",
   "metadata": {},
   "source": [
    "## Importing Libraries"
   ]
  },
  {
   "cell_type": "code",
   "execution_count": 1,
   "metadata": {},
   "outputs": [],
   "source": [
    "# Python libraries\n",
    "import pandas as pd\n",
    "import matplotlib.pyplot as plt\n",
    "import numpy as np\n",
    "import os\n",
    "import glob\n",
    "\n",
    "# Preprocessing libraries\n",
    "from PIL import Image, ImageEnhance, ImageOps, ImageFilter\n",
    "from sklearn.preprocessing import LabelEncoder\n",
    "\n",
    "# TF libraries\n",
    "import tensorflow as tf\n",
    "from tensorflow import keras\n",
    "import keras.backend as K\n",
    "from tensorflow.keras import layers\n",
    "from tensorflow.keras.models import Sequential\n",
    "from tensorflow.keras.utils import to_categorical\n",
    "from tensorflow.keras.metrics import Precision, Recall\n",
    "\n",
    "# Fine tuning libraries\n",
    "import keras_tuner"
   ]
  },
  {
   "cell_type": "markdown",
   "metadata": {},
   "source": [
    "## GPU set Memory Growth"
   ]
  },
  {
   "cell_type": "code",
   "execution_count": 2,
   "metadata": {},
   "outputs": [],
   "source": [
    "gpus = tf.config.experimental.list_physical_devices('GPU')\n",
    "if gpus:\n",
    "    try:\n",
    "        for gpu in gpus:\n",
    "            tf.config.experimental.set_memory_growth(gpu, True)\n",
    "    except RuntimeError as e:\n",
    "        print(e)"
   ]
  },
  {
   "cell_type": "markdown",
   "metadata": {},
   "source": [
    "## Importing Data"
   ]
  },
  {
   "cell_type": "markdown",
   "metadata": {},
   "source": [
    "### Importing Labels"
   ]
  },
  {
   "cell_type": "code",
   "execution_count": 3,
   "metadata": {},
   "outputs": [],
   "source": [
    "training_path = \"./Dataset/Training\"\n",
    "training_labels = pd.read_csv(\n",
    "    os.path.join(training_path,\"training_labels.csv\"),\n",
    "    delimiter = \",\"\n",
    ")\n",
    "\n",
    "validation_path = \"./Dataset/Validation\"\n",
    "validation_labels = pd.read_csv(\n",
    "    os.path.join(validation_path,\"validation_labels.csv\"),\n",
    "    delimiter = \",\"\n",
    ")\n",
    "\n",
    "testing_path = \"./Dataset/Testing\"\n",
    "testing_labels = pd.read_csv(\n",
    "    os.path.join(testing_path,\"testing_labels.csv\"),\n",
    "    delimiter = \",\"\n",
    ")"
   ]
  },
  {
   "cell_type": "markdown",
   "metadata": {},
   "source": [
    "### Encoding Labels"
   ]
  },
  {
   "cell_type": "code",
   "execution_count": 4,
   "metadata": {},
   "outputs": [],
   "source": [
    "encoder = LabelEncoder()\n",
    "\n",
    "training_labels_enc = to_categorical(\n",
    "    encoder.fit_transform(training_labels[\"MEDICINE_NAME\"]),\n",
    "    num_classes=78\n",
    ")\n",
    "\n",
    "validation_labels_enc = to_categorical(\n",
    "    encoder.fit_transform(validation_labels[\"MEDICINE_NAME\"]),\n",
    "    num_classes=78\n",
    ")\n",
    "\n",
    "testing_labels_enc = to_categorical(\n",
    "    encoder.fit_transform(testing_labels[\"MEDICINE_NAME\"]),\n",
    "    num_classes=78\n",
    ")"
   ]
  },
  {
   "cell_type": "markdown",
   "metadata": {},
   "source": [
    "### Importing Images"
   ]
  },
  {
   "cell_type": "markdown",
   "metadata": {},
   "source": [
    "#### Config"
   ]
  },
  {
   "cell_type": "code",
   "execution_count": null,
   "metadata": {},
   "outputs": [],
   "source": [
    "image_size = (600, 200) # Width, Height\n",
    "padding_horizontal = 200\n",
    "padding_vertical = 75\n",
    "padding_color = (255, 0, 0)\n",
    "\n",
    "batch_size = 32"
   ]
  },
  {
   "cell_type": "markdown",
   "metadata": {},
   "source": [
    "#### Import Function"
   ]
  },
  {
   "cell_type": "code",
   "execution_count": 12,
   "metadata": {},
   "outputs": [],
   "source": [
    "def get_images(path, labels_enc):\n",
    "    images = []\n",
    "    files = glob.glob(path + \"/*png\")\n",
    "    for file in files:\n",
    "        img = Image.open(file).convert(\"L\")  # Convert to grayscale\n",
    "\n",
    "        # Resize based on height only (preserve text width)\n",
    "        w, h = img.size\n",
    "        new_h = image_size[1]\n",
    "        scale = new_h / h\n",
    "        new_w = int(w * scale)\n",
    "        img = img.resize((new_w, new_h), Image.Resampling.LANCZOS)\n",
    "\n",
    "        # Pad width if it's larger than target size\n",
    "        if new_w > image_size[0]:\n",
    "            pad_w = 0  # No padding needed\n",
    "        else:\n",
    "            pad_w = (image_size[0] - new_w) // 2\n",
    "        \n",
    "        # Expand image to match the target size\n",
    "        img = ImageOps.expand(img, (pad_w, 0, image_size[0] - new_w - pad_w, 0), fill=255)\n",
    "\n",
    "        # Apply AutoContrast\n",
    "        img = ImageOps.autocontrast(img)\n",
    "\n",
    "        # Denoise with Gaussian blur\n",
    "        img = img.filter(ImageFilter.GaussianBlur(3))\n",
    "\n",
    "        # Apply Binarization\n",
    "        img = img.point(lambda p: 255 if p > 250 else 0)\n",
    "\n",
    "        # Convert to Numpy array and normalize\n",
    "        images.append(np.asarray(img).astype(\"float32\") / 255.0)\n",
    "    \n",
    "    images = np.array(images)\n",
    "    np_labels_enc = np.array(labels_enc)\n",
    "\n",
    "    print(images.shape)\n",
    "\n",
    "    # Create tensorflow dataset\n",
    "    dataset = tf.data.Dataset.from_tensor_slices((images, np_labels_enc))\n",
    "    dataset = dataset.batch(batch_size)\n",
    "\n",
    "    return dataset"
   ]
  },
  {
   "cell_type": "code",
   "execution_count": 13,
   "metadata": {},
   "outputs": [
    {
     "name": "stdout",
     "output_type": "stream",
     "text": [
      "(3120, 200, 600)\n",
      "(780, 200, 600)\n",
      "(780, 200, 600)\n"
     ]
    }
   ],
   "source": [
    "training_dataset = get_images(training_path + \"/training_words\", training_labels_enc)\n",
    "validation_dataset = get_images(validation_path + \"/validation_words\", validation_labels_enc)\n",
    "testing_dataset = get_images(testing_path + \"/testing_words\", testing_labels_enc)\n",
    "\n",
    "# Shuffling Training Dataset\n",
    "BUFFER_SIZE = 3120\n",
    "training_dataset = training_dataset.shuffle(BUFFER_SIZE, seed = 42)"
   ]
  },
  {
   "cell_type": "code",
   "execution_count": 14,
   "metadata": {},
   "outputs": [
    {
     "data": {
      "image/png": "[encoded data removed]",
      "text/plain": [
       "<Figure size 640x480 with 1 Axes>"
      ]
     },
     "metadata": {},
     "output_type": "display_data"
    }
   ],
   "source": [
    "for images, labels in training_dataset.take(1):\n",
    "    plt.imshow(images[0])"
   ]
  },
  {
   "cell_type": "code",
   "execution_count": null,
   "metadata": {},
   "outputs": [
    {
     "data": {
      "image/png": "[encoded data removed]",
      "text/plain": [
       "<Figure size 640x480 with 1 Axes>"
      ]
     },
     "metadata": {},
     "output_type": "display_data"
    },
    {
     "ename": "",
     "evalue": "",
     "output_type": "error",
     "traceback": [
      "\u001b[1;31mThe Kernel crashed while executing code in the current cell or a previous cell. \n",
      "\u001b[1;31mPlease review the code in the cell(s) to identify a possible cause of the failure. \n",
      "\u001b[1;31mClick <a href='https://aka.ms/vscodeJupyterKernelCrash'>here</a> for more info. \n",
      "\u001b[1;31mView Jupyter <a href='command:jupyter.viewOutput'>log</a> for further details."
     ]
    }
   ],
   "source": [
    "for images, labels in testing_dataset.take(1):\n",
    "    plt.imshow(images[0])"
   ]
  },
  {
   "cell_type": "markdown",
   "metadata": {},
   "source": [
    "## Creating Optimal Model"
   ]
  },
  {
   "cell_type": "code",
   "execution_count": null,
   "metadata": {},
   "outputs": [
    {
     "name": "stdout",
     "output_type": "stream",
     "text": [
      "Epoch 1/20\n",
      "101/195 [==============>...............] - ETA: 6s - loss: 4.3896 - accuracy: 0.0000e+00 - precision: 0.0000e+00 - recall: 0.0000e+00"
     ]
    }
   ],
   "source": [
    "metrics = [\n",
    "        'accuracy', \n",
    "        Precision(name = 'precision'),\n",
    "        Recall(name = 'recall'),\n",
    "        # f1_score\n",
    "    ]\n",
    "\n",
    "model = Sequential([\n",
    "    layers.Conv2D(32, kernel_size = 5, activation=\"relu\", input_shape = (image_size[1], image_size[0], 1)),\n",
    "    layers.MaxPooling2D(pool_size = 2),\n",
    "    layers.Conv2D(64, kernel_size = 5, activation=\"relu\"),\n",
    "    layers.MaxPooling2D(pool_size = 2),\n",
    "    layers.Conv2D(64, kernel_size = 3, activation=\"relu\"),\n",
    "    layers.MaxPooling2D(pool_size = 2),\n",
    "    layers.Flatten(),\n",
    "\n",
    "    layers.Dense(256, activation=\"leaky_relu\"),\n",
    "    layers.Dense(512, activation=\"leaky_relu\"),\n",
    "    layers.Dense(78, activation = \"softmax\")\n",
    "])\n",
    "\n",
    "optimizer = tf.keras.optimizers.RMSprop(learning_rate=0.0001, rho=0.9)\n",
    "model.compile(optimizer=optimizer, loss='categorical_crossentropy', metrics=metrics)\n",
    "\n",
    "model.fit(\n",
    "    training_dataset,\n",
    "    epochs = 20,\n",
    "    validation_data = validation_dataset,\n",
    "    callbacks = [\n",
    "        keras.callbacks.EarlyStopping(\"accuracy\", mode=\"max\", patience=3),\n",
    "        keras.callbacks.EarlyStopping(\"val_recall\", mode=\"max\", patience=3),\n",
    "        keras.callbacks.EarlyStopping(\"val_loss\", mode=\"min\", patience=3)\n",
    "    ]\n",
    ")"
   ]
  },
  {
   "cell_type": "code",
   "execution_count": null,
   "metadata": {},
   "outputs": [
    {
     "name": "stdout",
     "output_type": "stream",
     "text": [
      "49/49 [==============================] - 1s 19ms/step - loss: 5.1906 - accuracy: 0.0026 - precision: 0.0000e+00 - recall: 0.0000e+00\n"
     ]
    },
    {
     "data": {
      "text/plain": [
       "[5.190562725067139, 0.0025641026441007853, 0.0, 0.0]"
      ]
     },
     "execution_count": 11,
     "metadata": {},
     "output_type": "execute_result"
    }
   ],
   "source": [
    "model.evaluate(testing_dataset)"
   ]
  }
 ],
 "metadata": {
  "kernelspec": {
   "display_name": "Python 3",
   "language": "python",
   "name": "python3"
  },
  "language_info": {
   "codemirror_mode": {
    "name": "ipython",
    "version": 3
   },
   "file_extension": ".py",
   "mimetype": "text/x-python",
   "name": "python",
   "nbconvert_exporter": "python",
   "pygments_lexer": "ipython3",
   "version": "3.10.16"
  }
 },
 "nbformat": 4,
 "nbformat_minor": 2
}
