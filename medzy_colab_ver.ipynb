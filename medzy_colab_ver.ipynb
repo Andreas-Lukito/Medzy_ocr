{
  "cells": [
    {
      "cell_type": "markdown",
      "metadata": {
        "id": "view-in-github",
        "colab_type": "text"
      },
      "source": [
        "<a href=\"https://colab.research.google.com/github/Andreas-Lukito/Medzy_ocr/blob/main/medzy_colab_ver.ipynb\" target=\"_parent\"><img src=\"https://colab.research.google.com/assets/colab-badge.svg\" alt=\"Open In Colab\"/></a>"
      ]
    },
    {
      "cell_type": "markdown",
      "metadata": {
        "id": "yhhy8ocVhpsr"
      },
      "source": [
        "<a href=\"https://colab.research.google.com/github/Andreas-Lukito/Medzy_ocr/blob/main/medzy_collab_ver.ipynb\" target=\"_parent\"><img src=\"https://colab.research.google.com/assets/colab-badge.svg\" alt=\"Open In Colab\"/></a>"
      ]
    },
    {
      "cell_type": "markdown",
      "metadata": {
        "id": "BSaVkKjhhpss"
      },
      "source": [
        "# Medzy"
      ]
    },
    {
      "cell_type": "code",
      "execution_count": 1,
      "metadata": {
        "id": "Mt87L6Cdhpst",
        "outputId": "d371ea3c-071e-4790-b005-4161f69ceb82",
        "colab": {
          "base_uri": "https://localhost:8080/"
        }
      },
      "outputs": [
        {
          "output_type": "stream",
          "name": "stdout",
          "text": [
            "Mounted at /content/drive\n"
          ]
        }
      ],
      "source": [
        "from google.colab import drive\n",
        "drive.mount('/content/drive')"
      ]
    },
    {
      "cell_type": "markdown",
      "metadata": {
        "id": "_Icni8qHhpsu"
      },
      "source": [
        "## Overview"
      ]
    },
    {
      "cell_type": "markdown",
      "metadata": {
        "id": "M6kXcB5Whpsu"
      },
      "source": [
        "This project aims to develop a machine learning model capable of interpreting doctors’ handwriting on prescriptions. By accurately detecting and translating challenging handwriting, the model will empower patients to read their prescriptions independently, making it easier for them to purchase their medications without confusion if they run out of medecine or to check if the cleric gave the correct medicine.\n",
        "\n",
        "This model will use Tensor flows' keras convolutional neural network as reference to this <a href = \"https://www.tensorflow.org/tutorials/images/cnn\">documentation</a>. The model will also be trained using this <a href=\"https://www.kaggle.com/datasets/mamun1113/doctors-handwritten-prescription-bd-dataset\">dataset</a> from kaggle."
      ]
    },
    {
      "cell_type": "markdown",
      "metadata": {
        "id": "0Q52-kMEhpsu"
      },
      "source": [
        "## Importing needed libraries"
      ]
    },
    {
      "cell_type": "markdown",
      "metadata": {
        "id": "V78NmXwjhpsu"
      },
      "source": [
        "### Installing environment"
      ]
    },
    {
      "cell_type": "code",
      "execution_count": 2,
      "metadata": {
        "id": "JuoL9iLLhpsu",
        "outputId": "9d760f3c-3f49-4eea-9efb-323aeef0f2e0",
        "colab": {
          "base_uri": "https://localhost:8080/"
        }
      },
      "outputs": [
        {
          "output_type": "stream",
          "name": "stdout",
          "text": [
            "Collecting keras-tuner\n",
            "  Downloading keras_tuner-1.4.7-py3-none-any.whl.metadata (5.4 kB)\n",
            "Requirement already satisfied: keras in /usr/local/lib/python3.11/dist-packages (from keras-tuner) (3.8.0)\n",
            "Requirement already satisfied: packaging in /usr/local/lib/python3.11/dist-packages (from keras-tuner) (24.2)\n",
            "Requirement already satisfied: requests in /usr/local/lib/python3.11/dist-packages (from keras-tuner) (2.32.3)\n",
            "Collecting kt-legacy (from keras-tuner)\n",
            "  Downloading kt_legacy-1.0.5-py3-none-any.whl.metadata (221 bytes)\n",
            "Requirement already satisfied: absl-py in /usr/local/lib/python3.11/dist-packages (from keras->keras-tuner) (1.4.0)\n",
            "Requirement already satisfied: numpy in /usr/local/lib/python3.11/dist-packages (from keras->keras-tuner) (1.26.4)\n",
            "Requirement already satisfied: rich in /usr/local/lib/python3.11/dist-packages (from keras->keras-tuner) (13.9.4)\n",
            "Requirement already satisfied: namex in /usr/local/lib/python3.11/dist-packages (from keras->keras-tuner) (0.0.8)\n",
            "Requirement already satisfied: h5py in /usr/local/lib/python3.11/dist-packages (from keras->keras-tuner) (3.12.1)\n",
            "Requirement already satisfied: optree in /usr/local/lib/python3.11/dist-packages (from keras->keras-tuner) (0.14.0)\n",
            "Requirement already satisfied: ml-dtypes in /usr/local/lib/python3.11/dist-packages (from keras->keras-tuner) (0.4.1)\n",
            "Requirement already satisfied: charset-normalizer<4,>=2 in /usr/local/lib/python3.11/dist-packages (from requests->keras-tuner) (3.4.1)\n",
            "Requirement already satisfied: idna<4,>=2.5 in /usr/local/lib/python3.11/dist-packages (from requests->keras-tuner) (3.10)\n",
            "Requirement already satisfied: urllib3<3,>=1.21.1 in /usr/local/lib/python3.11/dist-packages (from requests->keras-tuner) (2.3.0)\n",
            "Requirement already satisfied: certifi>=2017.4.17 in /usr/local/lib/python3.11/dist-packages (from requests->keras-tuner) (2025.1.31)\n",
            "Requirement already satisfied: typing-extensions>=4.5.0 in /usr/local/lib/python3.11/dist-packages (from optree->keras->keras-tuner) (4.12.2)\n",
            "Requirement already satisfied: markdown-it-py>=2.2.0 in /usr/local/lib/python3.11/dist-packages (from rich->keras->keras-tuner) (3.0.0)\n",
            "Requirement already satisfied: pygments<3.0.0,>=2.13.0 in /usr/local/lib/python3.11/dist-packages (from rich->keras->keras-tuner) (2.18.0)\n",
            "Requirement already satisfied: mdurl~=0.1 in /usr/local/lib/python3.11/dist-packages (from markdown-it-py>=2.2.0->rich->keras->keras-tuner) (0.1.2)\n",
            "Downloading keras_tuner-1.4.7-py3-none-any.whl (129 kB)\n",
            "\u001b[?25l   \u001b[90m━━━━━━━━━━━━━━━━━━━━━━━━━━━━━━━━━━━━━━━━\u001b[0m \u001b[32m0.0/129.1 kB\u001b[0m \u001b[31m?\u001b[0m eta \u001b[36m-:--:--\u001b[0m\r\u001b[2K   \u001b[90m━━━━━━━━━━━━━━━━━━━━━━━━━━━━━━━━━━━━━━━━\u001b[0m \u001b[32m129.1/129.1 kB\u001b[0m \u001b[31m9.8 MB/s\u001b[0m eta \u001b[36m0:00:00\u001b[0m\n",
            "\u001b[?25hDownloading kt_legacy-1.0.5-py3-none-any.whl (9.6 kB)\n",
            "Installing collected packages: kt-legacy, keras-tuner\n",
            "Successfully installed keras-tuner-1.4.7 kt-legacy-1.0.5\n"
          ]
        }
      ],
      "source": [
        "!pip install keras-tuner"
      ]
    },
    {
      "cell_type": "code",
      "execution_count": 3,
      "metadata": {
        "id": "uYCpsUxHhpsv"
      },
      "outputs": [],
      "source": [
        "# basic python libraries\n",
        "import pandas as pd\n",
        "import matplotlib.pyplot as plt\n",
        "from PIL import Image, ImageEnhance, ImageFilter\n",
        "import cv2\n",
        "import numpy as np\n",
        "import os\n",
        "import glob\n",
        "\n",
        "# data preprocessing libraries\n",
        "from sklearn.preprocessing import LabelEncoder\n",
        "\n",
        "# tensor flow libraries\n",
        "import tensorflow as tf\n",
        "import keras\n",
        "from tensorflow import keras\n",
        "from tensorflow.keras import layers\n",
        "from tensorflow.keras import backend as K\n",
        "from tensorflow.keras.models import Sequential\n",
        "from tensorflow.keras.utils import to_categorical\n",
        "from tensorflow.keras.preprocessing import image_dataset_from_directory\n",
        "\n",
        "# Fine tuning libraries\n",
        "import keras_tuner"
      ]
    },
    {
      "cell_type": "markdown",
      "metadata": {
        "id": "odJ1zsR9hpsv"
      },
      "source": [
        "## GPU Setup"
      ]
    },
    {
      "cell_type": "markdown",
      "metadata": {
        "id": "rqtwiXvOhpsv"
      },
      "source": [
        "This section of the code is contributed by <a href = \"https://github.com/SonicRay241\">Rayhan Permana</a>"
      ]
    },
    {
      "cell_type": "code",
      "execution_count": 4,
      "metadata": {
        "id": "nEVPXBLahpsv"
      },
      "outputs": [],
      "source": [
        "gpus = tf.config.experimental.list_physical_devices('GPU')\n",
        "if gpus:\n",
        "    try:\n",
        "        for gpu in gpus:\n",
        "            tf.config.experimental.set_memory_growth(gpu, True)\n",
        "    except RuntimeError as e:\n",
        "        print(e)"
      ]
    },
    {
      "cell_type": "code",
      "execution_count": 5,
      "metadata": {
        "id": "W4g5vIrghpsv",
        "outputId": "b5f2cd80-9c61-4154-a272-86abe0215439",
        "colab": {
          "base_uri": "https://localhost:8080/"
        }
      },
      "outputs": [
        {
          "output_type": "stream",
          "name": "stdout",
          "text": [
            "Num GPUs Available:  1\n"
          ]
        }
      ],
      "source": [
        "#check if gpu is available\n",
        "print(\"Num GPUs Available: \", len(tf.config.list_physical_devices('GPU')))"
      ]
    },
    {
      "cell_type": "markdown",
      "metadata": {
        "id": "AOctpnethpsw"
      },
      "source": [
        "## Importing the Data"
      ]
    },
    {
      "cell_type": "markdown",
      "metadata": {
        "id": "zt5fgaVthpsw"
      },
      "source": [
        "### Train data"
      ]
    },
    {
      "cell_type": "markdown",
      "metadata": {
        "id": "iqfpht4Hhpsw"
      },
      "source": [
        "#### Train Labels"
      ]
    },
    {
      "cell_type": "code",
      "execution_count": 6,
      "metadata": {
        "id": "dJfqCcPkhpsw"
      },
      "outputs": [],
      "source": [
        "train_path = \"/content/drive/MyDrive/project_medzy/dataset/Training\"\n",
        "train_labels = pd.read_csv(os.path.join(train_path,\"training_labels.csv\"), delimiter = \",\")"
      ]
    },
    {
      "cell_type": "code",
      "execution_count": 7,
      "metadata": {
        "id": "QQlGjSNKhpsw",
        "outputId": "41705ee3-27c8-4104-f9ef-17a384ef258f",
        "colab": {
          "base_uri": "https://localhost:8080/",
          "height": 206
        }
      },
      "outputs": [
        {
          "output_type": "execute_result",
          "data": {
            "text/plain": [
              "   IMAGE MEDICINE_NAME GENERIC_NAME\n",
              "0  0.png         Aceta  Paracetamol\n",
              "1  1.png         Aceta  Paracetamol\n",
              "2  2.png         Aceta  Paracetamol\n",
              "3  3.png         Aceta  Paracetamol\n",
              "4  4.png         Aceta  Paracetamol"
            ],
            "text/html": [
              "\n",
              "  <div id=\"df-e061a4c1-569b-4729-bca3-c186910a0073\" class=\"colab-df-container\">\n",
              "    <div>\n",
              "<style scoped>\n",
              "    .dataframe tbody tr th:only-of-type {\n",
              "        vertical-align: middle;\n",
              "    }\n",
              "\n",
              "    .dataframe tbody tr th {\n",
              "        vertical-align: top;\n",
              "    }\n",
              "\n",
              "    .dataframe thead th {\n",
              "        text-align: right;\n",
              "    }\n",
              "</style>\n",
              "<table border=\"1\" class=\"dataframe\">\n",
              "  <thead>\n",
              "    <tr style=\"text-align: right;\">\n",
              "      <th></th>\n",
              "      <th>IMAGE</th>\n",
              "      <th>MEDICINE_NAME</th>\n",
              "      <th>GENERIC_NAME</th>\n",
              "    </tr>\n",
              "  </thead>\n",
              "  <tbody>\n",
              "    <tr>\n",
              "      <th>0</th>\n",
              "      <td>0.png</td>\n",
              "      <td>Aceta</td>\n",
              "      <td>Paracetamol</td>\n",
              "    </tr>\n",
              "    <tr>\n",
              "      <th>1</th>\n",
              "      <td>1.png</td>\n",
              "      <td>Aceta</td>\n",
              "      <td>Paracetamol</td>\n",
              "    </tr>\n",
              "    <tr>\n",
              "      <th>2</th>\n",
              "      <td>2.png</td>\n",
              "      <td>Aceta</td>\n",
              "      <td>Paracetamol</td>\n",
              "    </tr>\n",
              "    <tr>\n",
              "      <th>3</th>\n",
              "      <td>3.png</td>\n",
              "      <td>Aceta</td>\n",
              "      <td>Paracetamol</td>\n",
              "    </tr>\n",
              "    <tr>\n",
              "      <th>4</th>\n",
              "      <td>4.png</td>\n",
              "      <td>Aceta</td>\n",
              "      <td>Paracetamol</td>\n",
              "    </tr>\n",
              "  </tbody>\n",
              "</table>\n",
              "</div>\n",
              "    <div class=\"colab-df-buttons\">\n",
              "\n",
              "  <div class=\"colab-df-container\">\n",
              "    <button class=\"colab-df-convert\" onclick=\"convertToInteractive('df-e061a4c1-569b-4729-bca3-c186910a0073')\"\n",
              "            title=\"Convert this dataframe to an interactive table.\"\n",
              "            style=\"display:none;\">\n",
              "\n",
              "  <svg xmlns=\"http://www.w3.org/2000/svg\" height=\"24px\" viewBox=\"0 -960 960 960\">\n",
              "    <path d=\"M120-120v-720h720v720H120Zm60-500h600v-160H180v160Zm220 220h160v-160H400v160Zm0 220h160v-160H400v160ZM180-400h160v-160H180v160Zm440 0h160v-160H620v160ZM180-180h160v-160H180v160Zm440 0h160v-160H620v160Z\"/>\n",
              "  </svg>\n",
              "    </button>\n",
              "\n",
              "  <style>\n",
              "    .colab-df-container {\n",
              "      display:flex;\n",
              "      gap: 12px;\n",
              "    }\n",
              "\n",
              "    .colab-df-convert {\n",
              "      background-color: #E8F0FE;\n",
              "      border: none;\n",
              "      border-radius: 50%;\n",
              "      cursor: pointer;\n",
              "      display: none;\n",
              "      fill: #1967D2;\n",
              "      height: 32px;\n",
              "      padding: 0 0 0 0;\n",
              "      width: 32px;\n",
              "    }\n",
              "\n",
              "    .colab-df-convert:hover {\n",
              "      background-color: #E2EBFA;\n",
              "      box-shadow: 0px 1px 2px rgba(60, 64, 67, 0.3), 0px 1px 3px 1px rgba(60, 64, 67, 0.15);\n",
              "      fill: #174EA6;\n",
              "    }\n",
              "\n",
              "    .colab-df-buttons div {\n",
              "      margin-bottom: 4px;\n",
              "    }\n",
              "\n",
              "    [theme=dark] .colab-df-convert {\n",
              "      background-color: #3B4455;\n",
              "      fill: #D2E3FC;\n",
              "    }\n",
              "\n",
              "    [theme=dark] .colab-df-convert:hover {\n",
              "      background-color: #434B5C;\n",
              "      box-shadow: 0px 1px 3px 1px rgba(0, 0, 0, 0.15);\n",
              "      filter: drop-shadow(0px 1px 2px rgba(0, 0, 0, 0.3));\n",
              "      fill: #FFFFFF;\n",
              "    }\n",
              "  </style>\n",
              "\n",
              "    <script>\n",
              "      const buttonEl =\n",
              "        document.querySelector('#df-e061a4c1-569b-4729-bca3-c186910a0073 button.colab-df-convert');\n",
              "      buttonEl.style.display =\n",
              "        google.colab.kernel.accessAllowed ? 'block' : 'none';\n",
              "\n",
              "      async function convertToInteractive(key) {\n",
              "        const element = document.querySelector('#df-e061a4c1-569b-4729-bca3-c186910a0073');\n",
              "        const dataTable =\n",
              "          await google.colab.kernel.invokeFunction('convertToInteractive',\n",
              "                                                    [key], {});\n",
              "        if (!dataTable) return;\n",
              "\n",
              "        const docLinkHtml = 'Like what you see? Visit the ' +\n",
              "          '<a target=\"_blank\" href=https://colab.research.google.com/notebooks/data_table.ipynb>data table notebook</a>'\n",
              "          + ' to learn more about interactive tables.';\n",
              "        element.innerHTML = '';\n",
              "        dataTable['output_type'] = 'display_data';\n",
              "        await google.colab.output.renderOutput(dataTable, element);\n",
              "        const docLink = document.createElement('div');\n",
              "        docLink.innerHTML = docLinkHtml;\n",
              "        element.appendChild(docLink);\n",
              "      }\n",
              "    </script>\n",
              "  </div>\n",
              "\n",
              "\n",
              "<div id=\"df-ca4112f2-13dc-4232-9462-86e4630ea144\">\n",
              "  <button class=\"colab-df-quickchart\" onclick=\"quickchart('df-ca4112f2-13dc-4232-9462-86e4630ea144')\"\n",
              "            title=\"Suggest charts\"\n",
              "            style=\"display:none;\">\n",
              "\n",
              "<svg xmlns=\"http://www.w3.org/2000/svg\" height=\"24px\"viewBox=\"0 0 24 24\"\n",
              "     width=\"24px\">\n",
              "    <g>\n",
              "        <path d=\"M19 3H5c-1.1 0-2 .9-2 2v14c0 1.1.9 2 2 2h14c1.1 0 2-.9 2-2V5c0-1.1-.9-2-2-2zM9 17H7v-7h2v7zm4 0h-2V7h2v10zm4 0h-2v-4h2v4z\"/>\n",
              "    </g>\n",
              "</svg>\n",
              "  </button>\n",
              "\n",
              "<style>\n",
              "  .colab-df-quickchart {\n",
              "      --bg-color: #E8F0FE;\n",
              "      --fill-color: #1967D2;\n",
              "      --hover-bg-color: #E2EBFA;\n",
              "      --hover-fill-color: #174EA6;\n",
              "      --disabled-fill-color: #AAA;\n",
              "      --disabled-bg-color: #DDD;\n",
              "  }\n",
              "\n",
              "  [theme=dark] .colab-df-quickchart {\n",
              "      --bg-color: #3B4455;\n",
              "      --fill-color: #D2E3FC;\n",
              "      --hover-bg-color: #434B5C;\n",
              "      --hover-fill-color: #FFFFFF;\n",
              "      --disabled-bg-color: #3B4455;\n",
              "      --disabled-fill-color: #666;\n",
              "  }\n",
              "\n",
              "  .colab-df-quickchart {\n",
              "    background-color: var(--bg-color);\n",
              "    border: none;\n",
              "    border-radius: 50%;\n",
              "    cursor: pointer;\n",
              "    display: none;\n",
              "    fill: var(--fill-color);\n",
              "    height: 32px;\n",
              "    padding: 0;\n",
              "    width: 32px;\n",
              "  }\n",
              "\n",
              "  .colab-df-quickchart:hover {\n",
              "    background-color: var(--hover-bg-color);\n",
              "    box-shadow: 0 1px 2px rgba(60, 64, 67, 0.3), 0 1px 3px 1px rgba(60, 64, 67, 0.15);\n",
              "    fill: var(--button-hover-fill-color);\n",
              "  }\n",
              "\n",
              "  .colab-df-quickchart-complete:disabled,\n",
              "  .colab-df-quickchart-complete:disabled:hover {\n",
              "    background-color: var(--disabled-bg-color);\n",
              "    fill: var(--disabled-fill-color);\n",
              "    box-shadow: none;\n",
              "  }\n",
              "\n",
              "  .colab-df-spinner {\n",
              "    border: 2px solid var(--fill-color);\n",
              "    border-color: transparent;\n",
              "    border-bottom-color: var(--fill-color);\n",
              "    animation:\n",
              "      spin 1s steps(1) infinite;\n",
              "  }\n",
              "\n",
              "  @keyframes spin {\n",
              "    0% {\n",
              "      border-color: transparent;\n",
              "      border-bottom-color: var(--fill-color);\n",
              "      border-left-color: var(--fill-color);\n",
              "    }\n",
              "    20% {\n",
              "      border-color: transparent;\n",
              "      border-left-color: var(--fill-color);\n",
              "      border-top-color: var(--fill-color);\n",
              "    }\n",
              "    30% {\n",
              "      border-color: transparent;\n",
              "      border-left-color: var(--fill-color);\n",
              "      border-top-color: var(--fill-color);\n",
              "      border-right-color: var(--fill-color);\n",
              "    }\n",
              "    40% {\n",
              "      border-color: transparent;\n",
              "      border-right-color: var(--fill-color);\n",
              "      border-top-color: var(--fill-color);\n",
              "    }\n",
              "    60% {\n",
              "      border-color: transparent;\n",
              "      border-right-color: var(--fill-color);\n",
              "    }\n",
              "    80% {\n",
              "      border-color: transparent;\n",
              "      border-right-color: var(--fill-color);\n",
              "      border-bottom-color: var(--fill-color);\n",
              "    }\n",
              "    90% {\n",
              "      border-color: transparent;\n",
              "      border-bottom-color: var(--fill-color);\n",
              "    }\n",
              "  }\n",
              "</style>\n",
              "\n",
              "  <script>\n",
              "    async function quickchart(key) {\n",
              "      const quickchartButtonEl =\n",
              "        document.querySelector('#' + key + ' button');\n",
              "      quickchartButtonEl.disabled = true;  // To prevent multiple clicks.\n",
              "      quickchartButtonEl.classList.add('colab-df-spinner');\n",
              "      try {\n",
              "        const charts = await google.colab.kernel.invokeFunction(\n",
              "            'suggestCharts', [key], {});\n",
              "      } catch (error) {\n",
              "        console.error('Error during call to suggestCharts:', error);\n",
              "      }\n",
              "      quickchartButtonEl.classList.remove('colab-df-spinner');\n",
              "      quickchartButtonEl.classList.add('colab-df-quickchart-complete');\n",
              "    }\n",
              "    (() => {\n",
              "      let quickchartButtonEl =\n",
              "        document.querySelector('#df-ca4112f2-13dc-4232-9462-86e4630ea144 button');\n",
              "      quickchartButtonEl.style.display =\n",
              "        google.colab.kernel.accessAllowed ? 'block' : 'none';\n",
              "    })();\n",
              "  </script>\n",
              "</div>\n",
              "\n",
              "    </div>\n",
              "  </div>\n"
            ],
            "application/vnd.google.colaboratory.intrinsic+json": {
              "type": "dataframe",
              "variable_name": "train_labels",
              "summary": "{\n  \"name\": \"train_labels\",\n  \"rows\": 3120,\n  \"fields\": [\n    {\n      \"column\": \"IMAGE\",\n      \"properties\": {\n        \"dtype\": \"string\",\n        \"num_unique_values\": 3120,\n        \"samples\": [\n          \"2898.png\",\n          \"2976.png\",\n          \"2130.png\"\n        ],\n        \"semantic_type\": \"\",\n        \"description\": \"\"\n      }\n    },\n    {\n      \"column\": \"MEDICINE_NAME\",\n      \"properties\": {\n        \"dtype\": \"category\",\n        \"num_unique_values\": 78,\n        \"samples\": [\n          \"Fixal\",\n          \"Aceta\",\n          \"Flamyd\"\n        ],\n        \"semantic_type\": \"\",\n        \"description\": \"\"\n      }\n    },\n    {\n      \"column\": \"GENERIC_NAME\",\n      \"properties\": {\n        \"dtype\": \"category\",\n        \"num_unique_values\": 15,\n        \"samples\": [\n          \"Clonazepam\",\n          \"Ketoconazole (Tablet)\",\n          \"Paracetamol\"\n        ],\n        \"semantic_type\": \"\",\n        \"description\": \"\"\n      }\n    }\n  ]\n}"
            }
          },
          "metadata": {},
          "execution_count": 7
        }
      ],
      "source": [
        "train_labels.head()"
      ]
    },
    {
      "cell_type": "markdown",
      "metadata": {
        "id": "dwJxXTaBhpsw"
      },
      "source": [
        "##### Encode the medecine name"
      ]
    },
    {
      "cell_type": "code",
      "execution_count": 8,
      "metadata": {
        "id": "f-uPt5Dahpsw"
      },
      "outputs": [],
      "source": [
        "medicine_enc = LabelEncoder()\n",
        "train_name_enc = to_categorical(medicine_enc.fit_transform(train_labels[\"MEDICINE_NAME\"]), num_classes=78)\n",
        "# train_labels[\"MEDICINE_NAME_ENC\"] = train_name_enc"
      ]
    },
    {
      "cell_type": "code",
      "execution_count": 9,
      "metadata": {
        "id": "WpuoY3HAhpsw",
        "outputId": "a9a45be1-11c1-49b2-e103-c32898d27300",
        "colab": {
          "base_uri": "https://localhost:8080/"
        }
      },
      "outputs": [
        {
          "output_type": "execute_result",
          "data": {
            "text/plain": [
              "78"
            ]
          },
          "metadata": {},
          "execution_count": 9
        }
      ],
      "source": [
        "len(train_labels[\"MEDICINE_NAME\"].unique())"
      ]
    },
    {
      "cell_type": "markdown",
      "metadata": {
        "id": "RZbOhtWZhpsw"
      },
      "source": [
        "after encoding there are 78 unique values/medicines since we are using label encoder, we will put them all in to a seperate column"
      ]
    },
    {
      "cell_type": "markdown",
      "metadata": {
        "id": "MCzftIJMhpsw"
      },
      "source": [
        "#### Train Images"
      ]
    },
    {
      "cell_type": "code",
      "execution_count": 10,
      "metadata": {
        "id": "wCIp44Fihpsx"
      },
      "outputs": [],
      "source": [
        "#the image width and height to pass to the model\n",
        "img_width = 420\n",
        "img_height = np.round(img_width/3, 0).astype(\"int\")\n",
        "\n",
        "# batch size to reduce memory usage (and improve numa node usage)\n",
        "batch_size = 128"
      ]
    },
    {
      "cell_type": "code",
      "execution_count": 11,
      "metadata": {
        "id": "5BMYD_H2hpsx"
      },
      "outputs": [],
      "source": [
        "train_images = []\n",
        "train_files = glob.glob(\"/content/drive/MyDrive/project_medzy/dataset/Training/training_words/*.png\")\n",
        "for picture in train_files:\n",
        "    image = cv2.resize(cv2.imread(picture, cv2.IMREAD_GRAYSCALE), (img_width, img_height))\n",
        "\n",
        "    #since cv2 sometimes return a \"none\" type we will append the data after validating it if it is a not \"none\" type\n",
        "    if image is None:\n",
        "        print(f\"Err importing picture {picture}\")\n",
        "        continue\n",
        "    #apply adaptive treshold\n",
        "    image = cv2.adaptiveThreshold(image,\n",
        "                                         255, # the max value\n",
        "                                         cv2.ADAPTIVE_THRESH_GAUSSIAN_C,\n",
        "                                         cv2.THRESH_BINARY, #the treshold we are using\n",
        "                                         41, #how many pixels to look at\n",
        "                                         10 #noise reduction\n",
        "                                         )\n",
        "\n",
        "    #sharpening the image\n",
        "    # Create the sharpening kernel\n",
        "    kernel = np.array([[-1, -1, 1],\n",
        "                        [-1,  8, -1],\n",
        "                        [-1, -2, -1]])\n",
        "\n",
        "    #increase the contrast\n",
        "    clahe = cv2.createCLAHE(clipLimit=5, tileGridSize=(7,7))\n",
        "    image = clahe.apply(image)\n",
        "\n",
        "    #blur the image so that the lines are more defined\n",
        "    image = cv2.GaussianBlur(image, (7,7), 20)\n",
        "    image = cv2.GaussianBlur(image, (7,7), 20)\n",
        "    image = cv2.GaussianBlur(image, (7,7), 20)\n",
        "\n",
        "    # Sharpen the image\n",
        "    image = cv2.filter2D(image, -1, kernel)\n",
        "\n",
        "\n",
        "    train_images.append(image)\n",
        "    # image = np.asarray(image) # for numpy 1.23\n",
        "\n",
        "    # To show the images\n",
        "    # plt.imshow(image, cmap = \"gray\")\n",
        "    # plt.show()\n",
        "\n",
        "train_images = np.array(train_images)\n",
        "train_dataset = tf.data.Dataset.from_tensor_slices((train_images, train_labels))\n",
        "\n",
        "# Shuffling the data\n",
        "BUFFER_SIZE = len(train_images)\n",
        "train_dataset = train_dataset.shuffle(BUFFER_SIZE)\n",
        "\n",
        "train_dataset = train_dataset.batch(batch_size)"
      ]
    },
    {
      "cell_type": "code",
      "execution_count": 12,
      "metadata": {
        "id": "q7ylwZDNhpsx",
        "outputId": "7cb186e8-5efb-4eb4-9416-877e2ad6ff45",
        "colab": {
          "base_uri": "https://localhost:8080/"
        }
      },
      "outputs": [
        {
          "output_type": "stream",
          "name": "stdout",
          "text": [
            "Dataset shape: (140, 420)\n",
            "Labels shape: (3120, 3)\n"
          ]
        }
      ],
      "source": [
        "print(\"Dataset shape:\", train_images[0].shape)\n",
        "print(\"Labels shape:\", train_labels.shape)"
      ]
    },
    {
      "cell_type": "markdown",
      "metadata": {
        "id": "pR3PMd9Shpsx"
      },
      "source": [
        "##### Check if it is correct"
      ]
    },
    {
      "cell_type": "code",
      "execution_count": 13,
      "metadata": {
        "id": "ee0pDbw1hpsx",
        "outputId": "1f9a96c7-d15f-4a3d-b4d2-8bec19afb662",
        "colab": {
          "base_uri": "https://localhost:8080/",
          "height": 180
        }
      },
      "outputs": [
        {
          "output_type": "execute_result",
          "data": {
            "text/plain": [
              "array([[255, 255, 255, ..., 255, 255, 255],\n",
              "       [255, 255, 255, ..., 255, 255, 255],\n",
              "       [255, 255, 255, ..., 255, 255, 255],\n",
              "       ...,\n",
              "       [255, 255, 255, ..., 187, 187, 193],\n",
              "       [255, 255, 255, ..., 219, 214, 216],\n",
              "       [255, 255, 255, ..., 233, 236, 238]], dtype=uint8)"
            ],
            "text/html": [
              "<style>\n",
              "      .ndarray_repr .ndarray_raw_data {\n",
              "        display: none;\n",
              "      }\n",
              "      .ndarray_repr.show_array .ndarray_raw_data {\n",
              "        display: block;\n",
              "      }\n",
              "      .ndarray_repr.show_array .ndarray_image_preview {\n",
              "        display: none;\n",
              "      }\n",
              "      </style>\n",
              "      <div id=\"id-296bef93-b020-4c60-8cd2-70c70a2fd3f8\" class=\"ndarray_repr\"><pre>ndarray (140, 420) <button style=\"padding: 0 2px;\">show data</button></pre><img src=\"data:image/png;base64,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\" class=\"ndarray_image_preview\" /><pre class=\"ndarray_raw_data\">array([[255, 255, 255, ..., 255, 255, 255],\n",
              "       [255, 255, 255, ..., 255, 255, 255],\n",
              "       [255, 255, 255, ..., 255, 255, 255],\n",
              "       ...,\n",
              "       [255, 255, 255, ..., 187, 187, 193],\n",
              "       [255, 255, 255, ..., 219, 214, 216],\n",
              "       [255, 255, 255, ..., 233, 236, 238]], dtype=uint8)</pre></div><script>\n",
              "      (() => {\n",
              "      const titles = ['show data', 'hide data'];\n",
              "      let index = 0\n",
              "      document.querySelector('#id-296bef93-b020-4c60-8cd2-70c70a2fd3f8 button').onclick = (e) => {\n",
              "        document.querySelector('#id-296bef93-b020-4c60-8cd2-70c70a2fd3f8').classList.toggle('show_array');\n",
              "        index = (++index) % 2;\n",
              "        document.querySelector('#id-296bef93-b020-4c60-8cd2-70c70a2fd3f8 button').textContent = titles[index];\n",
              "        e.preventDefault();\n",
              "        e.stopPropagation();\n",
              "      }\n",
              "      })();\n",
              "    </script>"
            ]
          },
          "metadata": {},
          "execution_count": 13
        }
      ],
      "source": [
        "train_images[1]"
      ]
    },
    {
      "cell_type": "code",
      "execution_count": 14,
      "metadata": {
        "id": "vvub8yd1hpsx",
        "outputId": "e357c0d6-e300-43d8-8bd5-0b2576831ce9",
        "colab": {
          "base_uri": "https://localhost:8080/",
          "height": 248
        }
      },
      "outputs": [
        {
          "output_type": "execute_result",
          "data": {
            "text/plain": [
              "<matplotlib.image.AxesImage at 0x7ae5b581fa90>"
            ]
          },
          "metadata": {},
          "execution_count": 14
        },
        {
          "output_type": "display_data",
          "data": {
            "text/plain": [
              "<Figure size 640x480 with 1 Axes>"
            ],
            "image/png": "[encoded data removed]"
          },
          "metadata": {}
        }
      ],
      "source": [
        "plt.imshow(train_images[1], cmap = \"gray\")"
      ]
    },
    {
      "cell_type": "code",
      "execution_count": 15,
      "metadata": {
        "id": "gpKIfCsBhpsx",
        "outputId": "99eb6ac2-a581-4784-f3b3-406e82b0db4e",
        "colab": {
          "base_uri": "https://localhost:8080/"
        }
      },
      "outputs": [
        {
          "output_type": "stream",
          "name": "stdout",
          "text": [
            "Example label: IMAGE                  0.png\n",
            "MEDICINE_NAME          Aceta\n",
            "GENERIC_NAME     Paracetamol\n",
            "Name: 0, dtype: object\n"
          ]
        }
      ],
      "source": [
        "print(\"Example label:\", train_labels.iloc[0])"
      ]
    },
    {
      "cell_type": "markdown",
      "metadata": {
        "id": "h33Y2N2Whpsx"
      },
      "source": [
        "### Validation data"
      ]
    },
    {
      "cell_type": "markdown",
      "metadata": {
        "id": "pkguEmdhhpsy"
      },
      "source": [
        "#### validation Labels"
      ]
    },
    {
      "cell_type": "code",
      "execution_count": 16,
      "metadata": {
        "id": "ga1oX_Dnhpsy"
      },
      "outputs": [],
      "source": [
        "validation_path = \"/content/drive/MyDrive/project_medzy/dataset/Validation\"\n",
        "validation_labels = pd.read_csv(os.path.join(validation_path,\"validation_labels.csv\"), delimiter = \",\")"
      ]
    },
    {
      "cell_type": "code",
      "execution_count": 17,
      "metadata": {
        "id": "cn04IO7Jhpsy",
        "outputId": "abf99a4f-d897-4b89-8e7d-192a07e098c6",
        "colab": {
          "base_uri": "https://localhost:8080/",
          "height": 206
        }
      },
      "outputs": [
        {
          "output_type": "execute_result",
          "data": {
            "text/plain": [
              "   IMAGE MEDICINE_NAME GENERIC_NAME\n",
              "0  0.png         Aceta  Paracetamol\n",
              "1  1.png         Aceta  Paracetamol\n",
              "2  2.png         Aceta  Paracetamol\n",
              "3  3.png         Aceta  Paracetamol\n",
              "4  4.png         Aceta  Paracetamol"
            ],
            "text/html": [
              "\n",
              "  <div id=\"df-b26d2b98-c1eb-46d0-9715-6befd696f0d7\" class=\"colab-df-container\">\n",
              "    <div>\n",
              "<style scoped>\n",
              "    .dataframe tbody tr th:only-of-type {\n",
              "        vertical-align: middle;\n",
              "    }\n",
              "\n",
              "    .dataframe tbody tr th {\n",
              "        vertical-align: top;\n",
              "    }\n",
              "\n",
              "    .dataframe thead th {\n",
              "        text-align: right;\n",
              "    }\n",
              "</style>\n",
              "<table border=\"1\" class=\"dataframe\">\n",
              "  <thead>\n",
              "    <tr style=\"text-align: right;\">\n",
              "      <th></th>\n",
              "      <th>IMAGE</th>\n",
              "      <th>MEDICINE_NAME</th>\n",
              "      <th>GENERIC_NAME</th>\n",
              "    </tr>\n",
              "  </thead>\n",
              "  <tbody>\n",
              "    <tr>\n",
              "      <th>0</th>\n",
              "      <td>0.png</td>\n",
              "      <td>Aceta</td>\n",
              "      <td>Paracetamol</td>\n",
              "    </tr>\n",
              "    <tr>\n",
              "      <th>1</th>\n",
              "      <td>1.png</td>\n",
              "      <td>Aceta</td>\n",
              "      <td>Paracetamol</td>\n",
              "    </tr>\n",
              "    <tr>\n",
              "      <th>2</th>\n",
              "      <td>2.png</td>\n",
              "      <td>Aceta</td>\n",
              "      <td>Paracetamol</td>\n",
              "    </tr>\n",
              "    <tr>\n",
              "      <th>3</th>\n",
              "      <td>3.png</td>\n",
              "      <td>Aceta</td>\n",
              "      <td>Paracetamol</td>\n",
              "    </tr>\n",
              "    <tr>\n",
              "      <th>4</th>\n",
              "      <td>4.png</td>\n",
              "      <td>Aceta</td>\n",
              "      <td>Paracetamol</td>\n",
              "    </tr>\n",
              "  </tbody>\n",
              "</table>\n",
              "</div>\n",
              "    <div class=\"colab-df-buttons\">\n",
              "\n",
              "  <div class=\"colab-df-container\">\n",
              "    <button class=\"colab-df-convert\" onclick=\"convertToInteractive('df-b26d2b98-c1eb-46d0-9715-6befd696f0d7')\"\n",
              "            title=\"Convert this dataframe to an interactive table.\"\n",
              "            style=\"display:none;\">\n",
              "\n",
              "  <svg xmlns=\"http://www.w3.org/2000/svg\" height=\"24px\" viewBox=\"0 -960 960 960\">\n",
              "    <path d=\"M120-120v-720h720v720H120Zm60-500h600v-160H180v160Zm220 220h160v-160H400v160Zm0 220h160v-160H400v160ZM180-400h160v-160H180v160Zm440 0h160v-160H620v160ZM180-180h160v-160H180v160Zm440 0h160v-160H620v160Z\"/>\n",
              "  </svg>\n",
              "    </button>\n",
              "\n",
              "  <style>\n",
              "    .colab-df-container {\n",
              "      display:flex;\n",
              "      gap: 12px;\n",
              "    }\n",
              "\n",
              "    .colab-df-convert {\n",
              "      background-color: #E8F0FE;\n",
              "      border: none;\n",
              "      border-radius: 50%;\n",
              "      cursor: pointer;\n",
              "      display: none;\n",
              "      fill: #1967D2;\n",
              "      height: 32px;\n",
              "      padding: 0 0 0 0;\n",
              "      width: 32px;\n",
              "    }\n",
              "\n",
              "    .colab-df-convert:hover {\n",
              "      background-color: #E2EBFA;\n",
              "      box-shadow: 0px 1px 2px rgba(60, 64, 67, 0.3), 0px 1px 3px 1px rgba(60, 64, 67, 0.15);\n",
              "      fill: #174EA6;\n",
              "    }\n",
              "\n",
              "    .colab-df-buttons div {\n",
              "      margin-bottom: 4px;\n",
              "    }\n",
              "\n",
              "    [theme=dark] .colab-df-convert {\n",
              "      background-color: #3B4455;\n",
              "      fill: #D2E3FC;\n",
              "    }\n",
              "\n",
              "    [theme=dark] .colab-df-convert:hover {\n",
              "      background-color: #434B5C;\n",
              "      box-shadow: 0px 1px 3px 1px rgba(0, 0, 0, 0.15);\n",
              "      filter: drop-shadow(0px 1px 2px rgba(0, 0, 0, 0.3));\n",
              "      fill: #FFFFFF;\n",
              "    }\n",
              "  </style>\n",
              "\n",
              "    <script>\n",
              "      const buttonEl =\n",
              "        document.querySelector('#df-b26d2b98-c1eb-46d0-9715-6befd696f0d7 button.colab-df-convert');\n",
              "      buttonEl.style.display =\n",
              "        google.colab.kernel.accessAllowed ? 'block' : 'none';\n",
              "\n",
              "      async function convertToInteractive(key) {\n",
              "        const element = document.querySelector('#df-b26d2b98-c1eb-46d0-9715-6befd696f0d7');\n",
              "        const dataTable =\n",
              "          await google.colab.kernel.invokeFunction('convertToInteractive',\n",
              "                                                    [key], {});\n",
              "        if (!dataTable) return;\n",
              "\n",
              "        const docLinkHtml = 'Like what you see? Visit the ' +\n",
              "          '<a target=\"_blank\" href=https://colab.research.google.com/notebooks/data_table.ipynb>data table notebook</a>'\n",
              "          + ' to learn more about interactive tables.';\n",
              "        element.innerHTML = '';\n",
              "        dataTable['output_type'] = 'display_data';\n",
              "        await google.colab.output.renderOutput(dataTable, element);\n",
              "        const docLink = document.createElement('div');\n",
              "        docLink.innerHTML = docLinkHtml;\n",
              "        element.appendChild(docLink);\n",
              "      }\n",
              "    </script>\n",
              "  </div>\n",
              "\n",
              "\n",
              "<div id=\"df-ee8d9b27-d86f-41ec-8514-a634b34e2c57\">\n",
              "  <button class=\"colab-df-quickchart\" onclick=\"quickchart('df-ee8d9b27-d86f-41ec-8514-a634b34e2c57')\"\n",
              "            title=\"Suggest charts\"\n",
              "            style=\"display:none;\">\n",
              "\n",
              "<svg xmlns=\"http://www.w3.org/2000/svg\" height=\"24px\"viewBox=\"0 0 24 24\"\n",
              "     width=\"24px\">\n",
              "    <g>\n",
              "        <path d=\"M19 3H5c-1.1 0-2 .9-2 2v14c0 1.1.9 2 2 2h14c1.1 0 2-.9 2-2V5c0-1.1-.9-2-2-2zM9 17H7v-7h2v7zm4 0h-2V7h2v10zm4 0h-2v-4h2v4z\"/>\n",
              "    </g>\n",
              "</svg>\n",
              "  </button>\n",
              "\n",
              "<style>\n",
              "  .colab-df-quickchart {\n",
              "      --bg-color: #E8F0FE;\n",
              "      --fill-color: #1967D2;\n",
              "      --hover-bg-color: #E2EBFA;\n",
              "      --hover-fill-color: #174EA6;\n",
              "      --disabled-fill-color: #AAA;\n",
              "      --disabled-bg-color: #DDD;\n",
              "  }\n",
              "\n",
              "  [theme=dark] .colab-df-quickchart {\n",
              "      --bg-color: #3B4455;\n",
              "      --fill-color: #D2E3FC;\n",
              "      --hover-bg-color: #434B5C;\n",
              "      --hover-fill-color: #FFFFFF;\n",
              "      --disabled-bg-color: #3B4455;\n",
              "      --disabled-fill-color: #666;\n",
              "  }\n",
              "\n",
              "  .colab-df-quickchart {\n",
              "    background-color: var(--bg-color);\n",
              "    border: none;\n",
              "    border-radius: 50%;\n",
              "    cursor: pointer;\n",
              "    display: none;\n",
              "    fill: var(--fill-color);\n",
              "    height: 32px;\n",
              "    padding: 0;\n",
              "    width: 32px;\n",
              "  }\n",
              "\n",
              "  .colab-df-quickchart:hover {\n",
              "    background-color: var(--hover-bg-color);\n",
              "    box-shadow: 0 1px 2px rgba(60, 64, 67, 0.3), 0 1px 3px 1px rgba(60, 64, 67, 0.15);\n",
              "    fill: var(--button-hover-fill-color);\n",
              "  }\n",
              "\n",
              "  .colab-df-quickchart-complete:disabled,\n",
              "  .colab-df-quickchart-complete:disabled:hover {\n",
              "    background-color: var(--disabled-bg-color);\n",
              "    fill: var(--disabled-fill-color);\n",
              "    box-shadow: none;\n",
              "  }\n",
              "\n",
              "  .colab-df-spinner {\n",
              "    border: 2px solid var(--fill-color);\n",
              "    border-color: transparent;\n",
              "    border-bottom-color: var(--fill-color);\n",
              "    animation:\n",
              "      spin 1s steps(1) infinite;\n",
              "  }\n",
              "\n",
              "  @keyframes spin {\n",
              "    0% {\n",
              "      border-color: transparent;\n",
              "      border-bottom-color: var(--fill-color);\n",
              "      border-left-color: var(--fill-color);\n",
              "    }\n",
              "    20% {\n",
              "      border-color: transparent;\n",
              "      border-left-color: var(--fill-color);\n",
              "      border-top-color: var(--fill-color);\n",
              "    }\n",
              "    30% {\n",
              "      border-color: transparent;\n",
              "      border-left-color: var(--fill-color);\n",
              "      border-top-color: var(--fill-color);\n",
              "      border-right-color: var(--fill-color);\n",
              "    }\n",
              "    40% {\n",
              "      border-color: transparent;\n",
              "      border-right-color: var(--fill-color);\n",
              "      border-top-color: var(--fill-color);\n",
              "    }\n",
              "    60% {\n",
              "      border-color: transparent;\n",
              "      border-right-color: var(--fill-color);\n",
              "    }\n",
              "    80% {\n",
              "      border-color: transparent;\n",
              "      border-right-color: var(--fill-color);\n",
              "      border-bottom-color: var(--fill-color);\n",
              "    }\n",
              "    90% {\n",
              "      border-color: transparent;\n",
              "      border-bottom-color: var(--fill-color);\n",
              "    }\n",
              "  }\n",
              "</style>\n",
              "\n",
              "  <script>\n",
              "    async function quickchart(key) {\n",
              "      const quickchartButtonEl =\n",
              "        document.querySelector('#' + key + ' button');\n",
              "      quickchartButtonEl.disabled = true;  // To prevent multiple clicks.\n",
              "      quickchartButtonEl.classList.add('colab-df-spinner');\n",
              "      try {\n",
              "        const charts = await google.colab.kernel.invokeFunction(\n",
              "            'suggestCharts', [key], {});\n",
              "      } catch (error) {\n",
              "        console.error('Error during call to suggestCharts:', error);\n",
              "      }\n",
              "      quickchartButtonEl.classList.remove('colab-df-spinner');\n",
              "      quickchartButtonEl.classList.add('colab-df-quickchart-complete');\n",
              "    }\n",
              "    (() => {\n",
              "      let quickchartButtonEl =\n",
              "        document.querySelector('#df-ee8d9b27-d86f-41ec-8514-a634b34e2c57 button');\n",
              "      quickchartButtonEl.style.display =\n",
              "        google.colab.kernel.accessAllowed ? 'block' : 'none';\n",
              "    })();\n",
              "  </script>\n",
              "</div>\n",
              "\n",
              "    </div>\n",
              "  </div>\n"
            ],
            "application/vnd.google.colaboratory.intrinsic+json": {
              "type": "dataframe",
              "variable_name": "validation_labels",
              "summary": "{\n  \"name\": \"validation_labels\",\n  \"rows\": 780,\n  \"fields\": [\n    {\n      \"column\": \"IMAGE\",\n      \"properties\": {\n        \"dtype\": \"string\",\n        \"num_unique_values\": 780,\n        \"samples\": [\n          \"595.png\",\n          \"587.png\",\n          \"543.png\"\n        ],\n        \"semantic_type\": \"\",\n        \"description\": \"\"\n      }\n    },\n    {\n      \"column\": \"MEDICINE_NAME\",\n      \"properties\": {\n        \"dtype\": \"category\",\n        \"num_unique_values\": 78,\n        \"samples\": [\n          \"Fixal\",\n          \"Aceta\",\n          \"Flamyd\"\n        ],\n        \"semantic_type\": \"\",\n        \"description\": \"\"\n      }\n    },\n    {\n      \"column\": \"GENERIC_NAME\",\n      \"properties\": {\n        \"dtype\": \"category\",\n        \"num_unique_values\": 15,\n        \"samples\": [\n          \"Clonazepam\",\n          \"Ketoconazole (Tablet)\",\n          \"Paracetamol\"\n        ],\n        \"semantic_type\": \"\",\n        \"description\": \"\"\n      }\n    }\n  ]\n}"
            }
          },
          "metadata": {},
          "execution_count": 17
        }
      ],
      "source": [
        "validation_labels.head()"
      ]
    },
    {
      "cell_type": "markdown",
      "metadata": {
        "id": "IQb3qFighpsy"
      },
      "source": [
        "##### Encode the medecine name"
      ]
    },
    {
      "cell_type": "code",
      "execution_count": 18,
      "metadata": {
        "id": "KIYWCGSDhpsy"
      },
      "outputs": [],
      "source": [
        "validation_name_enc = to_categorical(medicine_enc.transform(validation_labels[\"MEDICINE_NAME\"]), num_classes=78)\n",
        "# validation_labels[\"MEDECINE_NAME_ENC\"] = validation_name_enc"
      ]
    },
    {
      "cell_type": "code",
      "execution_count": 19,
      "metadata": {
        "id": "98B5im5whpsy",
        "outputId": "b1e86086-23f2-4d1e-f09d-9a8b5e6c179e",
        "colab": {
          "base_uri": "https://localhost:8080/"
        }
      },
      "outputs": [
        {
          "output_type": "execute_result",
          "data": {
            "text/plain": [
              "numpy.ndarray"
            ]
          },
          "metadata": {},
          "execution_count": 19
        }
      ],
      "source": [
        "type(validation_name_enc)"
      ]
    },
    {
      "cell_type": "code",
      "execution_count": 20,
      "metadata": {
        "id": "fbP-PG7Phpsy",
        "outputId": "cbdcc89f-88f1-4b7f-8716-2354d8d3c701",
        "colab": {
          "base_uri": "https://localhost:8080/"
        }
      },
      "outputs": [
        {
          "output_type": "execute_result",
          "data": {
            "text/plain": [
              "78"
            ]
          },
          "metadata": {},
          "execution_count": 20
        }
      ],
      "source": [
        "len(validation_labels[\"MEDICINE_NAME\"].unique())"
      ]
    },
    {
      "cell_type": "markdown",
      "metadata": {
        "id": "8PU9psHbhpsz"
      },
      "source": [
        "#### Validation Images"
      ]
    },
    {
      "cell_type": "code",
      "execution_count": 21,
      "metadata": {
        "id": "46QktMpGhpsz"
      },
      "outputs": [],
      "source": [
        "validation_images = []\n",
        "validation_files = glob.glob(\"/content/drive/MyDrive/project_medzy/dataset/Validation/validation_words/*.png\")\n",
        "for picture in validation_files:\n",
        "    image = cv2.resize(cv2.imread(picture, cv2.IMREAD_GRAYSCALE), (img_width, img_height))\n",
        "\n",
        "    #since cv2 sometimes return a \"none\" type we will append the data after validating it if it is a not \"none\" type\n",
        "    if image is None:\n",
        "        print(f\"Err importing picture {picture}\")\n",
        "        continue\n",
        "    #apply adaptive treshold\n",
        "    image = cv2.adaptiveThreshold(image,\n",
        "                                         255, # the max value\n",
        "                                         cv2.ADAPTIVE_THRESH_GAUSSIAN_C,\n",
        "                                         cv2.THRESH_BINARY, #the treshold we are using\n",
        "                                         41, #how many pixels to look at\n",
        "                                         10 #noise reduction\n",
        "                                         )\n",
        "\n",
        "    #sharpening the image\n",
        "    # Create the sharpening kernel\n",
        "    kernel = np.array([[-1, -1, 1],\n",
        "                        [-1,  8, -1],\n",
        "                        [-1, -2, -1]])\n",
        "\n",
        "    #increase the contrast\n",
        "    clahe = cv2.createCLAHE(clipLimit=5, tileGridSize=(7,7))\n",
        "    image = clahe.apply(image)\n",
        "\n",
        "    #blur the image so that the lines are more defined\n",
        "    image = cv2.GaussianBlur(image, (7,7), 20)\n",
        "    image = cv2.GaussianBlur(image, (7,7), 20)\n",
        "    image = cv2.GaussianBlur(image, (7,7), 20)\n",
        "\n",
        "    # Sharpen the image\n",
        "    image = cv2.filter2D(image, -1, kernel)\n",
        "\n",
        "    validation_images.append(image)\n",
        "    # image = np.asarray(image) # for numpy 1.23\n",
        "\n",
        "    # To show the images\n",
        "    # plt.imshow(image, cmap = \"gray\")\n",
        "    # plt.show()\n",
        "\n",
        "validation_images = np.array(validation_images)\n",
        "validation_dataset = tf.data.Dataset.from_tensor_slices((validation_images, validation_labels))\n",
        "\n",
        "validation_dataset = validation_dataset.batch(batch_size)"
      ]
    },
    {
      "cell_type": "code",
      "execution_count": 22,
      "metadata": {
        "id": "Z3S5Ufc-hpsz",
        "outputId": "5d40ae94-3238-42b9-8f11-60835ca73b00",
        "colab": {
          "base_uri": "https://localhost:8080/"
        }
      },
      "outputs": [
        {
          "output_type": "stream",
          "name": "stdout",
          "text": [
            "Dataset shape: (780, 140, 420)\n",
            "Labels shape: (780, 3)\n"
          ]
        }
      ],
      "source": [
        "print(\"Dataset shape:\", validation_images.shape)\n",
        "print(\"Labels shape:\", validation_labels.shape)"
      ]
    },
    {
      "cell_type": "markdown",
      "metadata": {
        "id": "xJOZKLVZhps0"
      },
      "source": [
        "##### Check if it is correct"
      ]
    },
    {
      "cell_type": "code",
      "execution_count": 23,
      "metadata": {
        "id": "2ZlyJlOnhps0",
        "outputId": "fa32ad68-50c9-469d-c3f6-0a5d45a1dfb9",
        "colab": {
          "base_uri": "https://localhost:8080/",
          "height": 180
        }
      },
      "outputs": [
        {
          "output_type": "execute_result",
          "data": {
            "text/plain": [
              "array([[255, 255, 255, ..., 255, 255, 255],\n",
              "       [255, 255, 255, ..., 255, 255, 255],\n",
              "       [255, 255, 255, ..., 255, 255, 255],\n",
              "       ...,\n",
              "       [255, 255, 255, ..., 255, 255, 255],\n",
              "       [255, 255, 255, ..., 255, 255, 255],\n",
              "       [255, 255, 255, ..., 255, 255, 255]], dtype=uint8)"
            ],
            "text/html": [
              "<style>\n",
              "      .ndarray_repr .ndarray_raw_data {\n",
              "        display: none;\n",
              "      }\n",
              "      .ndarray_repr.show_array .ndarray_raw_data {\n",
              "        display: block;\n",
              "      }\n",
              "      .ndarray_repr.show_array .ndarray_image_preview {\n",
              "        display: none;\n",
              "      }\n",
              "      </style>\n",
              "      <div id=\"id-0ac2586c-87ee-476c-b6d9-01346acb931d\" class=\"ndarray_repr\"><pre>ndarray (140, 420) <button style=\"padding: 0 2px;\">show data</button></pre><img src=\"data:image/png;base64,iVBORw0KGgoAAAANSUhEUgAAAaQAAACMCAAAAAAWr4IGAAA43UlEQVR4nO2955pcN7IlGgG/XbrKqqKk02fm/d9qpk/TVKXbFh4xP4qkSJEsw26J0r1aP/iRzMy9ASwgEAgHJPheFAZA+N0//xvPBn4/SX/jjwL7zt+VZ//n3/i38fdK+gvge1fS3/gD8T0k/S3V/mB8D0mf/CYnCP+xtvyNb0C8+Bcfte7iA3jmaqbq/2yb/sZv8GKSyod1lHp2SXEGzteqXf2Hm/U3PsVLtbskCAEIo/fDNE4u8rjmq93GNL9P+/4GfJcKTlgoXvJlOVz8kL0W3XrX3l5Vv0Pr/gYAvFjcFQaE2cE0DadjPx6ds1xu94dfIGy3v08L/8ZLSWJQWHHRH/vj6V1/f3bW12a+fzV5H1jLP36v/H3++g/iZSQVBixFP/an0+nN5e0wDskpaG5CzDZK2nz84t8c/SfxMpIYAIXgTuPp9dvzv5a3YSiFmJv64CgVG6/+Juf3wItIKgwi2HC0d/88vD2+G5bRkudy2UCcS0JZixV/+il/WvxpZfSLSGIAEGCaX7+5vH7X9/MYY4IYWRxLISosFrb+ndr5ByD/aSfYS0gqDGJYpsvhcvnX277vY2ZYxwAl8DczV8mgMLz93Zr6O+PPy9GLSGJAscSwXC7vzvY4eeSycVIFSgvT73I21AgS5sPX/7TS46tILzeQ/WF4QdMKA+Te3Z/74+F0nkjGtWRthGlOUA4ZocYaheLy/ff/UhwBh8wLg4J/woCAF5DEgMoUBj/1b5ehL5lvK2E0nqVallgWUv9XtKw9V/LpR/0JgYVnKpQ4xy95+sGi8AUkJVZmPoXp7jC9m1KWrdluFeTNYbiEADZz/k6rFZPsr7gtZYCcAjmKgnTF1eef/uDt6vkkZQGgjmG+H+clZypa7W7atWan+j4GPkKcj5WoRdNI9hd0XSBLpfjSOyjA61a2fyZ58HySOMDsoz378XIZnGvrdrv5r5XxzYUDRZtoYXe4qv6pq9VfkCRGjFwe+nTBpZF1s+6M+fTzHxq79mySCqMgrOuny3kMPlVGX+9/2e4EhIaVUPySIY31O94dteHd79nk3wMZMIU4j+NlsFCq1lzpq7UxvzLzQ9WJZ5PEIJclzM72zvfAGW5WV1evNpI5BDdMVziAS1Xd3JnVZWP+TMLiOWBIpZCf+/NxCq7ju8tqWHftTv/ohgHA80kqLDKW3Thf+vkciMz19mq33lxV0UH8OZGfWIEy37fnzWF1bMSfUJF9BElAYD5Orn97nM7snbiY2/ZmvQ+7X2XCDxR4zyWJkfSzH+1xCOcsZqWbZnt1tdlIiuXncGnXNo6lTOJetc2qPl2rpx/5JwIHoEIu9mc33Y8h1ofmuBlWwy2Gqw/f+YHT7pkkFYZU/OQvfrzPs2Xtqllvus3GKDWs6WZwIcxlhOTs0veHnU1/LZIQMlviNI3x7m48TvzU1tNluoo+/iL/BOEbzyQJE2Wf/DBdTmlO0PLN5nZ7tZGm9m3O5xvrL9dBBbTLeFpfn9a1eM/SXyKiPwPEGIbF2bObD/PE86Lai11CQK3Mj59vzyVJFFeWyzwd53EOOl3VXVut+KbC1rX21l/Zn5JLEHAyu+G0cu5DAOVfgSMAHvjosz1Np3lKNoaSXF6YJwRd6Kcfbt96HkkZWc6Lz/eXfh4y5+um2bWv6k6RBBW3/irZyQWbc1L5WJ/371a9/mvQAwAACCmW5XQZjuHkQsyieMaWuC6AFXTV5kez9DySkAVLbuj7ZXaUQep2s15pVQkBwLncwuV6Hk1lA8XR+PM4X9bjn0CWPxcYREwh9md7nJaoWJYccvHngpxJw/Wv4Wo/xrL/PJIYMG5DntIULkNqebVtN5tubQQhFIOaX9Px1eyzKyykfne4Hse/UoQXMZf9MgQ/ThFQgFTJMz9XZ0Su0eDtxwn3Y9bUs0gqDCAX6/w4jF5SXJt6r+uaycIAGADrSnU1tI3oaG6WZdj3e7/Ev9CBljDkJZ3GUwxzNkpzXw+FWzrX/5SsYiB+rKHrWSQxIudDGs+9DyWWVb3fVbuVqDgAQC7MQGrrm2HYTqCsiX4YL327/JU86QQLCxDKMhfNWsVWy6a64JTfxaooKuLVR8HwI9TV54m7kmWa5ymmechxpdZ61a7qTgMAFM6511C358qoyjlMy2U9hTG61Qu787m8/4Olf6nOsLiQkfs1EwJq69SI/gIyV1Jivv4w5X6EPvQckgojWjDEMPVZsEo01XqzqmvkhAAMIPIkTbWqpNQIYGVelstP08q+UEawR/71O4NyjjFwkTGSyEUbIpYphcDSpN7kxEmJ6n2LfsBSeg5JjHgOw2zHucwOZa2vdt1tZZr3s4o0xSpWKOqKGBGDxS5lsSX+vi3/D4KyUpJzBixiiZWmYLABoe0io+uNriSosF8/dPdPKu4Sp5wxDs71oRTT3u52W92tP8x1BFI+o6wlNmezpBi8X0IKL0oFoB957KVqToEhIkpIOVrWcqGyUmbjEsOxRt0qIfCHbbLPICkLWEIax+niUlBFm7bdrK8/DVZlYLqlZkpykYC5VcnJMkcvEAw/NlaHSlGCAQELlIRlyjEU+9B6nymyppTpXSWxYg8m8T9e3j1jcDgk6RYfbOpTwFJttu31pvtMwWbEpFSVFFyFjCX5OQ5X+QWdEQCFQWGRf7YX/THjQTIjKcEaxhWlXOVFZWxUy7EsE5tFceP6rLteTC3Aj5B3T5NUWOSzjdN46f0Z8rpp5KbWv/GGNUGq7Z3mjIPg3mNhupTnK2gZqQjwMXMk+cmj/5jxQCgFoJgkUyYxpwzCcG5awdlShr0TqY0Q3NKYHxRK+DRJjKQNeXY2DgtHKKTqjdz81jS8Svau3t2te+0l4FLieJ3zs7vEATiMMbtEkkvzx3vfawdIQBWKmIVtCki1uapb5v0yhFmhjCnnmPOPicp7kqQMmGJZwnDp/TwvhtWceUi//RpH1TV6269slQUyzIzBszWHjMSDi6NNMwCuW/jV/f7HzF22AACg8NyHBM2iKLfb5lZqcvN6tkRN1TKElOGHmFGeJAkZFB5pmeLkQlSUSyw5Dfq3s31l23VrTKXIlRT9Ekt5doeQQQguuPEeJgHTNqz2Hz76Y+QLIWOMCy+DEAGjYl4p3jWbGoKd7VCcrowSkJHBj4iUfJIkBjENth/CMFjrQCQf7WlT1bH9XOKJqqmbdWPqwbCSAqbZTs8VWwxSQloOl+PgklmmOeXbD5/9QdsAepmTTjoHSFpgw4Rptp0xS9P6lS0kas2NIADCPz5S8imSCgMgFqdlmPJSMhMxzNP6LrnuonVThPjQ5EBYG2W6C1lgOfn8/MophUUmLv3pcHxjXRCn28TVWL9/8B/CESJTuSByLCrxGCVrVdu0645qn3tRYTLaMKGIfojZ+CmSGFDMs/VuWi5DDNKCm4+Ql3iptJCGSylUzROz4FJEo3MzIxGmMC/z1RPP/vUdMs1+7pfT6TAnsWWckMMfqD0khj5kAucdJoK6rup63a1qjQrR7+oSWUZRC8E4/oi48CdIKgwAfbZudrPjSw4NjYBuXh9Np2rWSiVVhUxocstsIVJ1RuLOxSXmkpx5/Okf3xF9WqI9Hc6XY+pCDrC659Ufd75ljDFZABnjEE0iJWQluOKsAmpUktYUwUgwXhL+AGn3FEkMSko2TvMwLHYMwGbKtOyOXae1Nk0NdVUjl0oncra/2GyJZBQ8Fhe8fV4BDgZQwNP5fBzvhilEBXr9P8adtn+YZMEYZEzkPHdFFmNU14qm00JmjiBAyJIYgMkk2A85KT1OUmGAPMIlXcZhTq6kiCxm5c2oqa5q0EZLqU2FLZXiDstlyVFaYItzYbx9rom1QKYwLrM/TuchDJ1oXpuL5PUfRhIBX4IGrgID4ckY1W1WsjaKAwCyoqJGQAJZfown83GSGBD5MvvzPMfRRkgCcxlJ66IqrLLRSnZcKlmhgJzDdDpNi09QYiKU+VkGOQJEzDbZZRi9WyYEO/bV2K/ntv7DZi0yYSYXQuQQdE3a1Ku6feAIMueQgYAAgf05LQ4Y7eiDH/zZprJAAUDSaWZ8LEpJzgXWXEqFXCIt1i0uOMGKlMWFGP3T8i4JAAgl2bMNx+NoUw6pmod+6DcxPGtL+w8A+VIwaFOqzAzhatVtRdepB0Y4AP3g0LvHSMrAE0Usl+Hoel8sIBYAAP/wMSLUZMigEJKYKNziHGIK3sSYiKesntE3AQBYor3E47u5uBAhVS5SyuDiv1f88AW7B1oVIjknPCvEdKFOtozJj83/d21B/66d+DGSOIDI1M/+NJx6H1KSAUSiDzWjiGCCmUlCJkrjjdXBqUkFExRmF4l7etZAZfTzZTpfnOtTyoChDQmtp/zveQ1fssfr4DIqpBJBSGq3qNum+77l89u3zlgiyx41iKTlN7a0J5r6CEmFQeZuSufzPHs/TZkKE9xQopLf84QEPCdZSrZ8YAMrHjy4GrNnEEIK1XPGic1TXJaLPQ7LnCI0IFBCxangU5va4317gQ0+W83JxSyZDiSAackZ+74jwCdvpRicLy4nl1ViSUNttNZfi3V7oqmPtIQBYHR2sKfL8TSMJSeoBQcpiVgkRywBEUMsLGZWMpUPJoYYvAg2EdCz/L4s59P5/nga5ykHBMLUCcaUNE8O0xN9e66UQRblWCLw6PLCpWIgG2jYvyejEi3Zj4vzxc9EmTKXRou2bkWtXxog9tg4EEFy83h3uUzDmFNUgou2lkxjYtmJhScCFmXxBQOk6D7YxqPGZVnSvCzP0e/K3B8u5/5w75YSWRKsUYy3WlWcnu+vjRBSLKQVF78eNp87yqxA4G5JY04gnASBlHT6DmH768rOLrjFn71zfnDoEzkOksya7atm1RpT4ZfC9Nty4ZvDQAiIk432cu6Ph0v0Fj0Is+rUqmKQA/MReC6QUhYLy65MYPMSAADQZ0CIpZT0mM76PqzB2bkfDm8Hf3HJAkglN+u9WWlGSgDhN5fDr1ERqfjJB09QuBFNo7+jZGkJDgeYc4iKWAQDVL4jBPdjZ90y5JO/T6fSu7JQcDlSEUyY3b+61bo261Y0Rhj+9V9/gW91KAkAKMxOp9N4uczLGDJjZKqm3d4IJTibeArkZXGCPLnoyIVllm7JABT90PZ+iH55RIl+mDgRvB3G/zn2x8M8LFiMErrtzE2zahoCwG8uhw+rLNKS8ji6Jc2ZG1zX26Z9YVGWmEMOfk4TFJeIk2AlF/p+3TIskx+P53GZXe8wzNHHGH3R3tT/t+vadtOZtjHNuqpWz9s3v0WSAIAyj24+TnfHcbApAPFGNPV+s77aMkzSBb4UDMCST+RocmO87w7iDAAQAaH/2dIjsShJAABlPIX745vh8HYabQTkqDdX2/rGtLX5lir0sYGEOVMMiz9O/rz4gNGITTPusv8Q1/O8MWDow1Imn4ZzwbABlpNKKj/rtx/x63yY0sWe78bzeR5CjoEyuWxDzvdqSmolVmtdb+qu6tpu1XZr/a3HfN7Xb77WIwx30/35dFmcA8CSZVGyu91sN6ghOyIKFIovPpYQ52no/ofKbozAXRz2GEv23366AEIgnO3xdDi9Ofbn0XpivDKmW91udmupBBCWb41zRiLh0cVxmHvbnxd/CUUYsesciab+kLP7nKWU+JIZBTtOOfuAvkYlvQjyRWa6j7bxmMflMvzP8XSabY6RU4XeLBpni86DGNVZ1ytVtyu1WXf73VJdfUbBV9/5dZIKIlCK02mYT/fTMs2JAIqssFFKy2ZlrqC2MucYILIZs+PL7M6rVr3JBx4hE3GfrXdYHrEZIwBN98vx+Pr+7jhfUgFURq33++3V1arpJEf69lJgCOBguSxzfxmH03icaeKgVsOVINrzrXmkz188SixLmH3xrkRgWWDmHHl4iQ72sZ8hXfr78Z/H03QZyTMtK8ZWXntLbM4ADkNf83e6Fe1q1Vzd79c/D9v1UwbBr5PEACCyMg7z6/N4HMbEZJFKGIUciKJsdcX3BB5hVs7JKaZmk7ZnnoaddZ6A5/EmEhOPjhFhHMZwf/fP+/9zvtzZFMig2lxt9jfX624lBNIjzhtMwufZjufD8np5PfhLmIvgYtmgSFxWFT4/uR+j54kCWR89JCYgycCFeFF1gPcdzcme5uPhcHe49BO6Wq4q1iqeLU3jXPkhBm/ZGYQ5irVctafV4dV0Pc3bz1M+v+j0V0kiBMJkh6X/13S5G5ciAjM1r2pZxeyn5oxCVMChBqhK62KVIE1WSQCXL26JAEHnhD74x7Rg9M66N2+P93fn0ztrM3DadNvVf21vN6u1lJw+maC/RWHcRTtfLod393dDf+69BZKyVnM11quLKTfvtbNnnJUI+CwzuBBjChwUb6u6Yfz5wu6jXCx+HC5vj6e3l/u5OFbXjd6sjRRijOHkz1M3pjHQJKjXzMnz6rgZzteH6/F803xSZPjLSkZfIylzALQxjufT/O7NYF0msRZirRVWsgxGkzkz8167ZlADgI91XxU3H+puqQdiKaVkZTaPZaFbmKd/9cf/c3h97CdLAKpbra5/Xv33zW5X1ZLjI9KKQZQ+uPP5zevT6+luiRaIDIs5UrF9PXT99mE+PuusRMzHlAmACkFMuSBX1fNX0odWujSf7sY3lzenk7XE63q32q1WdUXxlzBtw8UN59BH29iE5HROvl3G/bhczrf9btV9Em7625n1NZI4YSZY5v5w//bdebGz5NJ0Xa25iib7s43hlvKu/kS/1rpk5cKym8ZRG+vbnJOamfvqGBEgEOZkh8Pln+/evT5eepcBKqPrq9v9L7vVes14EYV921OdOU12uhze/evt29NhKpYKtZkLaKkglDTXLzJqErAgY4yBMyk106zwFyp3ABDc5XI4vzm/OcwDMl41+83VZtvWSvC0rG/7V4dwHnfzvNg5eZHRV0NgPgy7sGzcHEL7sbrZb5v+VXGHQMm7w/n07jyNy8DyqtnsG1VzyinRafN2cv60rG4/qb0DbHPq/LyuTSUQRS6A43/nHL6yJ6YHy3fw58Ppzeu7d8O9nzKArvTt1S/bV6/2+5oqBfAoR54wLv043J/PlyUsCZhIdbtad/W2q4tkwT/Lbvixx8gdIjIWoGAOjL3cO5FtP745vX1zvptsEVxdtb+0N+vdimleymbJtevc1TDN9hzH6L3NsaBwsqfpX/0y3/Y366nuvq6UfkkSAZZCebwsx8vpX5d5EqjbfbvfbSUPfvRL6sdzOP/kN/NV+0lpO1zBUplaSSNTKOgsG2f62nwUQAjRxcN4f/9mOIxvoyMAI/Wr9fX1P15dbdW6psKIvq0ZcpBzmv04HsZ+OGXLBKtg3zTrvbzRAptcSvb8BWsJHSACAAFLtoC13r3QCbtMy+vD6c3xX32/cGDNT93tT+t9tTaqZgFzZzu/uHCI8+L7aV5mmnMgnmuWBoglx32eX5W8ediFfzO/viApCQAQk1vGu+Ftv4x9ELJZXb161bWrmPv6iMEmNV1P02oat5vmV5q4kW1dr/tDM2ta9tEmXL5ybCcEhGTjcLk/v757fXcf51CgadT+dvPTT7v1umsUCnhE/YbCIoNA1g59PwUdW4Kat/qm3jd73ZkmASMB37Yofa1R73OtgDiUcYmzdS8iyc3n8Xj/z/t3JzsyJtfXu59v25/aFdsgAyGKkxAX7zZumJergU4hjCkGSiCIC+bPRWTKtyTk1wogfkGSAEK2pOHc92/u35wuqLBtd7c3m9utLvPmQKVm1kJu5609Xb1au92HwWSqmbqVZt2JMxTeLml69aU6mTlAZrlM707n1+8O7+Y0gVCtbLrb2+t/XF9dNau68MIe2/IZyJhtP14uUyYOWhhZs3Vd7Vf1ilctr1o0TL3c1UaliDyb2aZDe9L6+RIv++n05u7+9elf4+iI6+3VT+tXV5t9XVXIWOGRKh7nbYhpafNi03gdRxdC9JCd9jKxks4M9KCm9ddis7+yJyEE5+f+8uY42xgZ19Xq583N9X6tubsQSnVwkOxcj+NuGNfXU9u9V4SkabRU7ZtqscVahFCW6Qv3CScEbuP5NNy9vntzDtYyZI1c79bXVze7zXa3ZSToUY4KAx9iXuyYirOirWTb8pVo61VtmkpJUWUJ3L08cI/0VCTzebyvzhX3a9MkARF4xiBSiSig6AyJgFGu8Fd7e3H3p9P9/evX56ObBKvXr3b7f1ytbmsjUbAikoJYRJuYhiqmil82NizZhZAClUXOiAx4JGt66fArjPzmvwgQIObYny53w3S49BC13l9f/bz/pdkBCqGFKFmd3FhS8OPpsprHze2HDa9ZGq214AKBYJlCTPm3ryTEgiH0p8Ppzes3/WEasxRNt2733U9X25urtibNnghtY1CkD0Pul2mEylf7uulareraKFnxwjnJAtPVw6bykvWEmZXiGhsummX7aulOAnlksUDKOSuvkGSGCCxwYLLmWmkOlIO/7+/fvr0/vF0uDlWz2e9/ulnvOimYwsQABJAEyKpKETXUXpZA0dlcyiRGtCEmYihkIR5j57/U/T8fxCQAIIW4jMf7U3/XR+Hb1Xb/6mp/1WxqhtXMBLL6DcypLH7xs9sup31/s38IsBe8aYypDTEqKeWQ0m/Vu4cXxPNl6f91OvV3g8WVarr2arXbrm/X3bYT8qnww8KALWEKF+tnjLBZ76pX7VqZ3IBOyIBCAORtqh/UyOdzRDmxQjx5610v0deVFgCFZ2CplBJ4RpIZpOU5c8M12whVJb3EQz+8uX97eXfwUalqu795dX2zvaprzRDEh1aQBiBVpYiS+BJdG0MK+3lXogOfF2GIiUTcV19qLOKLf6Wchv4wn+7fDha8ket9d3uzu9p0lYK50xorJps7NkaMRzEerw+nn8M07DYAwIxsWqo4lzF6Z22hnH77ugKQL96/e333P+/OS9BMtN317rq5We+bdtWh1k9lzDAoKS9xtuPgbG6qZn31825VapYzllgWSYAE9ZJfWjiHtPJolNIM7FS/2S+KKSCRCvqYSxJWM5KZBYwZQLLKtFXDSHjf98c3p3cnG0lgt7t9dfPTZrepKgX4yQh/5MkEvVRtyjOjNuqUc8dsuCpRdtogL+VLy+5nJBUGUNi4TP39m+PxMi9BmG1b/2NztV+3lSylyaA7pg/CnO+aM0Tos12Pw3n/j5xXEgCMbNZnkBNJzhCnhfJn4iYDRxyXeL67P7/r+yno1DSb2931fnNtVlXTQCWSeDzcOgNmssn2/TLbhRLvtq/WO916TKHEsoQUJVTMsRdY7x5c5QiZ86J4pYtIlg4daqKUCcGJmBLDhCQzJojEkhRSyw5rkYod5vt382FMgVX75tVuv92vdmuhvxAJ73mqouJiLobHkXuBUvm2BF5EaUQlZEb22wH4jZ28sBQXe386nN8ebcAKV+vbX/b7XWMeKueTpkpfRK2UOelTdRIDd95ZWy4/3zZd4GAkY1VtffZ2GSPzn28JyCDFEI7j8f5uvnc2UVPf/LS9vtluV10tjRLAAR4/oSDLefbTqb+86yfKRXCZpWBeUOAl+8wsSXCmYPTymedZ9BwBGUOSrlWNNFvTSsJeDJABmQe06LgjhUUVCBQhsGQEtVhLBJ/65RjOC/lWbNvb25tXr7aryjDkX7GVIgCQJJ45s4uniaww0TCdTJQARgFV8IX17lOSCIHlEP39cHd614+XmXTVXjX73c1121YCoCBWaun0orFd6V4f5JRxDN65+efkbocmMuJV1d4hRM4Q8uLcZ29jQJD8PJ2Ol8Nr55Ix283N9n/dbLd1XamaAYjE8fEDCiuMwE/+PDkbe4XkLfPntpohu0ilFAY5mOCa5wduE/OMiyB8e2lY3W32rWkEpww5exlYYIUyJYCZzEzAc6LsUvDyyJELX9BOLvUsb1R3vb69ebXfm9ro9M3phkAUIJU0zSGj0B1UvEajsipFC6+/oPYTkpIAgOj743y8v7s/Lz4Y1lXml27dyVoxBEAUnmntiVXnVm4O1Uxs0i4F75y17mrmS+SVVk0oKthlTguy5RO3TGEU8zKNp/P92352s6zW25ufX11vd1diqxhDYs/Y6VNeZju8G8/n41w8t3k5Yyk9ICUeMhYsHDmKnGMF8E2v4aeDxoA9pJD1KKRu19uurVUpMTkhsmQZMVcpJ0lNIUCnCiH3KadFOJ6LyMEjaKkatV//vN9c7xtTP6g/35puyNSFbH+2fU6i9Z2oUBoVSoVY9Jf1EsSnfyW00Tr35vz6blz6JPnK7H7Zrq+b7cNdLgikARJbxQUa5dpqwL46U7zE4MM4D7XJLiXBBQi7BsARP8/2Y1DIRnd/OZ3G87JU2DTbq6uft1erdcMIGfHMn4wiCSLlPI7T5W4ek1V8mUyfF2a8AaELU8QzXzU1SmL4vCAHdEzERIWyjNSK1X71y0oIchi8SyVjW3IWXqSHNGDaxlWeccqwxNGCFQWzQaO6uu5e7Tc37b5eaf14QiC6mGM/Xe5jj1JHC1IahhoIofDHtLsMHH1J4fh6/Oe0XI6plK6+6hpz26yrD9MbgWSpIyNt1STqQ3U+sYvLc45xdmO7knkOgYt60YUtQ5io+F/tRoVF7rIf3eUwDZOXaHZXN//96np93SgmEaA851IIFrJf5vEy+9PiCbQ/c9uqDhFrvha1kqhRG11z/dz0VmLCB5kKQZGSOq1+alY7SKKnCWIMmGWUjvPwgfBQxOybnllOMbiIokldtdrWu91m2+zqdSMYf7zECwGTfRmn/mAjb9PPqpXte02dfWX5/UoSBwglXg6X+c10ejsGorprmu31q6rRTMCHYyGShqzUYkQlG1m1WnYnO2d/cWG6GRkbPTAJdWAuBYrTFf9VdWAkbVzGy+Vwue8jsvZqc/tf+/12u5JMvW/C00C+FD+58XRy1hdVAsXVoE8ourhxu9ZILWtUFRpCeBZNyJgTOqmcC1DW3Kz4zbYT0q3dJlmEknngjNkP0ZLEiouhXx3gbmF2lMiwarvr3a7brfZ6V1e6aMiPx1Yid8nSPC3HACtGotbzQ4DXV63KH0nKSByjnYf57fHuztuIyIzpVp3etZojfNwsEEh5plMXxCyrRq/fiAnJeiLnjDKhHyJSpthlPkHI4SNJGTBnCsvlMo9LTiC02ex3rzbrHernB24nNqMPaUiTdc4DJrm4gkbqSjdxXctupUhIrtEwmR+Nsfg4YI7LGEqOMhUCYEy1omtbFrKPy5qSjMg80uZD/xl6DG51ybkXIJStarG6ub7d7tvVRq6U4sUk8UTBB7RCQrTTxc6c97WLGRP7ZJA/x0eSOECisAz+Mo/zOPosup262t6sOgkSPotSRNJQqshAC1MboeqRzxR9TIFWrNhoLRHkVJa8oHMfhx8ZFBumoz9dDrZPUlS7/fba3DRCMXh2LiqVakrB4pTy7AG88n0zI5dcMejqet2amiPW0VCW5VmF/olZx0SMOslEwFPJrGJdi6GY3MYoA0f6ZMzRoSBrJct5cMsZBGe76+6X/f5q3aqGGjQJxFOdIRYThcLKsmA2LtkcHvGsfCCpsMLYxc3x7eu3p4OziQTxddO1Zlsbzj6PUkR4L/PWqlJ8NidzNNOI+Wx8geSmxUVUKRZXlk9y0Bl5j5dhubv0domK1ft2t1//V2sMAOBzOZKpBBIYGaUCAJDmUrsrLrVp191m1XUdq5MJmskMz6xfQsCYRe5jEFa6RIxlUaEQAI4WzuLnLaMV87laOKZBoWyp6KZe/e/r65+atq0Z4yyxJ056ACiSQp5ZCJ78KpOjTP7bKtOHT1hhNPFlvJ+8O01TZFJ3q+3mZtXJWgIA0Wfy6EHmKYFZcqs7U3enZh7yEkWMaQpIFGCXeWHuk8vVA9E4+7MbJ+8KtGt1067XslIAj4Sc/LZ7UBJTBcSHHxQUwEvTtZtX1223Mp3SoFEzyvSCe4cKQcmFeZEwYUxKPOQamCIY+t9KYjIlYwp1u9JNj9Vqvd50q+v9umbAkZF4um5KigUT8ZQjeuUZr7TSjwzA+35kQLDF9svleHzjg4egRNPVXWu2LXEGX05KJA2klcV1o7k6tObA5TCRHXNwyaNreaSwOBHcB/NMVKGkPM39NF88ZZ636mqz2jz4Mp7v606cmBCMZyl5BoCUY7Ou259u1uvbVbviNSGHDC/IEqeci05JqUhuvVzPvsw5PjQLZQT5xXrETHXwNcPmwtvExHp7/fPNqnq4VeAZKmpiMrgSyWFhktXGMED+SFjze5I4QCluTmO/jEvvITZN2242N6tOVhLha6GgD4tJcpYls/qi2rtByFNOeaClULHCZZt9CB8Fqsh2jP40X4aLDYqLrVk15gWetfcwqbJoZLs+yAIAUJioq+2r6+3Pq3W1kg8z8iV5/JSVyoGJ6LlMXrnMQ0rhQye/bjNA4pxxJYXMqtlUXSXblfyYvvkUGIuoGSQgNZPmddWYmj+SIPAwhBmJu0jj6bwcznOIJIHXXd21ZrcCzuDrM/2TxSRr1Zi3JnVRn/lYMgCVHHnhuXywgzPwRdrez857CoKRYA3UL08xp0TQmHVbdQdjAUALU22u9v/rereTK+DP3dw+eWA1RakEY0LGwhMri+Pucd87ASLjXCSJZLhqVNu2L0h6ZsCKp+RCmC0jJaRZ8Yegnq8ruQ8kcYBCcfbDcNePzjtC8WEhkcJvJqD8uphEJS+CDWDU2/iOBwBIc+fskmb4NSeTxWEprp+mcdC2BqZy/R3p3ImX1lairqr1bAHAGU581VXdVVu/78vLHOdYijlHGRjz0tlmspHGbfSPZVUjn2VBhtyZxEGB0erx9IIvOoGQXabMJLHK1BLf3yH49eEQAA+qnYvzeLTjZGe3ZCnbh4X0FdXu89a+X0wguem6I/EyL+s7AIBCLmSYZEkffuuBmJpmdBa4rSNQkuyryYmPgnSuZ9FsLru7tpkyAEI0dW7Wm+57i/oTZSk9Z8CDRLcjtJw/rhii1YGnAlT3HDRvqmJelimjU4ks5QRQFOeqqR91ogkAAFZYKTb7sb/re+tIkKibzTdVu8+a+34xAVaCsWQYY+yhkHHwEEcY7cfMCkYAY6YhpGxFQPSZ7PK1wLxHgUBCaVmtj5sLFxmA0LtJlfjJ8nlhBAoZS4JzIYWekfmYCs0lPeqO0sEnVIWySkVwRjW9LMUSI2QX3OydIm1YFo96VQS8V+089XdzP9rZ2U8W0jdUu8/eRxqKSiauK+CipOg9HAmApeTBYi5Bf/hi9lgc5dRDymHYu8nF8LzSNp+iFKjs5txtT1t/TwCDSP68T8+vU/llDwoVJWNMmRC4jCqZ8phC8yETOsgUwCgplXjhXMsskXMkouQM4ak7XwUAcIAYsV9SP/12IX1Ltfusjw9HWyndViYEyiUtrkDx42r0l93HUGNWOPFIvHhegOa2H483o33xha6kShGrcbU7bYbeWABKl/p2nIbxuVXBvnxk1gBZKU0A6L3KVEp6pF3IohyiTTCXkor1L684sfhpWWAYckpVJvHEEUQAJJEE8Yuf7/q3y2cL6THV7rNGA6kgM281Kr+Qs+U4AfDigo2+fBg8zCizVjFzAoBlduNw3p7V/tFHf+1lkZl5G7rV5tj2jqD4y+qwPjSm/u5NqbIECFToofJdzvkxjoAVsiXaNOGSY6NAYnzZNZoBXRzzKUN2SnDFnlB1BAAH7tIY5oO9uPO8lE8W0mOq3WdAUr7WsW/zz5z1KdrogVyalz593JRQe8aI1zWqBADTpev+R3JZP0eaf7qWSRe3Purqarn0cxkAFnZoKlRCvPrOC72RPu7b6Lch01OKQMiYbF78yfugpxgce/5aigyiddO0jGEaXeZErCT5RVHbTyEAEKL0bjz4w3mMU4lSNs9T7T4Fkg4ctCg5+gmsjR688WnK87D/4GlMhVSra96cAQCWizCVkib8sn56N/n0GwhZWNlubH+zpOg9gB/+hZIhzz81vz0kPdO6ToUe/iTmZcHlK5fUf9Ycl+cw2blMS8wqziGNu+ccz1Lx0pXEZzsMw7BYRywyFgCRP7YSBGRgxS5h8sdhPPY5MVVXddft2/ZJ1e5TIKnAVV7HdbBx8TkPYlFuuIzjMr/PMzbJKFNVzapbCgBM9RsohLdlvH6hnCqyYrmbX8XBWrz3EEeoBWNhguvVb+x17HlnJtIppVyMR6YyodT5MRupR3Q8pN7PeS7SjuM0bMPTfQgp+QUjsinaSz/0B+cdtgEFYni00r0AZJDScpkP06EfYwogK93sbprN5hmq3SdAUr51uQV/NQ2nbomR0aW1Y3aue6AZsVLVbvzJzukeANK7wljMvd/6aque9Cr8uiZIByZlsw7eFwCaeubl2xJ98un40679fEo/L2wfi1JSpJhUyCgyLI/Wy0YsJbrRl975AOoyne/b+r8ffU+JwaGdA/givAz2PB4WcguZLLhAVA9z6xttFYDZ55jd+Xw3X8Jii2LVrutM1wn9DNXu06aTDiDWsFuuhqtxNRPYZC+X/rgeH5YSE0w39fZynSMdCSCPHH1w9ubw6l27U5KZjyYdQij4eW0h9smLVEkNdTG4TIBFXbKXbxmG2b6Kx5um/WwXx2d0gHKOzhKhyJhcQi/jYxb0gollAlzEssCsxKbZ1E317cN0WUq0KbilhMwo1rN303m5nEYqvAihhYKcOXzzgCcAOcVwPp3m/jJPLkittF5d7TeqNfQc1e5XIKlQLbzeTvvpMnfkufXDME/L6v3gc9GSpYSQmepjgHAOIfv7qR26zV2jhZGi8MwL0YO+opEq9vHA8onXESIXsU2BEeOsuS/J2XSO2UU73tpuX/NPL2h5sgOUI8ciVZIpJ8MhLyGEr4Rkf4SeeaYiio5apHTWJ2OEcv/o2q/sS5SSW4qNNsBcAmRM9QXiHOyweJ+K35mKVSD5Y1uaAPCBem+n4+nY9xGg6Gqzk0a3JjTPU+0+AkllXRe1Gqq6GWW09dhN5/08vA/41SUtmxKpyPZfzSklV8I59D/1V6dVvefrimtWmMYgU9Y5SWRCNkxW1UPY/ycNIR2zWHFmgoFa865fsr/ksiyX2+Pu+rDZ9mb7wX79ZAcoS4FZspwzMZFciSjio4nzRUXOKra+b88yQTozBTkP+arbmc9/lheakitxLC5D8LiogHWILAdvKVHxtVFCdXXzeBingCyUA99Py+j6CCBNvV5XN9erSjSPlY35KhASU3pjq6thvixRhKEbh+HQDduHzmEbJSPGG82H7jKxAi7HsPGHbXvUxtRMVjwVROSeC5YraPRal/LFpEaSWDu2Tf/7DRm1edvdL40rJwfBjuehuTmZa1eZ+nmpzVRNEiQF0BlyhhS89TG6x9T5SKzh67uu3fmQwfd3AWGZrq9H2VSaP6z9mIJNNgebFh95WjBnkYiJklXJMlOOc5YE0CgG+LjHRgBz3tuZpstsPQCgbLvt1UbVWsGzVbtfO6wpCF5fnaSWpbKO+cvpvLFLowAAmHAV5mCwkt3h1PY2hAB5obkaurdtg6bijGnShRQhkDZVVLETIL7IYEXIQkMu/d7UTaV7PdkpGzblaWoOt6ftdl6tru37mjBPrCXKyRUmjCADPHPOSrSP+yqKwIVW89XifcHJJ3v2lE7/mA6bXbuqFCldCvhgix9cciHPlAuXiIkjV6wpoeRMFIEnWbWtbNvN4w4WASXnxGmeXRwBALBbN81Gd9VDKd8X2ioRIlNa82p3aLsZghmbyzzO1fphlEU7yrUcWFuf2t1x6O1Ai44lOVhW/YrVuhhTSMksZDEUhtpsZTXp+ct8MNKeaVsx00rZre6acRicZZ6VEaE01ruJ5Wv3ULDsCY5k4NVCyLSWOhWYp4RpeNRXUdRS52UTFnDEzqMXUyx+595tr89yrauuirLkPBd3ST7OzDKGPDdkakW1VJK7EDi3hacsCoqmqog/sZKy9OQsmAcvsWmNutpuaq0EPS9I9zddViU0zqzPppHaw4Dm9t2+34T3x45YGxtaLuVqNV4dz+6crAWeNIkozq2XwiLUo5SCZ19Ua6WfK5yuyAv+uZKGpCEYo1BQd2yb8dhPg4sLEEyJYk4pVrtL0c/Q7BCy8kyaVjEmGRalwljYY74K0kkQ38P8X6qoY30aXCzuEC83/VnfHquqwkrFgG520S88payzNkrwtcKqNcARUQkwIhUostGCM/m4mVmQmoCxRhMKHb2o16t91VWbFUf+PRdFIEhxEK3prg6VQIIy9dfD6D/UzZKBq6sw1atRr9p2P61nv/BoeWYSC8uFJymjKSWDzhUEnoKKHc1cf5HnjEAqJrYKasJ2fbe/vwzxtPMpCk6Bsk/Wez6TfkYXzMx0VaNs2wsSFFcUPeqrQMgqtq792QDWWvL6xKaEY3mz7ptedo2pRRYsOfKOyoJcRm3a2jTSrIVhEokKMwqQCxCsSCF1HR5fSYWpgI1Sm3Xf8YTter+7bVeSNwTfeQuNNyRrqZq6OwPMzTzY2G/9ewud8iJiF5DrsJ1O7moKbnIQIUESEkFglUVFSqhUIa+FaToDqBmIrwRZPEQ8g2rns+qb6ezWYfaZkDTPnpJtJg3PcWBkkTKwTaOVYVWKjFxM5rGLhUgHzmELotSVXq+G9VRRhJx6uYydv9QVtalgBovFG0CmWlM3bVfrBmTDcqTY8FiIiIrSWkpij0d6CF5iaUa+qldXeLFts7vZrTdVpxg+P87qMyQRsO42u8tl6AZguU/97MOH5ArSkOuIOsyuEat5CWeac/AlIqXCGSkEw7AypQaeRa1a1chGZJG/Ej35PuLZApPpaliuZnuyxRcnBKs2Eo3gBPAc5Ud5012IN4ypSJpnFCnERyY3kopZ02q6abCpzenqEIacRNSFU0iKBuOyIeY45opazXe83lV1a2RdVkQyC12UlFIKklImpepHzasPKng96nbZRaEqVNXt9e16U3OB8H3X4pDOVRamMpvtZZugRBFiWHx6P8QIpCFVEVSIdRzKvKW5pIE7yKGKHLPgoBVHwYWiOrVkTK1yneXXwnA+uIVJReSbS+qv7RQdBEVGtLVRHGL1ZMQvABXlolm1lanaAy8u0QyPXxyCJCGJFW9Oatbr/l3jZ58SeFUEERXNEgLFJgvUmq1lY7aqaldlDQZViuuL4AVzSkllIqbgKwVZP4OAoixvUqCs6iFBe/VqtWta8WuE/guBQEKpdvUqXiJQD4ZZH2Ig2/76BQ2piqhE0LnC5XrJr3JKgWUVoMqcc5KqGAKOzEglkDNeviF6H9zCEWWdJunaPO5z8hiBdXytjajYF+nvX4Kkj1hb1FGojKIwGZ8s7Y8kycQcN91JzZfdaRnDEkoiTrHiGZUUpEkKZpRSlTZmYxohG4mSgCkrgCtdSaHiiqlGgnyikJEAnZhMTczy7Xpggu+2m5U2mmf+vYXlSy51aebtq+JAk1ArDSz6TwvcAGlIJoIgUtj4jWcO0eocGCNSIvKKOKKIUoUGoCEA9a2baD88Swyd2sZxRXMpkZHMjahkl+vy/o63R4CgKEESpGTMZBl6nXMpjw8cPkTwsoT5bJar3jubg6cAhcWmcFK8Ii1FbUql17o21AiDgoBnIMjImFCV5AwVy656yoIuALJknAGf1XC7KL5pmnbFC/Dvvc2JVFYj35XkGJkr57daoSicfVrZ+GFoNU+hTqkUyqWkVgSBAFhE1oxHKYOm1CWpglBJfNtz8OC9L+tksmwcVdxhyRwVasVkko9UKPq1yUmg4SQRkEkIZL2I6gk33vs4qaW+3Ay7qUVrSxq4o8SIkxSoGdZkJF8JJTXoiglJyApwYKihaWpAyQGywObJytoCSAdhq8KbepUYw4ava1ASHqu/9HjrISedi9lzAdXFolltKm58+FwZfkgaJIO54iFUUfgPkfEkC+nYlrwppHUpqab87cTG989SAElSE4ysU5VlZEiKM8Yw82cUFyfTs4wKIkMHwkeKiZanLtH+kAK0hmasYbFsya9yimLRAU0SoBUXrOZYMyGLVsCQPVw2l7mtJ1Bdd24XpZKOgj1RFUEAkvJdKiLITQm5FkxKwaA8JSQe6bLCzDvGchabcXJVu9q2QlNin+/g7/Pl61iEQoaKf4iM15mK0gUJAXOR4hlh3Q/PEkFVTtVBOIWApLNOIj8nah+TAEnADM/KW4URM4mnC949pACliCucTXyQ2mz+KXJGRQpGphiVq2wQOWeJl/Q+gFLWrq5Uo7aukSgSPFnLXwAgac+UMLCQlqBTS0hPJKo90XaJtW0Kl+u7esWz2myVyUqWL4brIV8eAKAC+BAZj7lIAHhfXejZyxkfbtCpIShoEACQWH7m76kIQsZFSJwKE3P2lsIzBuC91K5T2H+U2o2IHIBUkoIxhpwZkVRkGT5evlQKCK5bvXZdLhXx4tMTq13Ax8i50EXJsAhUSbzk3vKvtD2Laqm56cVSHDPcbOWaZ/bVPfzDi+hXgfa9t+YhwKd3Hb2gkJq5mF5LVteYRMrCAVrmnlNQ5VtSm2QhnYTMKsois/qkT6SKF7JdbQezXUAbpsVTO4v4+KpUgfZEVNNzJ+A3QdozYxSyNsWQpa4qqZE//tR/84qhf+s5JfOkZa1qXrW9giAyyYJBwTOOId+Q2jpTkbqIJIHBb3bjJEzSTX01ZZaFgOyfSjoTH35JGgAqAHhJZs+3Gv6+kkCIMUYmQRpZsMgfcfvnc0CKgnofIzPVTEvFsESQhM/j/CtS+6PM/srOTsoiGr4Ngc1QdVoqgUk8Nh8+CsP/1Ex+/7AHu5oqhQpHElgjfuuo88OBkLmeVLXrX82v+tTteYPIxfKSCOgvpPa35yOC8rJLrp2uDatM2+BDGMbTObP/aeD7M6bngQGYwqL8MTdLPguZu2pp6u3lH29kWW2ulOl0qb5n4T9rridmvNgmdd95uV1BjU9Env1uk/vhjEkaJAISy9/ImftTgHSuo2m7qyDlkvCmu96gpEcjjf+915WlAb8vtwPjtVoxfGJT+h0lEP6qaf1HZel/HggFxTreIOLqyLT8eaPaXP9urUaIXKTt8NOl5qVRtZbw+O0lv+s28Sfn5hMUWc8mW+DztTXVdrOu18nAdzrUngTpnARv6dYGyepGgkziMSf4n3Qv/4NBOqFYgzzUbgRZy3qrJSuI/+ZR5FtASMJArOa6IBdaNICPuoXwqWKa/z+BF9nmOc45AkLdio6JZxeQejkIA0+woMPMNGcmf1nj7lP8TRIAPIxaXpjPo3SKKS24kPx3PDMQeh6zTFHwojIXj9/W+jdJDyD0LOecoRSBxGvA35MjAELwMjDGbF1IPKFJ/k3SexCCFx/OdVUSvOTf98xACIEBMSB8LOgF4G+SPgEhBERABKSv1537z7/wefibpE/w714k/3vhu117/1/En5Sjv0n6K+Bvkv4C+JukvwD+JukvgL9J+gvgb5L+AvibpL8A/h/iwtgGa5pwKgAAAABJRU5ErkJggg==\" class=\"ndarray_image_preview\" /><pre class=\"ndarray_raw_data\">array([[255, 255, 255, ..., 255, 255, 255],\n",
              "       [255, 255, 255, ..., 255, 255, 255],\n",
              "       [255, 255, 255, ..., 255, 255, 255],\n",
              "       ...,\n",
              "       [255, 255, 255, ..., 255, 255, 255],\n",
              "       [255, 255, 255, ..., 255, 255, 255],\n",
              "       [255, 255, 255, ..., 255, 255, 255]], dtype=uint8)</pre></div><script>\n",
              "      (() => {\n",
              "      const titles = ['show data', 'hide data'];\n",
              "      let index = 0\n",
              "      document.querySelector('#id-0ac2586c-87ee-476c-b6d9-01346acb931d button').onclick = (e) => {\n",
              "        document.querySelector('#id-0ac2586c-87ee-476c-b6d9-01346acb931d').classList.toggle('show_array');\n",
              "        index = (++index) % 2;\n",
              "        document.querySelector('#id-0ac2586c-87ee-476c-b6d9-01346acb931d button').textContent = titles[index];\n",
              "        e.preventDefault();\n",
              "        e.stopPropagation();\n",
              "      }\n",
              "      })();\n",
              "    </script>"
            ]
          },
          "metadata": {},
          "execution_count": 23
        }
      ],
      "source": [
        "validation_images[0]"
      ]
    },
    {
      "cell_type": "code",
      "execution_count": 24,
      "metadata": {
        "id": "1hP2aWMwhps0",
        "outputId": "1bb39e59-6263-4781-bfd2-051c3e478203",
        "colab": {
          "base_uri": "https://localhost:8080/",
          "height": 248
        }
      },
      "outputs": [
        {
          "output_type": "execute_result",
          "data": {
            "text/plain": [
              "<matplotlib.image.AxesImage at 0x7ae4f8cc7a90>"
            ]
          },
          "metadata": {},
          "execution_count": 24
        },
        {
          "output_type": "display_data",
          "data": {
            "text/plain": [
              "<Figure size 640x480 with 1 Axes>"
            ],
            "image/png": "[encoded data removed]"
          },
          "metadata": {}
        }
      ],
      "source": [
        "plt.imshow(validation_images[0], cmap = \"gray\")"
      ]
    },
    {
      "cell_type": "code",
      "execution_count": 25,
      "metadata": {
        "id": "ixqAf2cphps0",
        "outputId": "2a6ffbc3-ec72-42c6-a8af-de61cf708026",
        "colab": {
          "base_uri": "https://localhost:8080/"
        }
      },
      "outputs": [
        {
          "output_type": "stream",
          "name": "stdout",
          "text": [
            "Example label: IMAGE                  0.png\n",
            "MEDICINE_NAME          Aceta\n",
            "GENERIC_NAME     Paracetamol\n",
            "Name: 0, dtype: object\n"
          ]
        }
      ],
      "source": [
        "print(\"Example label:\", validation_labels.iloc[0])"
      ]
    },
    {
      "cell_type": "markdown",
      "metadata": {
        "id": "TaUUJvO9hps0"
      },
      "source": [
        "### Test data"
      ]
    },
    {
      "cell_type": "markdown",
      "metadata": {
        "id": "22DHuGAUhps0"
      },
      "source": [
        "#### Test Labels"
      ]
    },
    {
      "cell_type": "code",
      "execution_count": 26,
      "metadata": {
        "id": "muhRwp1Vhps0"
      },
      "outputs": [],
      "source": [
        "test_path = \"/content/drive/MyDrive/project_medzy/dataset/Testing\"\n",
        "test_labels = pd.read_csv(os.path.join(test_path,\"testing_labels.csv\"), delimiter = \",\")"
      ]
    },
    {
      "cell_type": "code",
      "execution_count": 27,
      "metadata": {
        "id": "J1EJftuKhps0",
        "outputId": "c93e4a80-d9ae-4169-d55a-f5dbd309cbf2",
        "colab": {
          "base_uri": "https://localhost:8080/",
          "height": 206
        }
      },
      "outputs": [
        {
          "output_type": "execute_result",
          "data": {
            "text/plain": [
              "   IMAGE MEDICINE_NAME GENERIC_NAME\n",
              "0  0.png         Aceta  Paracetamol\n",
              "1  1.png         Aceta  Paracetamol\n",
              "2  2.png         Aceta  Paracetamol\n",
              "3  3.png         Aceta  Paracetamol\n",
              "4  4.png         Aceta  Paracetamol"
            ],
            "text/html": [
              "\n",
              "  <div id=\"df-dccb1e91-3b11-4794-a22b-6a74dde8068c\" class=\"colab-df-container\">\n",
              "    <div>\n",
              "<style scoped>\n",
              "    .dataframe tbody tr th:only-of-type {\n",
              "        vertical-align: middle;\n",
              "    }\n",
              "\n",
              "    .dataframe tbody tr th {\n",
              "        vertical-align: top;\n",
              "    }\n",
              "\n",
              "    .dataframe thead th {\n",
              "        text-align: right;\n",
              "    }\n",
              "</style>\n",
              "<table border=\"1\" class=\"dataframe\">\n",
              "  <thead>\n",
              "    <tr style=\"text-align: right;\">\n",
              "      <th></th>\n",
              "      <th>IMAGE</th>\n",
              "      <th>MEDICINE_NAME</th>\n",
              "      <th>GENERIC_NAME</th>\n",
              "    </tr>\n",
              "  </thead>\n",
              "  <tbody>\n",
              "    <tr>\n",
              "      <th>0</th>\n",
              "      <td>0.png</td>\n",
              "      <td>Aceta</td>\n",
              "      <td>Paracetamol</td>\n",
              "    </tr>\n",
              "    <tr>\n",
              "      <th>1</th>\n",
              "      <td>1.png</td>\n",
              "      <td>Aceta</td>\n",
              "      <td>Paracetamol</td>\n",
              "    </tr>\n",
              "    <tr>\n",
              "      <th>2</th>\n",
              "      <td>2.png</td>\n",
              "      <td>Aceta</td>\n",
              "      <td>Paracetamol</td>\n",
              "    </tr>\n",
              "    <tr>\n",
              "      <th>3</th>\n",
              "      <td>3.png</td>\n",
              "      <td>Aceta</td>\n",
              "      <td>Paracetamol</td>\n",
              "    </tr>\n",
              "    <tr>\n",
              "      <th>4</th>\n",
              "      <td>4.png</td>\n",
              "      <td>Aceta</td>\n",
              "      <td>Paracetamol</td>\n",
              "    </tr>\n",
              "  </tbody>\n",
              "</table>\n",
              "</div>\n",
              "    <div class=\"colab-df-buttons\">\n",
              "\n",
              "  <div class=\"colab-df-container\">\n",
              "    <button class=\"colab-df-convert\" onclick=\"convertToInteractive('df-dccb1e91-3b11-4794-a22b-6a74dde8068c')\"\n",
              "            title=\"Convert this dataframe to an interactive table.\"\n",
              "            style=\"display:none;\">\n",
              "\n",
              "  <svg xmlns=\"http://www.w3.org/2000/svg\" height=\"24px\" viewBox=\"0 -960 960 960\">\n",
              "    <path d=\"M120-120v-720h720v720H120Zm60-500h600v-160H180v160Zm220 220h160v-160H400v160Zm0 220h160v-160H400v160ZM180-400h160v-160H180v160Zm440 0h160v-160H620v160ZM180-180h160v-160H180v160Zm440 0h160v-160H620v160Z\"/>\n",
              "  </svg>\n",
              "    </button>\n",
              "\n",
              "  <style>\n",
              "    .colab-df-container {\n",
              "      display:flex;\n",
              "      gap: 12px;\n",
              "    }\n",
              "\n",
              "    .colab-df-convert {\n",
              "      background-color: #E8F0FE;\n",
              "      border: none;\n",
              "      border-radius: 50%;\n",
              "      cursor: pointer;\n",
              "      display: none;\n",
              "      fill: #1967D2;\n",
              "      height: 32px;\n",
              "      padding: 0 0 0 0;\n",
              "      width: 32px;\n",
              "    }\n",
              "\n",
              "    .colab-df-convert:hover {\n",
              "      background-color: #E2EBFA;\n",
              "      box-shadow: 0px 1px 2px rgba(60, 64, 67, 0.3), 0px 1px 3px 1px rgba(60, 64, 67, 0.15);\n",
              "      fill: #174EA6;\n",
              "    }\n",
              "\n",
              "    .colab-df-buttons div {\n",
              "      margin-bottom: 4px;\n",
              "    }\n",
              "\n",
              "    [theme=dark] .colab-df-convert {\n",
              "      background-color: #3B4455;\n",
              "      fill: #D2E3FC;\n",
              "    }\n",
              "\n",
              "    [theme=dark] .colab-df-convert:hover {\n",
              "      background-color: #434B5C;\n",
              "      box-shadow: 0px 1px 3px 1px rgba(0, 0, 0, 0.15);\n",
              "      filter: drop-shadow(0px 1px 2px rgba(0, 0, 0, 0.3));\n",
              "      fill: #FFFFFF;\n",
              "    }\n",
              "  </style>\n",
              "\n",
              "    <script>\n",
              "      const buttonEl =\n",
              "        document.querySelector('#df-dccb1e91-3b11-4794-a22b-6a74dde8068c button.colab-df-convert');\n",
              "      buttonEl.style.display =\n",
              "        google.colab.kernel.accessAllowed ? 'block' : 'none';\n",
              "\n",
              "      async function convertToInteractive(key) {\n",
              "        const element = document.querySelector('#df-dccb1e91-3b11-4794-a22b-6a74dde8068c');\n",
              "        const dataTable =\n",
              "          await google.colab.kernel.invokeFunction('convertToInteractive',\n",
              "                                                    [key], {});\n",
              "        if (!dataTable) return;\n",
              "\n",
              "        const docLinkHtml = 'Like what you see? Visit the ' +\n",
              "          '<a target=\"_blank\" href=https://colab.research.google.com/notebooks/data_table.ipynb>data table notebook</a>'\n",
              "          + ' to learn more about interactive tables.';\n",
              "        element.innerHTML = '';\n",
              "        dataTable['output_type'] = 'display_data';\n",
              "        await google.colab.output.renderOutput(dataTable, element);\n",
              "        const docLink = document.createElement('div');\n",
              "        docLink.innerHTML = docLinkHtml;\n",
              "        element.appendChild(docLink);\n",
              "      }\n",
              "    </script>\n",
              "  </div>\n",
              "\n",
              "\n",
              "<div id=\"df-2b313c1f-ad69-4a06-a8c2-af35396647e4\">\n",
              "  <button class=\"colab-df-quickchart\" onclick=\"quickchart('df-2b313c1f-ad69-4a06-a8c2-af35396647e4')\"\n",
              "            title=\"Suggest charts\"\n",
              "            style=\"display:none;\">\n",
              "\n",
              "<svg xmlns=\"http://www.w3.org/2000/svg\" height=\"24px\"viewBox=\"0 0 24 24\"\n",
              "     width=\"24px\">\n",
              "    <g>\n",
              "        <path d=\"M19 3H5c-1.1 0-2 .9-2 2v14c0 1.1.9 2 2 2h14c1.1 0 2-.9 2-2V5c0-1.1-.9-2-2-2zM9 17H7v-7h2v7zm4 0h-2V7h2v10zm4 0h-2v-4h2v4z\"/>\n",
              "    </g>\n",
              "</svg>\n",
              "  </button>\n",
              "\n",
              "<style>\n",
              "  .colab-df-quickchart {\n",
              "      --bg-color: #E8F0FE;\n",
              "      --fill-color: #1967D2;\n",
              "      --hover-bg-color: #E2EBFA;\n",
              "      --hover-fill-color: #174EA6;\n",
              "      --disabled-fill-color: #AAA;\n",
              "      --disabled-bg-color: #DDD;\n",
              "  }\n",
              "\n",
              "  [theme=dark] .colab-df-quickchart {\n",
              "      --bg-color: #3B4455;\n",
              "      --fill-color: #D2E3FC;\n",
              "      --hover-bg-color: #434B5C;\n",
              "      --hover-fill-color: #FFFFFF;\n",
              "      --disabled-bg-color: #3B4455;\n",
              "      --disabled-fill-color: #666;\n",
              "  }\n",
              "\n",
              "  .colab-df-quickchart {\n",
              "    background-color: var(--bg-color);\n",
              "    border: none;\n",
              "    border-radius: 50%;\n",
              "    cursor: pointer;\n",
              "    display: none;\n",
              "    fill: var(--fill-color);\n",
              "    height: 32px;\n",
              "    padding: 0;\n",
              "    width: 32px;\n",
              "  }\n",
              "\n",
              "  .colab-df-quickchart:hover {\n",
              "    background-color: var(--hover-bg-color);\n",
              "    box-shadow: 0 1px 2px rgba(60, 64, 67, 0.3), 0 1px 3px 1px rgba(60, 64, 67, 0.15);\n",
              "    fill: var(--button-hover-fill-color);\n",
              "  }\n",
              "\n",
              "  .colab-df-quickchart-complete:disabled,\n",
              "  .colab-df-quickchart-complete:disabled:hover {\n",
              "    background-color: var(--disabled-bg-color);\n",
              "    fill: var(--disabled-fill-color);\n",
              "    box-shadow: none;\n",
              "  }\n",
              "\n",
              "  .colab-df-spinner {\n",
              "    border: 2px solid var(--fill-color);\n",
              "    border-color: transparent;\n",
              "    border-bottom-color: var(--fill-color);\n",
              "    animation:\n",
              "      spin 1s steps(1) infinite;\n",
              "  }\n",
              "\n",
              "  @keyframes spin {\n",
              "    0% {\n",
              "      border-color: transparent;\n",
              "      border-bottom-color: var(--fill-color);\n",
              "      border-left-color: var(--fill-color);\n",
              "    }\n",
              "    20% {\n",
              "      border-color: transparent;\n",
              "      border-left-color: var(--fill-color);\n",
              "      border-top-color: var(--fill-color);\n",
              "    }\n",
              "    30% {\n",
              "      border-color: transparent;\n",
              "      border-left-color: var(--fill-color);\n",
              "      border-top-color: var(--fill-color);\n",
              "      border-right-color: var(--fill-color);\n",
              "    }\n",
              "    40% {\n",
              "      border-color: transparent;\n",
              "      border-right-color: var(--fill-color);\n",
              "      border-top-color: var(--fill-color);\n",
              "    }\n",
              "    60% {\n",
              "      border-color: transparent;\n",
              "      border-right-color: var(--fill-color);\n",
              "    }\n",
              "    80% {\n",
              "      border-color: transparent;\n",
              "      border-right-color: var(--fill-color);\n",
              "      border-bottom-color: var(--fill-color);\n",
              "    }\n",
              "    90% {\n",
              "      border-color: transparent;\n",
              "      border-bottom-color: var(--fill-color);\n",
              "    }\n",
              "  }\n",
              "</style>\n",
              "\n",
              "  <script>\n",
              "    async function quickchart(key) {\n",
              "      const quickchartButtonEl =\n",
              "        document.querySelector('#' + key + ' button');\n",
              "      quickchartButtonEl.disabled = true;  // To prevent multiple clicks.\n",
              "      quickchartButtonEl.classList.add('colab-df-spinner');\n",
              "      try {\n",
              "        const charts = await google.colab.kernel.invokeFunction(\n",
              "            'suggestCharts', [key], {});\n",
              "      } catch (error) {\n",
              "        console.error('Error during call to suggestCharts:', error);\n",
              "      }\n",
              "      quickchartButtonEl.classList.remove('colab-df-spinner');\n",
              "      quickchartButtonEl.classList.add('colab-df-quickchart-complete');\n",
              "    }\n",
              "    (() => {\n",
              "      let quickchartButtonEl =\n",
              "        document.querySelector('#df-2b313c1f-ad69-4a06-a8c2-af35396647e4 button');\n",
              "      quickchartButtonEl.style.display =\n",
              "        google.colab.kernel.accessAllowed ? 'block' : 'none';\n",
              "    })();\n",
              "  </script>\n",
              "</div>\n",
              "\n",
              "    </div>\n",
              "  </div>\n"
            ],
            "application/vnd.google.colaboratory.intrinsic+json": {
              "type": "dataframe",
              "variable_name": "test_labels",
              "summary": "{\n  \"name\": \"test_labels\",\n  \"rows\": 780,\n  \"fields\": [\n    {\n      \"column\": \"IMAGE\",\n      \"properties\": {\n        \"dtype\": \"string\",\n        \"num_unique_values\": 780,\n        \"samples\": [\n          \"595.png\",\n          \"587.png\",\n          \"543.png\"\n        ],\n        \"semantic_type\": \"\",\n        \"description\": \"\"\n      }\n    },\n    {\n      \"column\": \"MEDICINE_NAME\",\n      \"properties\": {\n        \"dtype\": \"category\",\n        \"num_unique_values\": 78,\n        \"samples\": [\n          \"Fixal\",\n          \"Aceta\",\n          \"Flamyd\"\n        ],\n        \"semantic_type\": \"\",\n        \"description\": \"\"\n      }\n    },\n    {\n      \"column\": \"GENERIC_NAME\",\n      \"properties\": {\n        \"dtype\": \"category\",\n        \"num_unique_values\": 15,\n        \"samples\": [\n          \"Clonazepam\",\n          \"Ketoconazole (Tablet)\",\n          \"Paracetamol\"\n        ],\n        \"semantic_type\": \"\",\n        \"description\": \"\"\n      }\n    }\n  ]\n}"
            }
          },
          "metadata": {},
          "execution_count": 27
        }
      ],
      "source": [
        "test_labels.head()"
      ]
    },
    {
      "cell_type": "markdown",
      "metadata": {
        "id": "f9OHztN2hps1"
      },
      "source": [
        "##### Encode the medecine name"
      ]
    },
    {
      "cell_type": "code",
      "execution_count": 28,
      "metadata": {
        "id": "apWUpKiVhps1"
      },
      "outputs": [],
      "source": [
        "test_name_enc = to_categorical(medicine_enc.transform(test_labels[\"MEDICINE_NAME\"]), num_classes=78)\n",
        "# test_labels[\"train_medecine_name_enc\"] = test_name_enc"
      ]
    },
    {
      "cell_type": "code",
      "execution_count": 29,
      "metadata": {
        "id": "0lWzeUS4hps1",
        "outputId": "d9eca8df-fdb5-4084-fca6-ead9919e7da1",
        "colab": {
          "base_uri": "https://localhost:8080/"
        }
      },
      "outputs": [
        {
          "output_type": "execute_result",
          "data": {
            "text/plain": [
              "78"
            ]
          },
          "metadata": {},
          "execution_count": 29
        }
      ],
      "source": [
        "len(test_labels[\"MEDICINE_NAME\"].unique())"
      ]
    },
    {
      "cell_type": "markdown",
      "metadata": {
        "id": "SrtH4GI2hps4"
      },
      "source": [
        "#### Testing Images"
      ]
    },
    {
      "cell_type": "code",
      "execution_count": 30,
      "metadata": {
        "id": "DzcyQHsKhps4"
      },
      "outputs": [],
      "source": [
        "test_images = []\n",
        "test_files = glob.glob(\"/content/drive/MyDrive/project_medzy/dataset/Testing/testing_words/*.png\")\n",
        "for picture in test_files:\n",
        "    image = cv2.resize(cv2.imread(picture, cv2.IMREAD_GRAYSCALE), (img_width, img_height))\n",
        "\n",
        "    #since cv2 sometimes return a \"none\" type we will append the data after validating it if it is a not \"none\" type\n",
        "    if image is None:\n",
        "        print(f\"Err importing picture {picture}\")\n",
        "        continue\n",
        "    #apply adaptive treshold\n",
        "    image = cv2.adaptiveThreshold(image,\n",
        "                                         255, # the max value\n",
        "                                         cv2.ADAPTIVE_THRESH_GAUSSIAN_C,\n",
        "                                         cv2.THRESH_BINARY, #the treshold we are using\n",
        "                                         41, #how many pixels to look at\n",
        "                                         10 #noise reduction\n",
        "                                         )\n",
        "\n",
        "    #sharpening the image\n",
        "    # Create the sharpening kernel\n",
        "    kernel = np.array([[-1, -1, 1],\n",
        "                        [-1,  8, -1],\n",
        "                        [-1, -2, -1]])\n",
        "\n",
        "    #increase the contrast\n",
        "    clahe = cv2.createCLAHE(clipLimit=5, tileGridSize=(7,7))\n",
        "    image = clahe.apply(image)\n",
        "\n",
        "    #blur the image so that the lines are more defined\n",
        "    image = cv2.GaussianBlur(image, (7,7), 20)\n",
        "    image = cv2.GaussianBlur(image, (7,7), 20)\n",
        "    image = cv2.GaussianBlur(image, (7,7), 20)\n",
        "\n",
        "    # Sharpen the image\n",
        "    image = cv2.filter2D(image, -1, kernel)\n",
        "\n",
        "    test_images.append(image)\n",
        "    # image = np.asarray(image) # for numpy 1.23\n",
        "\n",
        "    # To show the images\n",
        "    # plt.imshow(image, cmap = \"gray\")\n",
        "    # plt.show()\n",
        "\n",
        "test_images = np.array(test_images)\n",
        "test_dataset = tf.data.Dataset.from_tensor_slices((test_images, test_labels))"
      ]
    },
    {
      "cell_type": "code",
      "execution_count": 31,
      "metadata": {
        "id": "RMIWpsrahps4",
        "outputId": "1402ada5-245b-41c6-ea7a-f9f1cd04fd90",
        "colab": {
          "base_uri": "https://localhost:8080/"
        }
      },
      "outputs": [
        {
          "output_type": "stream",
          "name": "stdout",
          "text": [
            "Dataset shape: (780, 140, 420)\n",
            "Labels shape: (780, 3)\n"
          ]
        }
      ],
      "source": [
        "print(\"Dataset shape:\", test_images.shape)\n",
        "print(\"Labels shape:\", test_labels.shape)"
      ]
    },
    {
      "cell_type": "markdown",
      "metadata": {
        "id": "aobZpr-whps4"
      },
      "source": [
        "##### Check if it is correct"
      ]
    },
    {
      "cell_type": "code",
      "execution_count": 32,
      "metadata": {
        "id": "yUb5GJi9hps4",
        "outputId": "232fe1ae-8388-4301-c9f8-15865c4de1d8",
        "colab": {
          "base_uri": "https://localhost:8080/"
        }
      },
      "outputs": [
        {
          "output_type": "execute_result",
          "data": {
            "text/plain": [
              "(140, 420)"
            ]
          },
          "metadata": {},
          "execution_count": 32
        }
      ],
      "source": [
        "test_images[0].shape"
      ]
    },
    {
      "cell_type": "code",
      "execution_count": 33,
      "metadata": {
        "id": "E9_UuRQEhps5",
        "outputId": "e59dca32-7ab0-43c0-c565-4e68270d6002",
        "colab": {
          "base_uri": "https://localhost:8080/",
          "height": 248
        }
      },
      "outputs": [
        {
          "output_type": "execute_result",
          "data": {
            "text/plain": [
              "<matplotlib.image.AxesImage at 0x7ae4f5569f90>"
            ]
          },
          "metadata": {},
          "execution_count": 33
        },
        {
          "output_type": "display_data",
          "data": {
            "text/plain": [
              "<Figure size 640x480 with 1 Axes>"
            ],
            "image/png": "[encoded data removed]"
          },
          "metadata": {}
        }
      ],
      "source": [
        "plt.imshow(test_images[0], cmap = \"gray\")"
      ]
    },
    {
      "cell_type": "code",
      "execution_count": 34,
      "metadata": {
        "id": "qQ5Q1YsXhps5",
        "outputId": "0045d36e-56a4-4200-8654-98090ebf1156",
        "colab": {
          "base_uri": "https://localhost:8080/"
        }
      },
      "outputs": [
        {
          "output_type": "stream",
          "name": "stdout",
          "text": [
            "Example label: IMAGE                  0.png\n",
            "MEDICINE_NAME          Aceta\n",
            "GENERIC_NAME     Paracetamol\n",
            "Name: 0, dtype: object\n"
          ]
        }
      ],
      "source": [
        "print(\"Example label:\", test_labels.iloc[0])"
      ]
    },
    {
      "cell_type": "markdown",
      "metadata": {
        "id": "z9xW-Serhps5"
      },
      "source": [
        "## Building the artificial neural network"
      ]
    },
    {
      "cell_type": "markdown",
      "metadata": {
        "id": "GzTSUpu4hps5"
      },
      "source": [
        "#### Make a model create function"
      ]
    },
    {
      "cell_type": "markdown",
      "metadata": {
        "id": "i1wC8KAQhps5"
      },
      "source": [
        "##### Parameters for the model"
      ]
    },
    {
      "cell_type": "code",
      "execution_count": 35,
      "metadata": {
        "id": "sy0kZsXRhps5",
        "outputId": "589f4371-e407-4cc7-8de3-d799437b6523",
        "colab": {
          "base_uri": "https://localhost:8080/"
        }
      },
      "outputs": [
        {
          "output_type": "execute_result",
          "data": {
            "text/plain": [
              "78"
            ]
          },
          "metadata": {},
          "execution_count": 35
        }
      ],
      "source": [
        "#number of classes to determine how many neurons are in the output layer\n",
        "num_classes = len(train_labels[\"MEDICINE_NAME\"].unique())\n",
        "num_classes"
      ]
    },
    {
      "cell_type": "code",
      "execution_count": 36,
      "metadata": {
        "id": "UcwOzVfXhps5",
        "outputId": "ffc1815c-08d6-475f-dcf1-b3a936085914",
        "colab": {
          "base_uri": "https://localhost:8080/"
        }
      },
      "outputs": [
        {
          "output_type": "execute_result",
          "data": {
            "text/plain": [
              "(140, 420)"
            ]
          },
          "metadata": {},
          "execution_count": 36
        }
      ],
      "source": [
        "#the image size to determine the shape for the convolutional neural network to scan\n",
        "train_images[0].shape"
      ]
    },
    {
      "cell_type": "code",
      "execution_count": 47,
      "metadata": {
        "id": "l1O0GAQPhps5"
      },
      "outputs": [],
      "source": [
        "#make everything to int 32 since there is a type error\n",
        "train_images = train_images.astype(\"float16\")\n",
        "train_name_enc = train_name_enc.astype(\"float16\")\n",
        "validation_images = validation_images.astype(\"float16\")\n",
        "validation_name_enc = validation_name_enc.astype(\"float16\")\n",
        "test_images = test_images.astype(\"float16\")\n",
        "test_name_enc = test_name_enc.astype(\"float16\")"
      ]
    },
    {
      "cell_type": "markdown",
      "metadata": {
        "id": "2NWnftQ7hps6"
      },
      "source": [
        "#### Custom metrics"
      ]
    },
    {
      "cell_type": "code",
      "execution_count": 48,
      "metadata": {
        "id": "3cU6iOKhhps6"
      },
      "outputs": [],
      "source": [
        "def recall_m(y_true, y_pred):\n",
        "    true_positives = K.sum(K.round(K.clip(y_true * y_pred, 0, 1)))\n",
        "    possible_positives = K.sum(K.round(K.clip(y_true, 0, 1)))\n",
        "    recall = true_positives / (possible_positives + K.epsilon())\n",
        "    return keras.backend.cast(recall, \"float16\")\n",
        "\n",
        "def precision_m(y_true, y_pred):\n",
        "    true_positives = K.sum(K.round(K.clip(y_true * y_pred, 0, 1)))\n",
        "    predicted_positives = K.sum(K.round(K.clip(y_pred, 0, 1)))\n",
        "    precision = true_positives / (predicted_positives + K.epsilon())\n",
        "    return keras.backend.cast(precision, \"float16\")\n",
        "\n",
        "def f1_score(y_true, y_pred):\n",
        "    precision = precision_m(y_true, y_pred)\n",
        "    recall = recall_m(y_true, y_pred)\n",
        "    f1 = 2*((precision*recall)/(precision+recall+K.epsilon()))\n",
        "    return keras.backend.cast(f1, \"float16\")\n",
        "\n",
        "def accuracy(y_true, y_pred):\n",
        "    correct_predictions = K.sum(K.round(K.clip(y_true * y_pred, 0, 1)))\n",
        "    total_samples = K.sum(K.round(K.clip(y_true, 0, 1)))\n",
        "    acc = correct_predictions / (total_samples + K.epsilon())\n",
        "    return keras.backend.cast(acc, \"float16\")"
      ]
    },
    {
      "cell_type": "markdown",
      "metadata": {
        "id": "p4biiQ3_hps6"
      },
      "source": [
        "#### Create a model builder for gridsearch"
      ]
    },
    {
      "cell_type": "markdown",
      "metadata": {
        "id": "fA_CFnGqhps6"
      },
      "source": [
        "the even filter shapes aren't recommended because it lacks the ability to devide the previous layer pixels arould the output pixel <a hre = \"https://medium.com/analytics-vidhya/how-to-choose-the-size-of-the-convolution-filter-or-kernel-size-for-cnn-86a55a1e2d15\">(Pandey, 2020)</a>.\n",
        "\n",
        "<a href = \"https://medium.com/@nerdjock/convolutional-neural-network-lesson-9-activation-functions-in-cnns-57def9c6e759\">Machine Learning in Plain English (2023)</a> The most common activation functions are \"relu\" and \"leaky relu\" therefore we would pass it in the grid search.\n",
        "\n",
        "Max pooling excells in image classification, due to how max pooling captures the most prominent features and reduce the variance of the input <a href = \"https://www.linkedin.com/advice/1/how-do-you-choose-appropriate-pooling-method-2uvmc#adaptive-pooling\">(Awad et. al, n.d.)</a>."
      ]
    },
    {
      "cell_type": "code",
      "execution_count": 49,
      "metadata": {
        "id": "GD8sjFazhps6"
      },
      "outputs": [],
      "source": [
        "def create_model(hp):\n",
        "    input_shape = (img_height, img_width, 1)\n",
        "    model = Sequential()\n",
        "    metrics = [accuracy, recall_m, precision_m, f1_score]\n",
        "\n",
        "    # Convert NumPy types to standard Python types\n",
        "    filter_choice = [int(32), int(64), int(128)]\n",
        "    kernel_size_choice = [int(3), int(5), int(7)]\n",
        "    n_neurons_choice = [int(256), int(512), int(1024)]\n",
        "    learning_rate_choice = [float(0.0001), float(0.001), float(0.01)]\n",
        "\n",
        "    # Input layer\n",
        "    model.add(layers.Conv2D(\n",
        "        filters=hp.Choice(\"input_filter\", filter_choice),\n",
        "        kernel_size=hp.Choice(\"input_kernel_size\", kernel_size_choice),\n",
        "        activation=hp.Choice(\"input_activation\", [\"relu\", \"leaky_relu\"]),\n",
        "        input_shape=input_shape\n",
        "    ))\n",
        "    model.add(layers.MaxPooling2D(pool_size=2))\n",
        "\n",
        "    # Convolutional layers\n",
        "    for i in range(hp.Choice(\"n_conv_layers\", [int(1), int(3)])):\n",
        "        model.add(layers.Conv2D(\n",
        "            filters=hp.Choice(f\"conv_filter_{i}\", filter_choice),\n",
        "            kernel_size=hp.Choice(f\"conv_kernel_size_{i}\", kernel_size_choice),\n",
        "            activation=hp.Choice(f\"conv_activation_{i}\", [\"relu\", \"leaky_relu\"])\n",
        "        ))\n",
        "        if i < 1:\n",
        "            model.add(layers.MaxPooling2D(pool_size=2))\n",
        "\n",
        "    # Flatten layer\n",
        "    model.add(layers.Flatten())\n",
        "\n",
        "    # Intermediate dense layer\n",
        "    model.add(layers.Dense(\n",
        "        hp.Choice(f\"n_neurons_dense_{i}\", n_neurons_choice),\n",
        "        activation=hp.Choice(f\"dense_activation{i}\", [\"relu\", \"leaky_relu\"])\n",
        "    ))\n",
        "\n",
        "    # Output layer (78 classes)\n",
        "    model.add(layers.Dense(78, activation=\"softmax\"))\n",
        "\n",
        "    # Optimizer selection\n",
        "    optimizer_name = hp.Choice('optimizer', ['adamw', 'sgd', 'rmsprop'])\n",
        "    if optimizer_name == 'adamw':\n",
        "        optimizer = tf.keras.optimizers.AdamW(learning_rate=hp.Choice('learning_rate', learning_rate_choice), weight_decay=1e-5)\n",
        "    elif optimizer_name == 'sgd':\n",
        "        optimizer = tf.keras.optimizers.SGD(learning_rate=hp.Choice('learning_rate', learning_rate_choice))\n",
        "    else:\n",
        "        optimizer = tf.keras.optimizers.RMSprop(learning_rate=hp.Choice('learning_rate', learning_rate_choice))\n",
        "\n",
        "    model.compile(optimizer=optimizer, loss=\"categorical_crossentropy\", metrics=metrics)\n",
        "\n",
        "    return model"
      ]
    },
    {
      "cell_type": "markdown",
      "metadata": {
        "id": "xar_fpmPhps6"
      },
      "source": [
        "In this project, a hyperband gridsearch will be used since the hyperband tuner will stop training the model if the accuracy is low on the validation data <a href = \"https://medium.com/analytics-vidhya/automated-hyperparameter-tuning-with-keras-tuner-and-tensorflow-2-0-31ec83f08a62#:~:text=Overview%20of%20available%20Keras%20Tuners,Tuners%20available%2C%20as%20of%20now.&text=The%20basic%20and%20least%20efficient,from%20a%20search%20space%20randomly.&text=A%20Hyperband%20tuner%20is%20an,accuracy%20on%20the%20validation%20set.&text=Bayesian%20Optimization%20works%20the%20same,Keras%20Tuner%20with%20the%20Documentation.\">(Bag, 2021)</a>. Type casting will be applied since there was an error that kept occuring which is \"TypeError: Object of type int64 is not JSON serializable\" likeley due to keras_tuner trying to save the paramaeters in a JSON file and jason dosen't support int 64 can be refered <a href = \"https://developers.google.com/discovery/v1/type-format#:~:text=For%20example%2C%20a%2064-bit,string%20in%20JSON%20requests%2Fresponses.\">here</a>."
      ]
    },
    {
      "cell_type": "code",
      "execution_count": 50,
      "metadata": {
        "id": "9v2lzJguhps6"
      },
      "outputs": [],
      "source": [
        "#tuner_hyperband = keras_tuner.Hyperband(\n",
        "#     hypermodel = create_model,\n",
        "#     objective= keras_tuner.Objective(\"val_recall\",\n",
        "#                                      direction='max'),\n",
        "#     max_epochs=100,\n",
        "#     factor = 5,\n",
        "#     hyperband_iterations=1, #the number of itterations that the model will go trough the hyperband algorithm\n",
        "#     seed = 42, #for reproducibility\n",
        "#     overwrite = True,\n",
        "#     # directory = \"model_train_log\", #to store logs on the trial results\n",
        "#     # project_name = \"medzy\"\n",
        "#)"
      ]
    },
    {
      "cell_type": "code",
      "execution_count": 51,
      "metadata": {
        "id": "NOpxszYEhps7"
      },
      "outputs": [],
      "source": [
        " # Bayesian optimization\n",
        "tuner_bayes = keras_tuner.BayesianOptimization(\n",
        "   hypermodel = create_model,\n",
        "   objective= \"val_recall\",\n",
        "   max_trials = int(2000), #ther are so many combinations\n",
        "   seed = 42,\n",
        "   overwrite = True\n",
        ")"
      ]
    },
    {
      "cell_type": "code",
      "execution_count": 52,
      "metadata": {
        "id": "uJgc7Zknhps7"
      },
      "outputs": [],
      "source": [
        "#tuner_gridSearch = keras_tuner.GridSearch(\n",
        "#    hypermodel = create_model,\n",
        "#    objective = keras_tuner.Objective(\"val_recall\",\n",
        "#                                     direction='max'),\n",
        "#    seed = 42,\n",
        "#    overwrite = True\n",
        "#)"
      ]
    },
    {
      "cell_type": "markdown",
      "metadata": {
        "id": "6I0Y-mmQhps7"
      },
      "source": [
        "#### Start the grid search"
      ]
    },
    {
      "cell_type": "code",
      "execution_count": 53,
      "metadata": {
        "id": "DSRRESGuhps7",
        "outputId": "da8d919e-864b-41a0-9b9f-68c43a689114",
        "colab": {
          "base_uri": "https://localhost:8080/",
          "height": 1000
        }
      },
      "outputs": [
        {
          "output_type": "stream",
          "name": "stdout",
          "text": [
            "Trial 2 Complete [00h 00m 55s]\n",
            "\n",
            "Best val_recall So Far: None\n",
            "Total elapsed time: 00h 02m 16s\n",
            "\n",
            "Search: Running Trial #3\n",
            "\n",
            "Value             |Best Value So Far |Hyperparameter\n",
            "64                |64                |input_filter\n",
            "5                 |3                 |input_kernel_size\n",
            "relu              |relu              |input_activation\n",
            "1                 |1                 |n_conv_layers\n",
            "128               |128               |conv_filter_0\n",
            "7                 |5                 |conv_kernel_size_0\n",
            "leaky_relu        |leaky_relu        |conv_activation_0\n",
            "256               |256               |n_neurons_dense_0\n",
            "relu              |relu              |dense_activation0\n",
            "adamw             |adamw             |optimizer\n",
            "0.01              |0.01              |learning_rate\n",
            "64                |None              |conv_filter_1\n",
            "5                 |None              |conv_kernel_size_1\n",
            "leaky_relu        |None              |conv_activation_1\n",
            "128               |None              |conv_filter_2\n",
            "3                 |None              |conv_kernel_size_2\n",
            "relu              |None              |conv_activation_2\n",
            "512               |None              |n_neurons_dense_2\n",
            "relu              |None              |dense_activation2\n",
            "\n",
            "Epoch 1/50\n",
            "\u001b[1m98/98\u001b[0m \u001b[32m━━━━━━━━━━━━━━━━━━━━\u001b[0m\u001b[37m\u001b[0m \u001b[1m36s\u001b[0m 241ms/step - accuracy: 0.0083 - f1_score: 0.0085 - loss: 212618.4375 - precision_m: 0.0087 - recall_m: 0.0083 - val_accuracy: 0.0000e+00 - val_f1_score: 0.0000e+00 - val_loss: 5.0312 - val_precision_m: 0.0000e+00 - val_recall_m: 0.0000e+00\n",
            "Epoch 2/50\n",
            "\u001b[1m98/98\u001b[0m \u001b[32m━━━━━━━━━━━━━━━━━━━━\u001b[0m\u001b[37m\u001b[0m \u001b[1m16s\u001b[0m 159ms/step - accuracy: 0.0000e+00 - f1_score: 0.0000e+00 - loss: 4.8005 - precision_m: 0.0000e+00 - recall_m: 0.0000e+00 - val_accuracy: 0.0000e+00 - val_f1_score: 0.0000e+00 - val_loss: 4.3969 - val_precision_m: 0.0000e+00 - val_recall_m: 0.0000e+00\n",
            "Epoch 3/50\n",
            "\u001b[1m98/98\u001b[0m \u001b[32m━━━━━━━━━━━━━━━━━━━━\u001b[0m\u001b[37m\u001b[0m \u001b[1m16s\u001b[0m 159ms/step - accuracy: 0.0000e+00 - f1_score: 0.0000e+00 - loss: 4.4005 - precision_m: 0.0000e+00 - recall_m: 0.0000e+00 - val_accuracy: 0.0000e+00 - val_f1_score: 0.0000e+00 - val_loss: 4.3845 - val_precision_m: 0.0000e+00 - val_recall_m: 0.0000e+00\n",
            "Epoch 4/50\n",
            "\u001b[1m98/98\u001b[0m \u001b[32m━━━━━━━━━━━━━━━━━━━━\u001b[0m\u001b[37m\u001b[0m \u001b[1m15s\u001b[0m 158ms/step - accuracy: 0.0000e+00 - f1_score: 0.0000e+00 - loss: 4.3774 - precision_m: 0.0000e+00 - recall_m: 0.0000e+00 - val_accuracy: 0.0000e+00 - val_f1_score: 0.0000e+00 - val_loss: 4.3600 - val_precision_m: 0.0000e+00 - val_recall_m: 0.0000e+00\n",
            "Epoch 4: early stopping\n",
            "Restoring model weights from the end of the best epoch: 1.\n"
          ]
        },
        {
          "output_type": "stream",
          "name": "stderr",
          "text": [
            "Traceback (most recent call last):\n",
            "  File \"/usr/local/lib/python3.11/dist-packages/keras_tuner/src/engine/base_tuner.py\", line 274, in _try_run_and_update_trial\n",
            "    self._run_and_update_trial(trial, *fit_args, **fit_kwargs)\n",
            "  File \"/usr/local/lib/python3.11/dist-packages/keras_tuner/src/engine/base_tuner.py\", line 239, in _run_and_update_trial\n",
            "    results = self.run_trial(trial, *fit_args, **fit_kwargs)\n",
            "              ^^^^^^^^^^^^^^^^^^^^^^^^^^^^^^^^^^^^^^^^^^^^^^\n",
            "  File \"/usr/local/lib/python3.11/dist-packages/keras_tuner/src/engine/tuner.py\", line 314, in run_trial\n",
            "    obj_value = self._build_and_fit_model(trial, *args, **copied_kwargs)\n",
            "                ^^^^^^^^^^^^^^^^^^^^^^^^^^^^^^^^^^^^^^^^^^^^^^^^^^^^^^^^\n",
            "  File \"/usr/local/lib/python3.11/dist-packages/keras_tuner/src/engine/tuner.py\", line 237, in _build_and_fit_model\n",
            "    utils.save_json(\n",
            "  File \"/usr/local/lib/python3.11/dist-packages/keras_tuner/src/utils.py\", line 91, in save_json\n",
            "    obj_str = json.dumps(obj)\n",
            "              ^^^^^^^^^^^^^^^\n",
            "  File \"/usr/lib/python3.11/json/__init__.py\", line 231, in dumps\n",
            "    return _default_encoder.encode(obj)\n",
            "           ^^^^^^^^^^^^^^^^^^^^^^^^^^^^\n",
            "  File \"/usr/lib/python3.11/json/encoder.py\", line 200, in encode\n",
            "    chunks = self.iterencode(o, _one_shot=True)\n",
            "             ^^^^^^^^^^^^^^^^^^^^^^^^^^^^^^^^^^\n",
            "  File \"/usr/lib/python3.11/json/encoder.py\", line 258, in iterencode\n",
            "    return _iterencode(o, 0)\n",
            "           ^^^^^^^^^^^^^^^^^\n",
            "  File \"/usr/lib/python3.11/json/encoder.py\", line 180, in default\n",
            "    raise TypeError(f'Object of type {o.__class__.__name__} '\n",
            "TypeError: Object of type int64 is not JSON serializable\n"
          ]
        },
        {
          "output_type": "error",
          "ename": "RuntimeError",
          "evalue": "Number of consecutive failures exceeded the limit of 3.\nTraceback (most recent call last):\n  File \"/usr/local/lib/python3.11/dist-packages/keras_tuner/src/engine/base_tuner.py\", line 274, in _try_run_and_update_trial\n    self._run_and_update_trial(trial, *fit_args, **fit_kwargs)\n  File \"/usr/local/lib/python3.11/dist-packages/keras_tuner/src/engine/base_tuner.py\", line 239, in _run_and_update_trial\n    results = self.run_trial(trial, *fit_args, **fit_kwargs)\n              ^^^^^^^^^^^^^^^^^^^^^^^^^^^^^^^^^^^^^^^^^^^^^^\n  File \"/usr/local/lib/python3.11/dist-packages/keras_tuner/src/engine/tuner.py\", line 314, in run_trial\n    obj_value = self._build_and_fit_model(trial, *args, **copied_kwargs)\n                ^^^^^^^^^^^^^^^^^^^^^^^^^^^^^^^^^^^^^^^^^^^^^^^^^^^^^^^^\n  File \"/usr/local/lib/python3.11/dist-packages/keras_tuner/src/engine/tuner.py\", line 237, in _build_and_fit_model\n    utils.save_json(\n  File \"/usr/local/lib/python3.11/dist-packages/keras_tuner/src/utils.py\", line 91, in save_json\n    obj_str = json.dumps(obj)\n              ^^^^^^^^^^^^^^^\n  File \"/usr/lib/python3.11/json/__init__.py\", line 231, in dumps\n    return _default_encoder.encode(obj)\n           ^^^^^^^^^^^^^^^^^^^^^^^^^^^^\n  File \"/usr/lib/python3.11/json/encoder.py\", line 200, in encode\n    chunks = self.iterencode(o, _one_shot=True)\n             ^^^^^^^^^^^^^^^^^^^^^^^^^^^^^^^^^^\n  File \"/usr/lib/python3.11/json/encoder.py\", line 258, in iterencode\n    return _iterencode(o, 0)\n           ^^^^^^^^^^^^^^^^^\n  File \"/usr/lib/python3.11/json/encoder.py\", line 180, in default\n    raise TypeError(f'Object of type {o.__class__.__name__} '\nTypeError: Object of type int64 is not JSON serializable\n",
          "traceback": [
            "\u001b[0;31m---------------------------------------------------------------------------\u001b[0m",
            "\u001b[0;31mRuntimeError\u001b[0m                              Traceback (most recent call last)",
            "\u001b[0;32m<ipython-input-53-8c1bfbdd2982>\u001b[0m in \u001b[0;36m<cell line: 0>\u001b[0;34m()\u001b[0m\n\u001b[1;32m      1\u001b[0m \u001b[0mvalidation_steps\u001b[0m \u001b[0;34m=\u001b[0m \u001b[0mint\u001b[0m\u001b[0;34m(\u001b[0m\u001b[0mlen\u001b[0m\u001b[0;34m(\u001b[0m\u001b[0mvalidation_images\u001b[0m\u001b[0;34m)\u001b[0m\u001b[0;34m)\u001b[0m \u001b[0;31m#the number of validation for number of batches\u001b[0m\u001b[0;34m\u001b[0m\u001b[0;34m\u001b[0m\u001b[0m\n\u001b[1;32m      2\u001b[0m \u001b[0;34m\u001b[0m\u001b[0m\n\u001b[0;32m----> 3\u001b[0;31m tuner_bayes.search(\n\u001b[0m\u001b[1;32m      4\u001b[0m     \u001b[0mtrain_images\u001b[0m\u001b[0;34m,\u001b[0m\u001b[0;34m\u001b[0m\u001b[0;34m\u001b[0m\u001b[0m\n\u001b[1;32m      5\u001b[0m     \u001b[0mtrain_name_enc\u001b[0m\u001b[0;34m,\u001b[0m\u001b[0;34m\u001b[0m\u001b[0;34m\u001b[0m\u001b[0m\n",
            "\u001b[0;32m/usr/local/lib/python3.11/dist-packages/keras_tuner/src/engine/base_tuner.py\u001b[0m in \u001b[0;36msearch\u001b[0;34m(self, *fit_args, **fit_kwargs)\u001b[0m\n\u001b[1;32m    233\u001b[0m             \u001b[0mself\u001b[0m\u001b[0;34m.\u001b[0m\u001b[0mon_trial_begin\u001b[0m\u001b[0;34m(\u001b[0m\u001b[0mtrial\u001b[0m\u001b[0;34m)\u001b[0m\u001b[0;34m\u001b[0m\u001b[0;34m\u001b[0m\u001b[0m\n\u001b[1;32m    234\u001b[0m             \u001b[0mself\u001b[0m\u001b[0;34m.\u001b[0m\u001b[0m_try_run_and_update_trial\u001b[0m\u001b[0;34m(\u001b[0m\u001b[0mtrial\u001b[0m\u001b[0;34m,\u001b[0m \u001b[0;34m*\u001b[0m\u001b[0mfit_args\u001b[0m\u001b[0;34m,\u001b[0m \u001b[0;34m**\u001b[0m\u001b[0mfit_kwargs\u001b[0m\u001b[0;34m)\u001b[0m\u001b[0;34m\u001b[0m\u001b[0;34m\u001b[0m\u001b[0m\n\u001b[0;32m--> 235\u001b[0;31m             \u001b[0mself\u001b[0m\u001b[0;34m.\u001b[0m\u001b[0mon_trial_end\u001b[0m\u001b[0;34m(\u001b[0m\u001b[0mtrial\u001b[0m\u001b[0;34m)\u001b[0m\u001b[0;34m\u001b[0m\u001b[0;34m\u001b[0m\u001b[0m\n\u001b[0m\u001b[1;32m    236\u001b[0m         \u001b[0mself\u001b[0m\u001b[0;34m.\u001b[0m\u001b[0mon_search_end\u001b[0m\u001b[0;34m(\u001b[0m\u001b[0;34m)\u001b[0m\u001b[0;34m\u001b[0m\u001b[0;34m\u001b[0m\u001b[0m\n\u001b[1;32m    237\u001b[0m \u001b[0;34m\u001b[0m\u001b[0m\n",
            "\u001b[0;32m/usr/local/lib/python3.11/dist-packages/keras_tuner/src/engine/base_tuner.py\u001b[0m in \u001b[0;36mon_trial_end\u001b[0;34m(self, trial)\u001b[0m\n\u001b[1;32m    337\u001b[0m             \u001b[0mtrial\u001b[0m\u001b[0;34m:\u001b[0m \u001b[0mA\u001b[0m\u001b[0;31m \u001b[0m\u001b[0;31m`\u001b[0m\u001b[0mTrial\u001b[0m\u001b[0;31m`\u001b[0m \u001b[0minstance\u001b[0m\u001b[0;34m.\u001b[0m\u001b[0;34m\u001b[0m\u001b[0;34m\u001b[0m\u001b[0m\n\u001b[1;32m    338\u001b[0m         \"\"\"\n\u001b[0;32m--> 339\u001b[0;31m         \u001b[0mself\u001b[0m\u001b[0;34m.\u001b[0m\u001b[0moracle\u001b[0m\u001b[0;34m.\u001b[0m\u001b[0mend_trial\u001b[0m\u001b[0;34m(\u001b[0m\u001b[0mtrial\u001b[0m\u001b[0;34m)\u001b[0m\u001b[0;34m\u001b[0m\u001b[0;34m\u001b[0m\u001b[0m\n\u001b[0m\u001b[1;32m    340\u001b[0m         \u001b[0mself\u001b[0m\u001b[0;34m.\u001b[0m\u001b[0msave\u001b[0m\u001b[0;34m(\u001b[0m\u001b[0;34m)\u001b[0m\u001b[0;34m\u001b[0m\u001b[0;34m\u001b[0m\u001b[0m\n\u001b[1;32m    341\u001b[0m \u001b[0;34m\u001b[0m\u001b[0m\n",
            "\u001b[0;32m/usr/local/lib/python3.11/dist-packages/keras_tuner/src/engine/oracle.py\u001b[0m in \u001b[0;36mwrapped_func\u001b[0;34m(*args, **kwargs)\u001b[0m\n\u001b[1;32m    106\u001b[0m             \u001b[0mLOCKS\u001b[0m\u001b[0;34m[\u001b[0m\u001b[0moracle\u001b[0m\u001b[0;34m]\u001b[0m\u001b[0;34m.\u001b[0m\u001b[0macquire\u001b[0m\u001b[0;34m(\u001b[0m\u001b[0;34m)\u001b[0m\u001b[0;34m\u001b[0m\u001b[0;34m\u001b[0m\u001b[0m\n\u001b[1;32m    107\u001b[0m             \u001b[0mTHREADS\u001b[0m\u001b[0;34m[\u001b[0m\u001b[0moracle\u001b[0m\u001b[0;34m]\u001b[0m \u001b[0;34m=\u001b[0m \u001b[0mthread_name\u001b[0m\u001b[0;34m\u001b[0m\u001b[0;34m\u001b[0m\u001b[0m\n\u001b[0;32m--> 108\u001b[0;31m         \u001b[0mret_val\u001b[0m \u001b[0;34m=\u001b[0m \u001b[0mfunc\u001b[0m\u001b[0;34m(\u001b[0m\u001b[0;34m*\u001b[0m\u001b[0margs\u001b[0m\u001b[0;34m,\u001b[0m \u001b[0;34m**\u001b[0m\u001b[0mkwargs\u001b[0m\u001b[0;34m)\u001b[0m\u001b[0;34m\u001b[0m\u001b[0;34m\u001b[0m\u001b[0m\n\u001b[0m\u001b[1;32m    109\u001b[0m         \u001b[0;32mif\u001b[0m \u001b[0mneed_acquire\u001b[0m\u001b[0;34m:\u001b[0m\u001b[0;34m\u001b[0m\u001b[0;34m\u001b[0m\u001b[0m\n\u001b[1;32m    110\u001b[0m             \u001b[0mTHREADS\u001b[0m\u001b[0;34m[\u001b[0m\u001b[0moracle\u001b[0m\u001b[0;34m]\u001b[0m \u001b[0;34m=\u001b[0m \u001b[0;32mNone\u001b[0m\u001b[0;34m\u001b[0m\u001b[0;34m\u001b[0m\u001b[0m\n",
            "\u001b[0;32m/usr/local/lib/python3.11/dist-packages/keras_tuner/src/engine/oracle.py\u001b[0m in \u001b[0;36mend_trial\u001b[0;34m(self, trial)\u001b[0m\n\u001b[1;32m    586\u001b[0m         \u001b[0;32mif\u001b[0m \u001b[0;32mnot\u001b[0m \u001b[0mself\u001b[0m\u001b[0;34m.\u001b[0m\u001b[0m_retry\u001b[0m\u001b[0;34m(\u001b[0m\u001b[0mtrial\u001b[0m\u001b[0;34m)\u001b[0m\u001b[0;34m:\u001b[0m\u001b[0;34m\u001b[0m\u001b[0;34m\u001b[0m\u001b[0m\n\u001b[1;32m    587\u001b[0m             \u001b[0mself\u001b[0m\u001b[0;34m.\u001b[0m\u001b[0mend_order\u001b[0m\u001b[0;34m.\u001b[0m\u001b[0mappend\u001b[0m\u001b[0;34m(\u001b[0m\u001b[0mtrial\u001b[0m\u001b[0;34m.\u001b[0m\u001b[0mtrial_id\u001b[0m\u001b[0;34m)\u001b[0m\u001b[0;34m\u001b[0m\u001b[0;34m\u001b[0m\u001b[0m\n\u001b[0;32m--> 588\u001b[0;31m             \u001b[0mself\u001b[0m\u001b[0;34m.\u001b[0m\u001b[0m_check_consecutive_failures\u001b[0m\u001b[0;34m(\u001b[0m\u001b[0;34m)\u001b[0m\u001b[0;34m\u001b[0m\u001b[0;34m\u001b[0m\u001b[0m\n\u001b[0m\u001b[1;32m    589\u001b[0m \u001b[0;34m\u001b[0m\u001b[0m\n\u001b[1;32m    590\u001b[0m         \u001b[0mself\u001b[0m\u001b[0;34m.\u001b[0m\u001b[0m_save_trial\u001b[0m\u001b[0;34m(\u001b[0m\u001b[0mtrial\u001b[0m\u001b[0;34m)\u001b[0m\u001b[0;34m\u001b[0m\u001b[0;34m\u001b[0m\u001b[0m\n",
            "\u001b[0;32m/usr/local/lib/python3.11/dist-packages/keras_tuner/src/engine/oracle.py\u001b[0m in \u001b[0;36m_check_consecutive_failures\u001b[0;34m(self)\u001b[0m\n\u001b[1;32m    543\u001b[0m                 \u001b[0mconsecutive_failures\u001b[0m \u001b[0;34m=\u001b[0m \u001b[0;36m0\u001b[0m\u001b[0;34m\u001b[0m\u001b[0;34m\u001b[0m\u001b[0m\n\u001b[1;32m    544\u001b[0m             \u001b[0;32mif\u001b[0m \u001b[0mconsecutive_failures\u001b[0m \u001b[0;34m==\u001b[0m \u001b[0mself\u001b[0m\u001b[0;34m.\u001b[0m\u001b[0mmax_consecutive_failed_trials\u001b[0m\u001b[0;34m:\u001b[0m\u001b[0;34m\u001b[0m\u001b[0;34m\u001b[0m\u001b[0m\n\u001b[0;32m--> 545\u001b[0;31m                 raise RuntimeError(\n\u001b[0m\u001b[1;32m    546\u001b[0m                     \u001b[0;34m\"Number of consecutive failures exceeded the limit \"\u001b[0m\u001b[0;34m\u001b[0m\u001b[0;34m\u001b[0m\u001b[0m\n\u001b[1;32m    547\u001b[0m                     \u001b[0;34mf\"of {self.max_consecutive_failed_trials}.\\n\"\u001b[0m\u001b[0;34m\u001b[0m\u001b[0;34m\u001b[0m\u001b[0m\n",
            "\u001b[0;31mRuntimeError\u001b[0m: Number of consecutive failures exceeded the limit of 3.\nTraceback (most recent call last):\n  File \"/usr/local/lib/python3.11/dist-packages/keras_tuner/src/engine/base_tuner.py\", line 274, in _try_run_and_update_trial\n    self._run_and_update_trial(trial, *fit_args, **fit_kwargs)\n  File \"/usr/local/lib/python3.11/dist-packages/keras_tuner/src/engine/base_tuner.py\", line 239, in _run_and_update_trial\n    results = self.run_trial(trial, *fit_args, **fit_kwargs)\n              ^^^^^^^^^^^^^^^^^^^^^^^^^^^^^^^^^^^^^^^^^^^^^^\n  File \"/usr/local/lib/python3.11/dist-packages/keras_tuner/src/engine/tuner.py\", line 314, in run_trial\n    obj_value = self._build_and_fit_model(trial, *args, **copied_kwargs)\n                ^^^^^^^^^^^^^^^^^^^^^^^^^^^^^^^^^^^^^^^^^^^^^^^^^^^^^^^^\n  File \"/usr/local/lib/python3.11/dist-packages/keras_tuner/src/engine/tuner.py\", line 237, in _build_and_fit_model\n    utils.save_json(\n  File \"/usr/local/lib/python3.11/dist-packages/keras_tuner/src/utils.py\", line 91, in save_json\n    obj_str = json.dumps(obj)\n              ^^^^^^^^^^^^^^^\n  File \"/usr/lib/python3.11/json/__init__.py\", line 231, in dumps\n    return _default_encoder.encode(obj)\n           ^^^^^^^^^^^^^^^^^^^^^^^^^^^^\n  File \"/usr/lib/python3.11/json/encoder.py\", line 200, in encode\n    chunks = self.iterencode(o, _one_shot=True)\n             ^^^^^^^^^^^^^^^^^^^^^^^^^^^^^^^^^^\n  File \"/usr/lib/python3.11/json/encoder.py\", line 258, in iterencode\n    return _iterencode(o, 0)\n           ^^^^^^^^^^^^^^^^^\n  File \"/usr/lib/python3.11/json/encoder.py\", line 180, in default\n    raise TypeError(f'Object of type {o.__class__.__name__} '\nTypeError: Object of type int64 is not JSON serializable\n"
          ]
        }
      ],
      "source": [
        "validation_steps = int(len(validation_images)) #the number of validation for number of batches\n",
        "\n",
        "tuner_bayes.search(\n",
        "    train_images,\n",
        "    train_name_enc,\n",
        "    epochs = int(50),\n",
        "    validation_data = (validation_images, validation_name_enc), #data used to evaluate the model after each epoch\n",
        "    validation_steps = validation_steps, #number of batches used for validation\n",
        "    callbacks = [\n",
        "              #keras.callbacks.EarlyStopping(\n",
        "    #         monitor=\"val_recall_m\",  # Metric to monitor\n",
        "    #         patience=3,  # Number of epochs with no improvement before stopping\n",
        "    #         mode=\"min\",  # Since we want to maximize recall\n",
        "    #         # restore_best_weights=True,  # Restores the best model weights at the end\n",
        "    #         verbose=1  # Prints when early stopping happens\n",
        "    #         ),\n",
        "            keras.callbacks.EarlyStopping(\n",
        "                monitor = \"val_f1_score\",\n",
        "                patience = int(3),\n",
        "                mode = \"max\",\n",
        "                restore_best_weights = True,\n",
        "                verbose = int(1)\n",
        "            )\n",
        "            # keras.callbacks.EarlyStopping(\n",
        "            #     monitor = \"val_precision\",\n",
        "            #     patience = 3,\n",
        "            #     mode = \"max\",\n",
        "            #     restore_best_weights = True,\n",
        "            #     verbose = 1\n",
        "            # )\n",
        "           ]\n",
        ")"
      ]
    },
    {
      "cell_type": "code",
      "execution_count": null,
      "metadata": {
        "id": "wS37NwfYhps7"
      },
      "outputs": [],
      "source": [
        "best_hp = tuner_bayes.get_best_hyperparameters()[0]\n",
        "best_hp.values"
      ]
    },
    {
      "cell_type": "code",
      "source": [],
      "metadata": {
        "id": "6fioJZPit1Mx"
      },
      "execution_count": null,
      "outputs": []
    }
  ],
  "metadata": {
    "language_info": {
      "name": "python"
    },
    "colab": {
      "provenance": [],
      "machine_shape": "hm",
      "gpuType": "L4",
      "include_colab_link": true
    },
    "accelerator": "GPU",
    "kernelspec": {
      "name": "python3",
      "display_name": "Python 3"
    }
  },
  "nbformat": 4,
  "nbformat_minor": 0
}