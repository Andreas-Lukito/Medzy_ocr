{
  "cells": [
    {
      "cell_type": "markdown",
      "metadata": {
        "id": "view-in-github",
        "colab_type": "text"
      },
      "source": [
        "<a href=\"https://colab.research.google.com/github/Andreas-Lukito/Medzy_ocr/blob/main/medzy_collab_ver.ipynb\" target=\"_parent\"><img src=\"https://colab.research.google.com/assets/colab-badge.svg\" alt=\"Open In Colab\"/></a>"
      ]
    },
    {
      "cell_type": "markdown",
      "metadata": {
        "id": "lTA1H6Nl7y3H"
      },
      "source": [
        "# Medzy"
      ]
    },
    {
      "cell_type": "code",
      "source": [
        "from google.colab import drive\n",
        "drive.mount('/content/drive')"
      ],
      "metadata": {
        "id": "59b4u3Ps74MQ",
        "colab": {
          "base_uri": "https://localhost:8080/"
        },
        "outputId": "37b989a0-8ac8-45be-d783-a3a6382fa40a"
      },
      "execution_count": 1,
      "outputs": [
        {
          "output_type": "stream",
          "name": "stdout",
          "text": [
            "Mounted at /content/drive\n"
          ]
        }
      ]
    },
    {
      "cell_type": "markdown",
      "metadata": {
        "id": "ropZ1fZs7y3J"
      },
      "source": [
        "## Overview"
      ]
    },
    {
      "cell_type": "markdown",
      "metadata": {
        "id": "qTPI0yn97y3K"
      },
      "source": [
        "This project aims to develop a machine learning model capable of interpreting doctors’ handwriting on prescriptions. By accurately detecting and translating challenging handwriting, the model will empower patients to read their prescriptions independently, making it easier for them to purchase their medications without confusion if they run out of medecine or to check if the cleric gave the correct medicine.\n",
        "\n",
        "This model will use Tensor flows' keras convolutional neural network as reference to this <a href = \"https://www.tensorflow.org/tutorials/images/cnn\">documentation</a>. The model will also be trained using this <a href=\"https://www.kaggle.com/datasets/mamun1113/doctors-handwritten-prescription-bd-dataset\">dataset</a> from kaggle."
      ]
    },
    {
      "cell_type": "markdown",
      "metadata": {
        "id": "9q4r4lHa7y3K"
      },
      "source": [
        "## Importing needed libraries"
      ]
    },
    {
      "cell_type": "markdown",
      "source": [
        "### Installing environment"
      ],
      "metadata": {
        "id": "pNsjD3viC2og"
      }
    },
    {
      "cell_type": "code",
      "source": [
        "!pip install keras-tuner"
      ],
      "metadata": {
        "id": "PvpUUjhl7Z4d",
        "outputId": "9b9e8938-33ed-4166-aacc-1c66e64d317c",
        "colab": {
          "base_uri": "https://localhost:8080/"
        }
      },
      "execution_count": 2,
      "outputs": [
        {
          "output_type": "stream",
          "name": "stdout",
          "text": [
            "Collecting keras-tuner\n",
            "  Downloading keras_tuner-1.4.7-py3-none-any.whl.metadata (5.4 kB)\n",
            "Requirement already satisfied: keras in /usr/local/lib/python3.11/dist-packages (from keras-tuner) (3.8.0)\n",
            "Requirement already satisfied: packaging in /usr/local/lib/python3.11/dist-packages (from keras-tuner) (24.2)\n",
            "Requirement already satisfied: requests in /usr/local/lib/python3.11/dist-packages (from keras-tuner) (2.32.3)\n",
            "Collecting kt-legacy (from keras-tuner)\n",
            "  Downloading kt_legacy-1.0.5-py3-none-any.whl.metadata (221 bytes)\n",
            "Requirement already satisfied: absl-py in /usr/local/lib/python3.11/dist-packages (from keras->keras-tuner) (1.4.0)\n",
            "Requirement already satisfied: numpy in /usr/local/lib/python3.11/dist-packages (from keras->keras-tuner) (1.26.4)\n",
            "Requirement already satisfied: rich in /usr/local/lib/python3.11/dist-packages (from keras->keras-tuner) (13.9.4)\n",
            "Requirement already satisfied: namex in /usr/local/lib/python3.11/dist-packages (from keras->keras-tuner) (0.0.8)\n",
            "Requirement already satisfied: h5py in /usr/local/lib/python3.11/dist-packages (from keras->keras-tuner) (3.12.1)\n",
            "Requirement already satisfied: optree in /usr/local/lib/python3.11/dist-packages (from keras->keras-tuner) (0.14.0)\n",
            "Requirement already satisfied: ml-dtypes in /usr/local/lib/python3.11/dist-packages (from keras->keras-tuner) (0.4.1)\n",
            "Requirement already satisfied: charset-normalizer<4,>=2 in /usr/local/lib/python3.11/dist-packages (from requests->keras-tuner) (3.4.1)\n",
            "Requirement already satisfied: idna<4,>=2.5 in /usr/local/lib/python3.11/dist-packages (from requests->keras-tuner) (3.10)\n",
            "Requirement already satisfied: urllib3<3,>=1.21.1 in /usr/local/lib/python3.11/dist-packages (from requests->keras-tuner) (2.3.0)\n",
            "Requirement already satisfied: certifi>=2017.4.17 in /usr/local/lib/python3.11/dist-packages (from requests->keras-tuner) (2025.1.31)\n",
            "Requirement already satisfied: typing-extensions>=4.5.0 in /usr/local/lib/python3.11/dist-packages (from optree->keras->keras-tuner) (4.12.2)\n",
            "Requirement already satisfied: markdown-it-py>=2.2.0 in /usr/local/lib/python3.11/dist-packages (from rich->keras->keras-tuner) (3.0.0)\n",
            "Requirement already satisfied: pygments<3.0.0,>=2.13.0 in /usr/local/lib/python3.11/dist-packages (from rich->keras->keras-tuner) (2.18.0)\n",
            "Requirement already satisfied: mdurl~=0.1 in /usr/local/lib/python3.11/dist-packages (from markdown-it-py>=2.2.0->rich->keras->keras-tuner) (0.1.2)\n",
            "Downloading keras_tuner-1.4.7-py3-none-any.whl (129 kB)\n",
            "\u001b[2K   \u001b[90m━━━━━━━━━━━━━━━━━━━━━━━━━━━━━━━━━━━━━━━━\u001b[0m \u001b[32m129.1/129.1 kB\u001b[0m \u001b[31m11.5 MB/s\u001b[0m eta \u001b[36m0:00:00\u001b[0m\n",
            "\u001b[?25hDownloading kt_legacy-1.0.5-py3-none-any.whl (9.6 kB)\n",
            "Installing collected packages: kt-legacy, keras-tuner\n",
            "Successfully installed keras-tuner-1.4.7 kt-legacy-1.0.5\n"
          ]
        }
      ]
    },
    {
      "cell_type": "code",
      "execution_count": 3,
      "metadata": {
        "id": "C2w4RtNy7y3L"
      },
      "outputs": [],
      "source": [
        "# basic python libraries\n",
        "import pandas as pd\n",
        "import matplotlib.pyplot as plt\n",
        "from PIL import Image, ImageEnhance, ImageFilter\n",
        "import cv2\n",
        "import numpy as np\n",
        "import os\n",
        "import glob\n",
        "\n",
        "# data preprocessing libraries\n",
        "from sklearn.preprocessing import LabelEncoder\n",
        "\n",
        "# tensor flow libraries\n",
        "import tensorflow as tf\n",
        "import keras\n",
        "from tensorflow import keras\n",
        "from tensorflow.keras import layers\n",
        "from tensorflow.keras import backend as K\n",
        "from tensorflow.keras.models import Sequential\n",
        "from tensorflow.keras.utils import to_categorical\n",
        "from tensorflow.keras.preprocessing import image_dataset_from_directory\n",
        "# Fine tuning libraries\n",
        "import keras_tuner"
      ]
    },
    {
      "cell_type": "markdown",
      "metadata": {
        "id": "0CYZYxby7y3M"
      },
      "source": [
        "## GPU Setup"
      ]
    },
    {
      "cell_type": "markdown",
      "metadata": {
        "id": "lm4t9hQm7y3M"
      },
      "source": [
        "This section of the code is contributed by <a href = \"https://github.com/SonicRay241\">Rayhan Permana</a>"
      ]
    },
    {
      "cell_type": "code",
      "execution_count": 4,
      "metadata": {
        "id": "MhxbB89y7y3M"
      },
      "outputs": [],
      "source": [
        "gpus = tf.config.experimental.list_physical_devices('GPU')\n",
        "if gpus:\n",
        "    try:\n",
        "        for gpu in gpus:\n",
        "            tf.config.experimental.set_memory_growth(gpu, True)\n",
        "    except RuntimeError as e:\n",
        "        print(e)"
      ]
    },
    {
      "cell_type": "code",
      "source": [
        "#check if gpu is available\n",
        "print(\"Num GPUs Available: \", len(tf.config.list_physical_devices('GPU')))"
      ],
      "metadata": {
        "id": "-jLN17e5-8Ag",
        "outputId": "a725adac-b455-49e7-979d-358fd88517f4",
        "colab": {
          "base_uri": "https://localhost:8080/"
        }
      },
      "execution_count": 5,
      "outputs": [
        {
          "output_type": "stream",
          "name": "stdout",
          "text": [
            "Num GPUs Available:  1\n"
          ]
        }
      ]
    },
    {
      "cell_type": "markdown",
      "metadata": {
        "id": "_wtiLBKY7y3M"
      },
      "source": [
        "## Importing the Data"
      ]
    },
    {
      "cell_type": "markdown",
      "metadata": {
        "id": "d4wqQVYk7y3N"
      },
      "source": [
        "### Train data"
      ]
    },
    {
      "cell_type": "markdown",
      "metadata": {
        "id": "2FRXIZPm7y3N"
      },
      "source": [
        "#### Train Labels"
      ]
    },
    {
      "cell_type": "code",
      "execution_count": 6,
      "metadata": {
        "id": "0KNhV5Kn7y3N"
      },
      "outputs": [],
      "source": [
        "train_path = \"/content/drive/MyDrive/project_medzy/dataset/Training\"\n",
        "train_labels = pd.read_csv(os.path.join(train_path,\"training_labels.csv\"), delimiter = \",\")"
      ]
    },
    {
      "cell_type": "code",
      "execution_count": 7,
      "metadata": {
        "id": "odY8-Ktw7y3N",
        "outputId": "28ce0a3c-59ce-4533-bd0b-c4b8f6af1319",
        "colab": {
          "base_uri": "https://localhost:8080/",
          "height": 206
        }
      },
      "outputs": [
        {
          "output_type": "execute_result",
          "data": {
            "text/plain": [
              "   IMAGE MEDICINE_NAME GENERIC_NAME\n",
              "0  0.png         Aceta  Paracetamol\n",
              "1  1.png         Aceta  Paracetamol\n",
              "2  2.png         Aceta  Paracetamol\n",
              "3  3.png         Aceta  Paracetamol\n",
              "4  4.png         Aceta  Paracetamol"
            ],
            "text/html": [
              "\n",
              "  <div id=\"df-2fe35606-a02f-4ab4-9f16-dc3f4cdf4fc3\" class=\"colab-df-container\">\n",
              "    <div>\n",
              "<style scoped>\n",
              "    .dataframe tbody tr th:only-of-type {\n",
              "        vertical-align: middle;\n",
              "    }\n",
              "\n",
              "    .dataframe tbody tr th {\n",
              "        vertical-align: top;\n",
              "    }\n",
              "\n",
              "    .dataframe thead th {\n",
              "        text-align: right;\n",
              "    }\n",
              "</style>\n",
              "<table border=\"1\" class=\"dataframe\">\n",
              "  <thead>\n",
              "    <tr style=\"text-align: right;\">\n",
              "      <th></th>\n",
              "      <th>IMAGE</th>\n",
              "      <th>MEDICINE_NAME</th>\n",
              "      <th>GENERIC_NAME</th>\n",
              "    </tr>\n",
              "  </thead>\n",
              "  <tbody>\n",
              "    <tr>\n",
              "      <th>0</th>\n",
              "      <td>0.png</td>\n",
              "      <td>Aceta</td>\n",
              "      <td>Paracetamol</td>\n",
              "    </tr>\n",
              "    <tr>\n",
              "      <th>1</th>\n",
              "      <td>1.png</td>\n",
              "      <td>Aceta</td>\n",
              "      <td>Paracetamol</td>\n",
              "    </tr>\n",
              "    <tr>\n",
              "      <th>2</th>\n",
              "      <td>2.png</td>\n",
              "      <td>Aceta</td>\n",
              "      <td>Paracetamol</td>\n",
              "    </tr>\n",
              "    <tr>\n",
              "      <th>3</th>\n",
              "      <td>3.png</td>\n",
              "      <td>Aceta</td>\n",
              "      <td>Paracetamol</td>\n",
              "    </tr>\n",
              "    <tr>\n",
              "      <th>4</th>\n",
              "      <td>4.png</td>\n",
              "      <td>Aceta</td>\n",
              "      <td>Paracetamol</td>\n",
              "    </tr>\n",
              "  </tbody>\n",
              "</table>\n",
              "</div>\n",
              "    <div class=\"colab-df-buttons\">\n",
              "\n",
              "  <div class=\"colab-df-container\">\n",
              "    <button class=\"colab-df-convert\" onclick=\"convertToInteractive('df-2fe35606-a02f-4ab4-9f16-dc3f4cdf4fc3')\"\n",
              "            title=\"Convert this dataframe to an interactive table.\"\n",
              "            style=\"display:none;\">\n",
              "\n",
              "  <svg xmlns=\"http://www.w3.org/2000/svg\" height=\"24px\" viewBox=\"0 -960 960 960\">\n",
              "    <path d=\"M120-120v-720h720v720H120Zm60-500h600v-160H180v160Zm220 220h160v-160H400v160Zm0 220h160v-160H400v160ZM180-400h160v-160H180v160Zm440 0h160v-160H620v160ZM180-180h160v-160H180v160Zm440 0h160v-160H620v160Z\"/>\n",
              "  </svg>\n",
              "    </button>\n",
              "\n",
              "  <style>\n",
              "    .colab-df-container {\n",
              "      display:flex;\n",
              "      gap: 12px;\n",
              "    }\n",
              "\n",
              "    .colab-df-convert {\n",
              "      background-color: #E8F0FE;\n",
              "      border: none;\n",
              "      border-radius: 50%;\n",
              "      cursor: pointer;\n",
              "      display: none;\n",
              "      fill: #1967D2;\n",
              "      height: 32px;\n",
              "      padding: 0 0 0 0;\n",
              "      width: 32px;\n",
              "    }\n",
              "\n",
              "    .colab-df-convert:hover {\n",
              "      background-color: #E2EBFA;\n",
              "      box-shadow: 0px 1px 2px rgba(60, 64, 67, 0.3), 0px 1px 3px 1px rgba(60, 64, 67, 0.15);\n",
              "      fill: #174EA6;\n",
              "    }\n",
              "\n",
              "    .colab-df-buttons div {\n",
              "      margin-bottom: 4px;\n",
              "    }\n",
              "\n",
              "    [theme=dark] .colab-df-convert {\n",
              "      background-color: #3B4455;\n",
              "      fill: #D2E3FC;\n",
              "    }\n",
              "\n",
              "    [theme=dark] .colab-df-convert:hover {\n",
              "      background-color: #434B5C;\n",
              "      box-shadow: 0px 1px 3px 1px rgba(0, 0, 0, 0.15);\n",
              "      filter: drop-shadow(0px 1px 2px rgba(0, 0, 0, 0.3));\n",
              "      fill: #FFFFFF;\n",
              "    }\n",
              "  </style>\n",
              "\n",
              "    <script>\n",
              "      const buttonEl =\n",
              "        document.querySelector('#df-2fe35606-a02f-4ab4-9f16-dc3f4cdf4fc3 button.colab-df-convert');\n",
              "      buttonEl.style.display =\n",
              "        google.colab.kernel.accessAllowed ? 'block' : 'none';\n",
              "\n",
              "      async function convertToInteractive(key) {\n",
              "        const element = document.querySelector('#df-2fe35606-a02f-4ab4-9f16-dc3f4cdf4fc3');\n",
              "        const dataTable =\n",
              "          await google.colab.kernel.invokeFunction('convertToInteractive',\n",
              "                                                    [key], {});\n",
              "        if (!dataTable) return;\n",
              "\n",
              "        const docLinkHtml = 'Like what you see? Visit the ' +\n",
              "          '<a target=\"_blank\" href=https://colab.research.google.com/notebooks/data_table.ipynb>data table notebook</a>'\n",
              "          + ' to learn more about interactive tables.';\n",
              "        element.innerHTML = '';\n",
              "        dataTable['output_type'] = 'display_data';\n",
              "        await google.colab.output.renderOutput(dataTable, element);\n",
              "        const docLink = document.createElement('div');\n",
              "        docLink.innerHTML = docLinkHtml;\n",
              "        element.appendChild(docLink);\n",
              "      }\n",
              "    </script>\n",
              "  </div>\n",
              "\n",
              "\n",
              "<div id=\"df-7a15b995-e542-4764-867e-af8f6950036d\">\n",
              "  <button class=\"colab-df-quickchart\" onclick=\"quickchart('df-7a15b995-e542-4764-867e-af8f6950036d')\"\n",
              "            title=\"Suggest charts\"\n",
              "            style=\"display:none;\">\n",
              "\n",
              "<svg xmlns=\"http://www.w3.org/2000/svg\" height=\"24px\"viewBox=\"0 0 24 24\"\n",
              "     width=\"24px\">\n",
              "    <g>\n",
              "        <path d=\"M19 3H5c-1.1 0-2 .9-2 2v14c0 1.1.9 2 2 2h14c1.1 0 2-.9 2-2V5c0-1.1-.9-2-2-2zM9 17H7v-7h2v7zm4 0h-2V7h2v10zm4 0h-2v-4h2v4z\"/>\n",
              "    </g>\n",
              "</svg>\n",
              "  </button>\n",
              "\n",
              "<style>\n",
              "  .colab-df-quickchart {\n",
              "      --bg-color: #E8F0FE;\n",
              "      --fill-color: #1967D2;\n",
              "      --hover-bg-color: #E2EBFA;\n",
              "      --hover-fill-color: #174EA6;\n",
              "      --disabled-fill-color: #AAA;\n",
              "      --disabled-bg-color: #DDD;\n",
              "  }\n",
              "\n",
              "  [theme=dark] .colab-df-quickchart {\n",
              "      --bg-color: #3B4455;\n",
              "      --fill-color: #D2E3FC;\n",
              "      --hover-bg-color: #434B5C;\n",
              "      --hover-fill-color: #FFFFFF;\n",
              "      --disabled-bg-color: #3B4455;\n",
              "      --disabled-fill-color: #666;\n",
              "  }\n",
              "\n",
              "  .colab-df-quickchart {\n",
              "    background-color: var(--bg-color);\n",
              "    border: none;\n",
              "    border-radius: 50%;\n",
              "    cursor: pointer;\n",
              "    display: none;\n",
              "    fill: var(--fill-color);\n",
              "    height: 32px;\n",
              "    padding: 0;\n",
              "    width: 32px;\n",
              "  }\n",
              "\n",
              "  .colab-df-quickchart:hover {\n",
              "    background-color: var(--hover-bg-color);\n",
              "    box-shadow: 0 1px 2px rgba(60, 64, 67, 0.3), 0 1px 3px 1px rgba(60, 64, 67, 0.15);\n",
              "    fill: var(--button-hover-fill-color);\n",
              "  }\n",
              "\n",
              "  .colab-df-quickchart-complete:disabled,\n",
              "  .colab-df-quickchart-complete:disabled:hover {\n",
              "    background-color: var(--disabled-bg-color);\n",
              "    fill: var(--disabled-fill-color);\n",
              "    box-shadow: none;\n",
              "  }\n",
              "\n",
              "  .colab-df-spinner {\n",
              "    border: 2px solid var(--fill-color);\n",
              "    border-color: transparent;\n",
              "    border-bottom-color: var(--fill-color);\n",
              "    animation:\n",
              "      spin 1s steps(1) infinite;\n",
              "  }\n",
              "\n",
              "  @keyframes spin {\n",
              "    0% {\n",
              "      border-color: transparent;\n",
              "      border-bottom-color: var(--fill-color);\n",
              "      border-left-color: var(--fill-color);\n",
              "    }\n",
              "    20% {\n",
              "      border-color: transparent;\n",
              "      border-left-color: var(--fill-color);\n",
              "      border-top-color: var(--fill-color);\n",
              "    }\n",
              "    30% {\n",
              "      border-color: transparent;\n",
              "      border-left-color: var(--fill-color);\n",
              "      border-top-color: var(--fill-color);\n",
              "      border-right-color: var(--fill-color);\n",
              "    }\n",
              "    40% {\n",
              "      border-color: transparent;\n",
              "      border-right-color: var(--fill-color);\n",
              "      border-top-color: var(--fill-color);\n",
              "    }\n",
              "    60% {\n",
              "      border-color: transparent;\n",
              "      border-right-color: var(--fill-color);\n",
              "    }\n",
              "    80% {\n",
              "      border-color: transparent;\n",
              "      border-right-color: var(--fill-color);\n",
              "      border-bottom-color: var(--fill-color);\n",
              "    }\n",
              "    90% {\n",
              "      border-color: transparent;\n",
              "      border-bottom-color: var(--fill-color);\n",
              "    }\n",
              "  }\n",
              "</style>\n",
              "\n",
              "  <script>\n",
              "    async function quickchart(key) {\n",
              "      const quickchartButtonEl =\n",
              "        document.querySelector('#' + key + ' button');\n",
              "      quickchartButtonEl.disabled = true;  // To prevent multiple clicks.\n",
              "      quickchartButtonEl.classList.add('colab-df-spinner');\n",
              "      try {\n",
              "        const charts = await google.colab.kernel.invokeFunction(\n",
              "            'suggestCharts', [key], {});\n",
              "      } catch (error) {\n",
              "        console.error('Error during call to suggestCharts:', error);\n",
              "      }\n",
              "      quickchartButtonEl.classList.remove('colab-df-spinner');\n",
              "      quickchartButtonEl.classList.add('colab-df-quickchart-complete');\n",
              "    }\n",
              "    (() => {\n",
              "      let quickchartButtonEl =\n",
              "        document.querySelector('#df-7a15b995-e542-4764-867e-af8f6950036d button');\n",
              "      quickchartButtonEl.style.display =\n",
              "        google.colab.kernel.accessAllowed ? 'block' : 'none';\n",
              "    })();\n",
              "  </script>\n",
              "</div>\n",
              "\n",
              "    </div>\n",
              "  </div>\n"
            ],
            "application/vnd.google.colaboratory.intrinsic+json": {
              "type": "dataframe",
              "variable_name": "train_labels",
              "summary": "{\n  \"name\": \"train_labels\",\n  \"rows\": 3120,\n  \"fields\": [\n    {\n      \"column\": \"IMAGE\",\n      \"properties\": {\n        \"dtype\": \"string\",\n        \"num_unique_values\": 3120,\n        \"samples\": [\n          \"2898.png\",\n          \"2976.png\",\n          \"2130.png\"\n        ],\n        \"semantic_type\": \"\",\n        \"description\": \"\"\n      }\n    },\n    {\n      \"column\": \"MEDICINE_NAME\",\n      \"properties\": {\n        \"dtype\": \"category\",\n        \"num_unique_values\": 78,\n        \"samples\": [\n          \"Fixal\",\n          \"Aceta\",\n          \"Flamyd\"\n        ],\n        \"semantic_type\": \"\",\n        \"description\": \"\"\n      }\n    },\n    {\n      \"column\": \"GENERIC_NAME\",\n      \"properties\": {\n        \"dtype\": \"category\",\n        \"num_unique_values\": 15,\n        \"samples\": [\n          \"Clonazepam\",\n          \"Ketoconazole (Tablet)\",\n          \"Paracetamol\"\n        ],\n        \"semantic_type\": \"\",\n        \"description\": \"\"\n      }\n    }\n  ]\n}"
            }
          },
          "metadata": {},
          "execution_count": 7
        }
      ],
      "source": [
        "train_labels.head()"
      ]
    },
    {
      "cell_type": "markdown",
      "metadata": {
        "id": "mBkf7bI17y3O"
      },
      "source": [
        "##### Encode the medecine name"
      ]
    },
    {
      "cell_type": "code",
      "execution_count": 8,
      "metadata": {
        "id": "jRTc1BYW7y3O"
      },
      "outputs": [],
      "source": [
        "medicine_enc = LabelEncoder()\n",
        "train_name_enc = to_categorical(medicine_enc.fit_transform(train_labels[\"MEDICINE_NAME\"]), num_classes=78)\n",
        "# train_labels[\"MEDICINE_NAME_ENC\"] = train_name_enc"
      ]
    },
    {
      "cell_type": "code",
      "execution_count": 9,
      "metadata": {
        "id": "AILslWbq7y3O",
        "outputId": "e481dd03-5eef-462b-ff81-1fc26c5ae0fc",
        "colab": {
          "base_uri": "https://localhost:8080/"
        }
      },
      "outputs": [
        {
          "output_type": "execute_result",
          "data": {
            "text/plain": [
              "78"
            ]
          },
          "metadata": {},
          "execution_count": 9
        }
      ],
      "source": [
        "len(train_labels[\"MEDICINE_NAME\"].unique())"
      ]
    },
    {
      "cell_type": "markdown",
      "metadata": {
        "id": "AWtoJUEo7y3O"
      },
      "source": [
        "after encoding there are 78 unique values/medicines since we are using label encoder, we will put them all in to a seperate column"
      ]
    },
    {
      "cell_type": "markdown",
      "metadata": {
        "id": "6zCAJn5x7y3O"
      },
      "source": [
        "#### Train Images"
      ]
    },
    {
      "cell_type": "code",
      "execution_count": 10,
      "metadata": {
        "id": "RmeDWfaj7y3O"
      },
      "outputs": [],
      "source": [
        "#the image width and height to pass to the model\n",
        "img_width = 420\n",
        "img_height = np.round(img_width/3, 0).astype(\"int\")\n",
        "\n",
        "# batch size to reduce memory usage (and improve numa node usage)\n",
        "batch_size = 128"
      ]
    },
    {
      "cell_type": "code",
      "execution_count": 11,
      "metadata": {
        "id": "IwJpdHhI7y3P"
      },
      "outputs": [],
      "source": [
        "train_images = []\n",
        "train_files = glob.glob(\"/content/drive/MyDrive/project_medzy/dataset/Training/training_words/*.png\")\n",
        "for picture in train_files:\n",
        "    image = cv2.resize(cv2.imread(picture, cv2.IMREAD_GRAYSCALE), (img_width, img_height))\n",
        "\n",
        "    #since cv2 sometimes return a \"none\" type we will append the data after validating it if it is a not \"none\" type\n",
        "    if image is None:\n",
        "        print(f\"Err importing picture {picture}\")\n",
        "        continue\n",
        "    res, image = cv2.threshold(image,210,255,cv2.THRESH_BINARY)\n",
        "    image = cv2.adaptiveThreshold(image,255,cv2.ADAPTIVE_THRESH_GAUSSIAN_C,\\\n",
        "            cv2.THRESH_BINARY,15,1)\n",
        "    # image = cv2.GaussianBlur(image,(5,5),5)\n",
        "    res, image = cv2.threshold(image,220,255,cv2.THRESH_BINARY+cv2.THRESH_OTSU)\n",
        "    res, image = cv2.threshold(image,220,255,cv2.THRESH_BINARY+cv2.THRESH_OTSU)\n",
        "\n",
        "\n",
        "    train_images.append(image)\n",
        "    # image = np.asarray(image) # for numpy 1.23\n",
        "\n",
        "    # To show the images\n",
        "    # plt.imshow(image, cmap = \"gray\")\n",
        "    # plt.show()\n",
        "\n",
        "train_images = np.array(train_images)\n",
        "train_dataset = tf.data.Dataset.from_tensor_slices((train_images, train_labels))\n",
        "\n",
        "# Shuffling the data\n",
        "BUFFER_SIZE = len(train_images)\n",
        "train_dataset = train_dataset.shuffle(BUFFER_SIZE)\n",
        "\n",
        "train_dataset = train_dataset.batch(batch_size)"
      ]
    },
    {
      "cell_type": "code",
      "execution_count": 12,
      "metadata": {
        "id": "F0LIn0NJ7y3P",
        "outputId": "3f677aca-0282-448e-ed6f-8ede01e7b244",
        "colab": {
          "base_uri": "https://localhost:8080/"
        }
      },
      "outputs": [
        {
          "output_type": "stream",
          "name": "stdout",
          "text": [
            "Dataset shape: (140, 420)\n",
            "Labels shape: (3120, 3)\n"
          ]
        }
      ],
      "source": [
        "print(\"Dataset shape:\", train_images[0].shape)\n",
        "print(\"Labels shape:\", train_labels.shape)"
      ]
    },
    {
      "cell_type": "markdown",
      "metadata": {
        "id": "XmF3As-W7y3P"
      },
      "source": [
        "##### Check if it is correct"
      ]
    },
    {
      "cell_type": "code",
      "execution_count": 13,
      "metadata": {
        "id": "cxo2NUHq7y3P",
        "outputId": "ef04ce5d-65cf-48c3-ad3b-390a6b92ad88",
        "colab": {
          "base_uri": "https://localhost:8080/",
          "height": 180
        }
      },
      "outputs": [
        {
          "output_type": "execute_result",
          "data": {
            "text/plain": [
              "array([[255, 255, 255, ..., 255, 255, 255],\n",
              "       [255, 255, 255, ..., 255, 255, 255],\n",
              "       [255, 255, 255, ..., 255, 255, 255],\n",
              "       ...,\n",
              "       [255, 255, 255, ..., 255, 255, 255],\n",
              "       [255, 255, 255, ..., 255, 255, 255],\n",
              "       [255, 255, 255, ..., 255, 255, 255]], dtype=uint8)"
            ],
            "text/html": [
              "<style>\n",
              "      .ndarray_repr .ndarray_raw_data {\n",
              "        display: none;\n",
              "      }\n",
              "      .ndarray_repr.show_array .ndarray_raw_data {\n",
              "        display: block;\n",
              "      }\n",
              "      .ndarray_repr.show_array .ndarray_image_preview {\n",
              "        display: none;\n",
              "      }\n",
              "      </style>\n",
              "      <div id=\"id-dceec944-62da-4665-a0b4-46930eac35cb\" class=\"ndarray_repr\"><pre>ndarray (140, 420) <button style=\"padding: 0 2px;\">show data</button></pre><img src=\"data:image/png;base64,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\" class=\"ndarray_image_preview\" /><pre class=\"ndarray_raw_data\">array([[255, 255, 255, ..., 255, 255, 255],\n",
              "       [255, 255, 255, ..., 255, 255, 255],\n",
              "       [255, 255, 255, ..., 255, 255, 255],\n",
              "       ...,\n",
              "       [255, 255, 255, ..., 255, 255, 255],\n",
              "       [255, 255, 255, ..., 255, 255, 255],\n",
              "       [255, 255, 255, ..., 255, 255, 255]], dtype=uint8)</pre></div><script>\n",
              "      (() => {\n",
              "      const titles = ['show data', 'hide data'];\n",
              "      let index = 0\n",
              "      document.querySelector('#id-dceec944-62da-4665-a0b4-46930eac35cb button').onclick = (e) => {\n",
              "        document.querySelector('#id-dceec944-62da-4665-a0b4-46930eac35cb').classList.toggle('show_array');\n",
              "        index = (++index) % 2;\n",
              "        document.querySelector('#id-dceec944-62da-4665-a0b4-46930eac35cb button').textContent = titles[index];\n",
              "        e.preventDefault();\n",
              "        e.stopPropagation();\n",
              "      }\n",
              "      })();\n",
              "    </script>"
            ]
          },
          "metadata": {},
          "execution_count": 13
        }
      ],
      "source": [
        "train_images[1]"
      ]
    },
    {
      "cell_type": "code",
      "execution_count": 14,
      "metadata": {
        "id": "XErBGvx27y3P",
        "outputId": "57bca95f-7f02-4de3-c053-6ae365915013",
        "colab": {
          "base_uri": "https://localhost:8080/",
          "height": 248
        }
      },
      "outputs": [
        {
          "output_type": "execute_result",
          "data": {
            "text/plain": [
              "<matplotlib.image.AxesImage at 0x7eaa62ceb2d0>"
            ]
          },
          "metadata": {},
          "execution_count": 14
        },
        {
          "output_type": "display_data",
          "data": {
            "text/plain": [
              "<Figure size 640x480 with 1 Axes>"
            ],
            "image/png": "[encoded data removed]"
          },
          "metadata": {}
        }
      ],
      "source": [
        "plt.imshow(train_images[1])"
      ]
    },
    {
      "cell_type": "code",
      "execution_count": 15,
      "metadata": {
        "id": "KSUKMKDr7y3Q",
        "outputId": "c851a5a2-e1e1-460e-e195-68a703fe3361",
        "colab": {
          "base_uri": "https://localhost:8080/"
        }
      },
      "outputs": [
        {
          "output_type": "stream",
          "name": "stdout",
          "text": [
            "Example label: IMAGE                  0.png\n",
            "MEDICINE_NAME          Aceta\n",
            "GENERIC_NAME     Paracetamol\n",
            "Name: 0, dtype: object\n"
          ]
        }
      ],
      "source": [
        "print(\"Example label:\", train_labels.iloc[0])"
      ]
    },
    {
      "cell_type": "markdown",
      "metadata": {
        "id": "Aqo7wqOu7y3Q"
      },
      "source": [
        "### Validation data"
      ]
    },
    {
      "cell_type": "markdown",
      "metadata": {
        "id": "IOtgSJdH7y3Q"
      },
      "source": [
        "#### validation Labels"
      ]
    },
    {
      "cell_type": "code",
      "execution_count": 16,
      "metadata": {
        "id": "QTUWcIxO7y3Q"
      },
      "outputs": [],
      "source": [
        "validation_path = \"/content/drive/MyDrive/project_medzy/dataset/Validation\"\n",
        "validation_labels = pd.read_csv(os.path.join(validation_path,\"validation_labels.csv\"), delimiter = \",\")"
      ]
    },
    {
      "cell_type": "code",
      "execution_count": 17,
      "metadata": {
        "id": "pTU956Ar7y3Q",
        "outputId": "a58466c5-30c5-4f39-b20c-d9ff213d364c",
        "colab": {
          "base_uri": "https://localhost:8080/",
          "height": 206
        }
      },
      "outputs": [
        {
          "output_type": "execute_result",
          "data": {
            "text/plain": [
              "   IMAGE MEDICINE_NAME GENERIC_NAME\n",
              "0  0.png         Aceta  Paracetamol\n",
              "1  1.png         Aceta  Paracetamol\n",
              "2  2.png         Aceta  Paracetamol\n",
              "3  3.png         Aceta  Paracetamol\n",
              "4  4.png         Aceta  Paracetamol"
            ],
            "text/html": [
              "\n",
              "  <div id=\"df-9cfeb99b-d68d-48cf-ab1e-cd0e82fab66f\" class=\"colab-df-container\">\n",
              "    <div>\n",
              "<style scoped>\n",
              "    .dataframe tbody tr th:only-of-type {\n",
              "        vertical-align: middle;\n",
              "    }\n",
              "\n",
              "    .dataframe tbody tr th {\n",
              "        vertical-align: top;\n",
              "    }\n",
              "\n",
              "    .dataframe thead th {\n",
              "        text-align: right;\n",
              "    }\n",
              "</style>\n",
              "<table border=\"1\" class=\"dataframe\">\n",
              "  <thead>\n",
              "    <tr style=\"text-align: right;\">\n",
              "      <th></th>\n",
              "      <th>IMAGE</th>\n",
              "      <th>MEDICINE_NAME</th>\n",
              "      <th>GENERIC_NAME</th>\n",
              "    </tr>\n",
              "  </thead>\n",
              "  <tbody>\n",
              "    <tr>\n",
              "      <th>0</th>\n",
              "      <td>0.png</td>\n",
              "      <td>Aceta</td>\n",
              "      <td>Paracetamol</td>\n",
              "    </tr>\n",
              "    <tr>\n",
              "      <th>1</th>\n",
              "      <td>1.png</td>\n",
              "      <td>Aceta</td>\n",
              "      <td>Paracetamol</td>\n",
              "    </tr>\n",
              "    <tr>\n",
              "      <th>2</th>\n",
              "      <td>2.png</td>\n",
              "      <td>Aceta</td>\n",
              "      <td>Paracetamol</td>\n",
              "    </tr>\n",
              "    <tr>\n",
              "      <th>3</th>\n",
              "      <td>3.png</td>\n",
              "      <td>Aceta</td>\n",
              "      <td>Paracetamol</td>\n",
              "    </tr>\n",
              "    <tr>\n",
              "      <th>4</th>\n",
              "      <td>4.png</td>\n",
              "      <td>Aceta</td>\n",
              "      <td>Paracetamol</td>\n",
              "    </tr>\n",
              "  </tbody>\n",
              "</table>\n",
              "</div>\n",
              "    <div class=\"colab-df-buttons\">\n",
              "\n",
              "  <div class=\"colab-df-container\">\n",
              "    <button class=\"colab-df-convert\" onclick=\"convertToInteractive('df-9cfeb99b-d68d-48cf-ab1e-cd0e82fab66f')\"\n",
              "            title=\"Convert this dataframe to an interactive table.\"\n",
              "            style=\"display:none;\">\n",
              "\n",
              "  <svg xmlns=\"http://www.w3.org/2000/svg\" height=\"24px\" viewBox=\"0 -960 960 960\">\n",
              "    <path d=\"M120-120v-720h720v720H120Zm60-500h600v-160H180v160Zm220 220h160v-160H400v160Zm0 220h160v-160H400v160ZM180-400h160v-160H180v160Zm440 0h160v-160H620v160ZM180-180h160v-160H180v160Zm440 0h160v-160H620v160Z\"/>\n",
              "  </svg>\n",
              "    </button>\n",
              "\n",
              "  <style>\n",
              "    .colab-df-container {\n",
              "      display:flex;\n",
              "      gap: 12px;\n",
              "    }\n",
              "\n",
              "    .colab-df-convert {\n",
              "      background-color: #E8F0FE;\n",
              "      border: none;\n",
              "      border-radius: 50%;\n",
              "      cursor: pointer;\n",
              "      display: none;\n",
              "      fill: #1967D2;\n",
              "      height: 32px;\n",
              "      padding: 0 0 0 0;\n",
              "      width: 32px;\n",
              "    }\n",
              "\n",
              "    .colab-df-convert:hover {\n",
              "      background-color: #E2EBFA;\n",
              "      box-shadow: 0px 1px 2px rgba(60, 64, 67, 0.3), 0px 1px 3px 1px rgba(60, 64, 67, 0.15);\n",
              "      fill: #174EA6;\n",
              "    }\n",
              "\n",
              "    .colab-df-buttons div {\n",
              "      margin-bottom: 4px;\n",
              "    }\n",
              "\n",
              "    [theme=dark] .colab-df-convert {\n",
              "      background-color: #3B4455;\n",
              "      fill: #D2E3FC;\n",
              "    }\n",
              "\n",
              "    [theme=dark] .colab-df-convert:hover {\n",
              "      background-color: #434B5C;\n",
              "      box-shadow: 0px 1px 3px 1px rgba(0, 0, 0, 0.15);\n",
              "      filter: drop-shadow(0px 1px 2px rgba(0, 0, 0, 0.3));\n",
              "      fill: #FFFFFF;\n",
              "    }\n",
              "  </style>\n",
              "\n",
              "    <script>\n",
              "      const buttonEl =\n",
              "        document.querySelector('#df-9cfeb99b-d68d-48cf-ab1e-cd0e82fab66f button.colab-df-convert');\n",
              "      buttonEl.style.display =\n",
              "        google.colab.kernel.accessAllowed ? 'block' : 'none';\n",
              "\n",
              "      async function convertToInteractive(key) {\n",
              "        const element = document.querySelector('#df-9cfeb99b-d68d-48cf-ab1e-cd0e82fab66f');\n",
              "        const dataTable =\n",
              "          await google.colab.kernel.invokeFunction('convertToInteractive',\n",
              "                                                    [key], {});\n",
              "        if (!dataTable) return;\n",
              "\n",
              "        const docLinkHtml = 'Like what you see? Visit the ' +\n",
              "          '<a target=\"_blank\" href=https://colab.research.google.com/notebooks/data_table.ipynb>data table notebook</a>'\n",
              "          + ' to learn more about interactive tables.';\n",
              "        element.innerHTML = '';\n",
              "        dataTable['output_type'] = 'display_data';\n",
              "        await google.colab.output.renderOutput(dataTable, element);\n",
              "        const docLink = document.createElement('div');\n",
              "        docLink.innerHTML = docLinkHtml;\n",
              "        element.appendChild(docLink);\n",
              "      }\n",
              "    </script>\n",
              "  </div>\n",
              "\n",
              "\n",
              "<div id=\"df-adf958b9-42f4-419c-a0df-9f0fe6d505a0\">\n",
              "  <button class=\"colab-df-quickchart\" onclick=\"quickchart('df-adf958b9-42f4-419c-a0df-9f0fe6d505a0')\"\n",
              "            title=\"Suggest charts\"\n",
              "            style=\"display:none;\">\n",
              "\n",
              "<svg xmlns=\"http://www.w3.org/2000/svg\" height=\"24px\"viewBox=\"0 0 24 24\"\n",
              "     width=\"24px\">\n",
              "    <g>\n",
              "        <path d=\"M19 3H5c-1.1 0-2 .9-2 2v14c0 1.1.9 2 2 2h14c1.1 0 2-.9 2-2V5c0-1.1-.9-2-2-2zM9 17H7v-7h2v7zm4 0h-2V7h2v10zm4 0h-2v-4h2v4z\"/>\n",
              "    </g>\n",
              "</svg>\n",
              "  </button>\n",
              "\n",
              "<style>\n",
              "  .colab-df-quickchart {\n",
              "      --bg-color: #E8F0FE;\n",
              "      --fill-color: #1967D2;\n",
              "      --hover-bg-color: #E2EBFA;\n",
              "      --hover-fill-color: #174EA6;\n",
              "      --disabled-fill-color: #AAA;\n",
              "      --disabled-bg-color: #DDD;\n",
              "  }\n",
              "\n",
              "  [theme=dark] .colab-df-quickchart {\n",
              "      --bg-color: #3B4455;\n",
              "      --fill-color: #D2E3FC;\n",
              "      --hover-bg-color: #434B5C;\n",
              "      --hover-fill-color: #FFFFFF;\n",
              "      --disabled-bg-color: #3B4455;\n",
              "      --disabled-fill-color: #666;\n",
              "  }\n",
              "\n",
              "  .colab-df-quickchart {\n",
              "    background-color: var(--bg-color);\n",
              "    border: none;\n",
              "    border-radius: 50%;\n",
              "    cursor: pointer;\n",
              "    display: none;\n",
              "    fill: var(--fill-color);\n",
              "    height: 32px;\n",
              "    padding: 0;\n",
              "    width: 32px;\n",
              "  }\n",
              "\n",
              "  .colab-df-quickchart:hover {\n",
              "    background-color: var(--hover-bg-color);\n",
              "    box-shadow: 0 1px 2px rgba(60, 64, 67, 0.3), 0 1px 3px 1px rgba(60, 64, 67, 0.15);\n",
              "    fill: var(--button-hover-fill-color);\n",
              "  }\n",
              "\n",
              "  .colab-df-quickchart-complete:disabled,\n",
              "  .colab-df-quickchart-complete:disabled:hover {\n",
              "    background-color: var(--disabled-bg-color);\n",
              "    fill: var(--disabled-fill-color);\n",
              "    box-shadow: none;\n",
              "  }\n",
              "\n",
              "  .colab-df-spinner {\n",
              "    border: 2px solid var(--fill-color);\n",
              "    border-color: transparent;\n",
              "    border-bottom-color: var(--fill-color);\n",
              "    animation:\n",
              "      spin 1s steps(1) infinite;\n",
              "  }\n",
              "\n",
              "  @keyframes spin {\n",
              "    0% {\n",
              "      border-color: transparent;\n",
              "      border-bottom-color: var(--fill-color);\n",
              "      border-left-color: var(--fill-color);\n",
              "    }\n",
              "    20% {\n",
              "      border-color: transparent;\n",
              "      border-left-color: var(--fill-color);\n",
              "      border-top-color: var(--fill-color);\n",
              "    }\n",
              "    30% {\n",
              "      border-color: transparent;\n",
              "      border-left-color: var(--fill-color);\n",
              "      border-top-color: var(--fill-color);\n",
              "      border-right-color: var(--fill-color);\n",
              "    }\n",
              "    40% {\n",
              "      border-color: transparent;\n",
              "      border-right-color: var(--fill-color);\n",
              "      border-top-color: var(--fill-color);\n",
              "    }\n",
              "    60% {\n",
              "      border-color: transparent;\n",
              "      border-right-color: var(--fill-color);\n",
              "    }\n",
              "    80% {\n",
              "      border-color: transparent;\n",
              "      border-right-color: var(--fill-color);\n",
              "      border-bottom-color: var(--fill-color);\n",
              "    }\n",
              "    90% {\n",
              "      border-color: transparent;\n",
              "      border-bottom-color: var(--fill-color);\n",
              "    }\n",
              "  }\n",
              "</style>\n",
              "\n",
              "  <script>\n",
              "    async function quickchart(key) {\n",
              "      const quickchartButtonEl =\n",
              "        document.querySelector('#' + key + ' button');\n",
              "      quickchartButtonEl.disabled = true;  // To prevent multiple clicks.\n",
              "      quickchartButtonEl.classList.add('colab-df-spinner');\n",
              "      try {\n",
              "        const charts = await google.colab.kernel.invokeFunction(\n",
              "            'suggestCharts', [key], {});\n",
              "      } catch (error) {\n",
              "        console.error('Error during call to suggestCharts:', error);\n",
              "      }\n",
              "      quickchartButtonEl.classList.remove('colab-df-spinner');\n",
              "      quickchartButtonEl.classList.add('colab-df-quickchart-complete');\n",
              "    }\n",
              "    (() => {\n",
              "      let quickchartButtonEl =\n",
              "        document.querySelector('#df-adf958b9-42f4-419c-a0df-9f0fe6d505a0 button');\n",
              "      quickchartButtonEl.style.display =\n",
              "        google.colab.kernel.accessAllowed ? 'block' : 'none';\n",
              "    })();\n",
              "  </script>\n",
              "</div>\n",
              "\n",
              "    </div>\n",
              "  </div>\n"
            ],
            "application/vnd.google.colaboratory.intrinsic+json": {
              "type": "dataframe",
              "variable_name": "validation_labels",
              "summary": "{\n  \"name\": \"validation_labels\",\n  \"rows\": 780,\n  \"fields\": [\n    {\n      \"column\": \"IMAGE\",\n      \"properties\": {\n        \"dtype\": \"string\",\n        \"num_unique_values\": 780,\n        \"samples\": [\n          \"595.png\",\n          \"587.png\",\n          \"543.png\"\n        ],\n        \"semantic_type\": \"\",\n        \"description\": \"\"\n      }\n    },\n    {\n      \"column\": \"MEDICINE_NAME\",\n      \"properties\": {\n        \"dtype\": \"category\",\n        \"num_unique_values\": 78,\n        \"samples\": [\n          \"Fixal\",\n          \"Aceta\",\n          \"Flamyd\"\n        ],\n        \"semantic_type\": \"\",\n        \"description\": \"\"\n      }\n    },\n    {\n      \"column\": \"GENERIC_NAME\",\n      \"properties\": {\n        \"dtype\": \"category\",\n        \"num_unique_values\": 15,\n        \"samples\": [\n          \"Clonazepam\",\n          \"Ketoconazole (Tablet)\",\n          \"Paracetamol\"\n        ],\n        \"semantic_type\": \"\",\n        \"description\": \"\"\n      }\n    }\n  ]\n}"
            }
          },
          "metadata": {},
          "execution_count": 17
        }
      ],
      "source": [
        "validation_labels.head()"
      ]
    },
    {
      "cell_type": "markdown",
      "metadata": {
        "id": "j-PhdxsA7y3Q"
      },
      "source": [
        "##### Encode the medecine name"
      ]
    },
    {
      "cell_type": "code",
      "execution_count": 18,
      "metadata": {
        "id": "3anGXzQ_7y3Q"
      },
      "outputs": [],
      "source": [
        "validation_name_enc = to_categorical(medicine_enc.transform(validation_labels[\"MEDICINE_NAME\"]), num_classes=78)\n",
        "# validation_labels[\"MEDECINE_NAME_ENC\"] = validation_name_enc"
      ]
    },
    {
      "cell_type": "code",
      "execution_count": 19,
      "metadata": {
        "id": "SYyaINCt7y3Q",
        "outputId": "c491a662-6d78-440a-f395-15796b2a9d80",
        "colab": {
          "base_uri": "https://localhost:8080/"
        }
      },
      "outputs": [
        {
          "output_type": "execute_result",
          "data": {
            "text/plain": [
              "numpy.ndarray"
            ]
          },
          "metadata": {},
          "execution_count": 19
        }
      ],
      "source": [
        "type(validation_name_enc)"
      ]
    },
    {
      "cell_type": "code",
      "execution_count": 20,
      "metadata": {
        "id": "D9iL_Myr7y3R",
        "outputId": "c8e5f1f6-8dfe-4ef6-e9f0-824fd8c760fb",
        "colab": {
          "base_uri": "https://localhost:8080/"
        }
      },
      "outputs": [
        {
          "output_type": "execute_result",
          "data": {
            "text/plain": [
              "78"
            ]
          },
          "metadata": {},
          "execution_count": 20
        }
      ],
      "source": [
        "len(validation_labels[\"MEDICINE_NAME\"].unique())"
      ]
    },
    {
      "cell_type": "markdown",
      "metadata": {
        "id": "bfpxrIq_7y3R"
      },
      "source": [
        "#### Validation Images"
      ]
    },
    {
      "cell_type": "code",
      "execution_count": 21,
      "metadata": {
        "id": "O3i5LkHE7y3R"
      },
      "outputs": [],
      "source": [
        "validation_images = []\n",
        "validation_files = glob.glob(\"/content/drive/MyDrive/project_medzy/dataset/Validation/validation_words/*.png\")\n",
        "for picture in validation_files:\n",
        "    image = cv2.resize(cv2.imread(picture, cv2.IMREAD_GRAYSCALE), (img_width, img_height))\n",
        "\n",
        "    #since cv2 sometimes return a \"none\" type we will append the data after validating it if it is a not \"none\" type\n",
        "    if image is None:\n",
        "        print(f\"Err importing picture {picture}\")\n",
        "        continue\n",
        "    res, image = cv2.threshold(image,210,255,cv2.THRESH_BINARY)\n",
        "    image = cv2.adaptiveThreshold(image,255,cv2.ADAPTIVE_THRESH_GAUSSIAN_C,\\\n",
        "            cv2.THRESH_BINARY,15,1)\n",
        "    # image = cv2.GaussianBlur(image,(5,5),5)\n",
        "    res, image = cv2.threshold(image,220,255,cv2.THRESH_BINARY+cv2.THRESH_OTSU)\n",
        "    res, image = cv2.threshold(image,220,255,cv2.THRESH_BINARY+cv2.THRESH_OTSU)\n",
        "\n",
        "\n",
        "    validation_images.append(image)\n",
        "    # image = np.asarray(image) # for numpy 1.23\n",
        "\n",
        "    # To show the images\n",
        "    # plt.imshow(image, cmap = \"gray\")\n",
        "    # plt.show()\n",
        "\n",
        "validation_images = np.array(validation_images)\n",
        "validation_dataset = tf.data.Dataset.from_tensor_slices((validation_images, validation_labels))\n",
        "\n",
        "validation_dataset = validation_dataset.batch(batch_size)"
      ]
    },
    {
      "cell_type": "code",
      "execution_count": 22,
      "metadata": {
        "id": "SgRu-s_I7y3R",
        "outputId": "bc53b747-710d-48ba-c1da-541dea3262bd",
        "colab": {
          "base_uri": "https://localhost:8080/"
        }
      },
      "outputs": [
        {
          "output_type": "stream",
          "name": "stdout",
          "text": [
            "Dataset shape: (780, 140, 420)\n",
            "Labels shape: (780, 3)\n"
          ]
        }
      ],
      "source": [
        "print(\"Dataset shape:\", validation_images.shape)\n",
        "print(\"Labels shape:\", validation_labels.shape)"
      ]
    },
    {
      "cell_type": "markdown",
      "metadata": {
        "id": "U8OAOAXL7y3R"
      },
      "source": [
        "##### Check if it is correct"
      ]
    },
    {
      "cell_type": "code",
      "execution_count": 23,
      "metadata": {
        "id": "7sh7lioj7y3R",
        "outputId": "89a48c1b-70b4-47e8-d2fa-f4f87566a59a",
        "colab": {
          "base_uri": "https://localhost:8080/",
          "height": 180
        }
      },
      "outputs": [
        {
          "output_type": "execute_result",
          "data": {
            "text/plain": [
              "array([[255, 255, 255, ..., 255, 255, 255],\n",
              "       [255, 255, 255, ..., 255, 255, 255],\n",
              "       [255, 255, 255, ..., 255, 255, 255],\n",
              "       ...,\n",
              "       [255, 255, 255, ..., 255, 255, 255],\n",
              "       [255, 255, 255, ..., 255, 255, 255],\n",
              "       [255, 255, 255, ..., 255, 255, 255]], dtype=uint8)"
            ],
            "text/html": [
              "<style>\n",
              "      .ndarray_repr .ndarray_raw_data {\n",
              "        display: none;\n",
              "      }\n",
              "      .ndarray_repr.show_array .ndarray_raw_data {\n",
              "        display: block;\n",
              "      }\n",
              "      .ndarray_repr.show_array .ndarray_image_preview {\n",
              "        display: none;\n",
              "      }\n",
              "      </style>\n",
              "      <div id=\"id-5f6a601f-7e4c-4929-a3bd-f2f72343d5f4\" class=\"ndarray_repr\"><pre>ndarray (140, 420) <button style=\"padding: 0 2px;\">show data</button></pre><img src=\"data:image/png;base64,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\" class=\"ndarray_image_preview\" /><pre class=\"ndarray_raw_data\">array([[255, 255, 255, ..., 255, 255, 255],\n",
              "       [255, 255, 255, ..., 255, 255, 255],\n",
              "       [255, 255, 255, ..., 255, 255, 255],\n",
              "       ...,\n",
              "       [255, 255, 255, ..., 255, 255, 255],\n",
              "       [255, 255, 255, ..., 255, 255, 255],\n",
              "       [255, 255, 255, ..., 255, 255, 255]], dtype=uint8)</pre></div><script>\n",
              "      (() => {\n",
              "      const titles = ['show data', 'hide data'];\n",
              "      let index = 0\n",
              "      document.querySelector('#id-5f6a601f-7e4c-4929-a3bd-f2f72343d5f4 button').onclick = (e) => {\n",
              "        document.querySelector('#id-5f6a601f-7e4c-4929-a3bd-f2f72343d5f4').classList.toggle('show_array');\n",
              "        index = (++index) % 2;\n",
              "        document.querySelector('#id-5f6a601f-7e4c-4929-a3bd-f2f72343d5f4 button').textContent = titles[index];\n",
              "        e.preventDefault();\n",
              "        e.stopPropagation();\n",
              "      }\n",
              "      })();\n",
              "    </script>"
            ]
          },
          "metadata": {},
          "execution_count": 23
        }
      ],
      "source": [
        "validation_images[0]"
      ]
    },
    {
      "cell_type": "code",
      "execution_count": 24,
      "metadata": {
        "id": "Pz7AdhGs7y3S",
        "outputId": "e87f4728-64ca-4d80-b209-784130583d2e",
        "colab": {
          "base_uri": "https://localhost:8080/",
          "height": 248
        }
      },
      "outputs": [
        {
          "output_type": "execute_result",
          "data": {
            "text/plain": [
              "<matplotlib.image.AxesImage at 0x7eaa6011c8d0>"
            ]
          },
          "metadata": {},
          "execution_count": 24
        },
        {
          "output_type": "display_data",
          "data": {
            "text/plain": [
              "<Figure size 640x480 with 1 Axes>"
            ],
            "image/png": "[encoded data removed]"
          },
          "metadata": {}
        }
      ],
      "source": [
        "plt.imshow(validation_images[0], cmap = \"gray\")"
      ]
    },
    {
      "cell_type": "code",
      "execution_count": 25,
      "metadata": {
        "id": "RWnI2TFt7y3S",
        "outputId": "7185f0f8-5c47-41e5-a9c7-0d1681712267",
        "colab": {
          "base_uri": "https://localhost:8080/"
        }
      },
      "outputs": [
        {
          "output_type": "stream",
          "name": "stdout",
          "text": [
            "Example label: IMAGE                  0.png\n",
            "MEDICINE_NAME          Aceta\n",
            "GENERIC_NAME     Paracetamol\n",
            "Name: 0, dtype: object\n"
          ]
        }
      ],
      "source": [
        "print(\"Example label:\", validation_labels.iloc[0])"
      ]
    },
    {
      "cell_type": "markdown",
      "metadata": {
        "id": "f8NjRQJt7y3T"
      },
      "source": [
        "### Test data"
      ]
    },
    {
      "cell_type": "markdown",
      "metadata": {
        "id": "1YGUOoZV7y3T"
      },
      "source": [
        "#### Test Labels"
      ]
    },
    {
      "cell_type": "code",
      "execution_count": 26,
      "metadata": {
        "id": "9Jkg1hH77y3T"
      },
      "outputs": [],
      "source": [
        "test_path = \"/content/drive/MyDrive/project_medzy/dataset/Testing\"\n",
        "test_labels = pd.read_csv(os.path.join(test_path,\"testing_labels.csv\"), delimiter = \",\")"
      ]
    },
    {
      "cell_type": "code",
      "execution_count": 27,
      "metadata": {
        "id": "SpeWrMOY7y3T",
        "outputId": "5c8cb6c9-4aa3-4c29-8e6e-5facfa338b8e",
        "colab": {
          "base_uri": "https://localhost:8080/",
          "height": 206
        }
      },
      "outputs": [
        {
          "output_type": "execute_result",
          "data": {
            "text/plain": [
              "   IMAGE MEDICINE_NAME GENERIC_NAME\n",
              "0  0.png         Aceta  Paracetamol\n",
              "1  1.png         Aceta  Paracetamol\n",
              "2  2.png         Aceta  Paracetamol\n",
              "3  3.png         Aceta  Paracetamol\n",
              "4  4.png         Aceta  Paracetamol"
            ],
            "text/html": [
              "\n",
              "  <div id=\"df-a5bc44f7-d4e1-4801-be49-4b6db2780971\" class=\"colab-df-container\">\n",
              "    <div>\n",
              "<style scoped>\n",
              "    .dataframe tbody tr th:only-of-type {\n",
              "        vertical-align: middle;\n",
              "    }\n",
              "\n",
              "    .dataframe tbody tr th {\n",
              "        vertical-align: top;\n",
              "    }\n",
              "\n",
              "    .dataframe thead th {\n",
              "        text-align: right;\n",
              "    }\n",
              "</style>\n",
              "<table border=\"1\" class=\"dataframe\">\n",
              "  <thead>\n",
              "    <tr style=\"text-align: right;\">\n",
              "      <th></th>\n",
              "      <th>IMAGE</th>\n",
              "      <th>MEDICINE_NAME</th>\n",
              "      <th>GENERIC_NAME</th>\n",
              "    </tr>\n",
              "  </thead>\n",
              "  <tbody>\n",
              "    <tr>\n",
              "      <th>0</th>\n",
              "      <td>0.png</td>\n",
              "      <td>Aceta</td>\n",
              "      <td>Paracetamol</td>\n",
              "    </tr>\n",
              "    <tr>\n",
              "      <th>1</th>\n",
              "      <td>1.png</td>\n",
              "      <td>Aceta</td>\n",
              "      <td>Paracetamol</td>\n",
              "    </tr>\n",
              "    <tr>\n",
              "      <th>2</th>\n",
              "      <td>2.png</td>\n",
              "      <td>Aceta</td>\n",
              "      <td>Paracetamol</td>\n",
              "    </tr>\n",
              "    <tr>\n",
              "      <th>3</th>\n",
              "      <td>3.png</td>\n",
              "      <td>Aceta</td>\n",
              "      <td>Paracetamol</td>\n",
              "    </tr>\n",
              "    <tr>\n",
              "      <th>4</th>\n",
              "      <td>4.png</td>\n",
              "      <td>Aceta</td>\n",
              "      <td>Paracetamol</td>\n",
              "    </tr>\n",
              "  </tbody>\n",
              "</table>\n",
              "</div>\n",
              "    <div class=\"colab-df-buttons\">\n",
              "\n",
              "  <div class=\"colab-df-container\">\n",
              "    <button class=\"colab-df-convert\" onclick=\"convertToInteractive('df-a5bc44f7-d4e1-4801-be49-4b6db2780971')\"\n",
              "            title=\"Convert this dataframe to an interactive table.\"\n",
              "            style=\"display:none;\">\n",
              "\n",
              "  <svg xmlns=\"http://www.w3.org/2000/svg\" height=\"24px\" viewBox=\"0 -960 960 960\">\n",
              "    <path d=\"M120-120v-720h720v720H120Zm60-500h600v-160H180v160Zm220 220h160v-160H400v160Zm0 220h160v-160H400v160ZM180-400h160v-160H180v160Zm440 0h160v-160H620v160ZM180-180h160v-160H180v160Zm440 0h160v-160H620v160Z\"/>\n",
              "  </svg>\n",
              "    </button>\n",
              "\n",
              "  <style>\n",
              "    .colab-df-container {\n",
              "      display:flex;\n",
              "      gap: 12px;\n",
              "    }\n",
              "\n",
              "    .colab-df-convert {\n",
              "      background-color: #E8F0FE;\n",
              "      border: none;\n",
              "      border-radius: 50%;\n",
              "      cursor: pointer;\n",
              "      display: none;\n",
              "      fill: #1967D2;\n",
              "      height: 32px;\n",
              "      padding: 0 0 0 0;\n",
              "      width: 32px;\n",
              "    }\n",
              "\n",
              "    .colab-df-convert:hover {\n",
              "      background-color: #E2EBFA;\n",
              "      box-shadow: 0px 1px 2px rgba(60, 64, 67, 0.3), 0px 1px 3px 1px rgba(60, 64, 67, 0.15);\n",
              "      fill: #174EA6;\n",
              "    }\n",
              "\n",
              "    .colab-df-buttons div {\n",
              "      margin-bottom: 4px;\n",
              "    }\n",
              "\n",
              "    [theme=dark] .colab-df-convert {\n",
              "      background-color: #3B4455;\n",
              "      fill: #D2E3FC;\n",
              "    }\n",
              "\n",
              "    [theme=dark] .colab-df-convert:hover {\n",
              "      background-color: #434B5C;\n",
              "      box-shadow: 0px 1px 3px 1px rgba(0, 0, 0, 0.15);\n",
              "      filter: drop-shadow(0px 1px 2px rgba(0, 0, 0, 0.3));\n",
              "      fill: #FFFFFF;\n",
              "    }\n",
              "  </style>\n",
              "\n",
              "    <script>\n",
              "      const buttonEl =\n",
              "        document.querySelector('#df-a5bc44f7-d4e1-4801-be49-4b6db2780971 button.colab-df-convert');\n",
              "      buttonEl.style.display =\n",
              "        google.colab.kernel.accessAllowed ? 'block' : 'none';\n",
              "\n",
              "      async function convertToInteractive(key) {\n",
              "        const element = document.querySelector('#df-a5bc44f7-d4e1-4801-be49-4b6db2780971');\n",
              "        const dataTable =\n",
              "          await google.colab.kernel.invokeFunction('convertToInteractive',\n",
              "                                                    [key], {});\n",
              "        if (!dataTable) return;\n",
              "\n",
              "        const docLinkHtml = 'Like what you see? Visit the ' +\n",
              "          '<a target=\"_blank\" href=https://colab.research.google.com/notebooks/data_table.ipynb>data table notebook</a>'\n",
              "          + ' to learn more about interactive tables.';\n",
              "        element.innerHTML = '';\n",
              "        dataTable['output_type'] = 'display_data';\n",
              "        await google.colab.output.renderOutput(dataTable, element);\n",
              "        const docLink = document.createElement('div');\n",
              "        docLink.innerHTML = docLinkHtml;\n",
              "        element.appendChild(docLink);\n",
              "      }\n",
              "    </script>\n",
              "  </div>\n",
              "\n",
              "\n",
              "<div id=\"df-76e22310-45a6-4f21-8b8d-20d018eaa57a\">\n",
              "  <button class=\"colab-df-quickchart\" onclick=\"quickchart('df-76e22310-45a6-4f21-8b8d-20d018eaa57a')\"\n",
              "            title=\"Suggest charts\"\n",
              "            style=\"display:none;\">\n",
              "\n",
              "<svg xmlns=\"http://www.w3.org/2000/svg\" height=\"24px\"viewBox=\"0 0 24 24\"\n",
              "     width=\"24px\">\n",
              "    <g>\n",
              "        <path d=\"M19 3H5c-1.1 0-2 .9-2 2v14c0 1.1.9 2 2 2h14c1.1 0 2-.9 2-2V5c0-1.1-.9-2-2-2zM9 17H7v-7h2v7zm4 0h-2V7h2v10zm4 0h-2v-4h2v4z\"/>\n",
              "    </g>\n",
              "</svg>\n",
              "  </button>\n",
              "\n",
              "<style>\n",
              "  .colab-df-quickchart {\n",
              "      --bg-color: #E8F0FE;\n",
              "      --fill-color: #1967D2;\n",
              "      --hover-bg-color: #E2EBFA;\n",
              "      --hover-fill-color: #174EA6;\n",
              "      --disabled-fill-color: #AAA;\n",
              "      --disabled-bg-color: #DDD;\n",
              "  }\n",
              "\n",
              "  [theme=dark] .colab-df-quickchart {\n",
              "      --bg-color: #3B4455;\n",
              "      --fill-color: #D2E3FC;\n",
              "      --hover-bg-color: #434B5C;\n",
              "      --hover-fill-color: #FFFFFF;\n",
              "      --disabled-bg-color: #3B4455;\n",
              "      --disabled-fill-color: #666;\n",
              "  }\n",
              "\n",
              "  .colab-df-quickchart {\n",
              "    background-color: var(--bg-color);\n",
              "    border: none;\n",
              "    border-radius: 50%;\n",
              "    cursor: pointer;\n",
              "    display: none;\n",
              "    fill: var(--fill-color);\n",
              "    height: 32px;\n",
              "    padding: 0;\n",
              "    width: 32px;\n",
              "  }\n",
              "\n",
              "  .colab-df-quickchart:hover {\n",
              "    background-color: var(--hover-bg-color);\n",
              "    box-shadow: 0 1px 2px rgba(60, 64, 67, 0.3), 0 1px 3px 1px rgba(60, 64, 67, 0.15);\n",
              "    fill: var(--button-hover-fill-color);\n",
              "  }\n",
              "\n",
              "  .colab-df-quickchart-complete:disabled,\n",
              "  .colab-df-quickchart-complete:disabled:hover {\n",
              "    background-color: var(--disabled-bg-color);\n",
              "    fill: var(--disabled-fill-color);\n",
              "    box-shadow: none;\n",
              "  }\n",
              "\n",
              "  .colab-df-spinner {\n",
              "    border: 2px solid var(--fill-color);\n",
              "    border-color: transparent;\n",
              "    border-bottom-color: var(--fill-color);\n",
              "    animation:\n",
              "      spin 1s steps(1) infinite;\n",
              "  }\n",
              "\n",
              "  @keyframes spin {\n",
              "    0% {\n",
              "      border-color: transparent;\n",
              "      border-bottom-color: var(--fill-color);\n",
              "      border-left-color: var(--fill-color);\n",
              "    }\n",
              "    20% {\n",
              "      border-color: transparent;\n",
              "      border-left-color: var(--fill-color);\n",
              "      border-top-color: var(--fill-color);\n",
              "    }\n",
              "    30% {\n",
              "      border-color: transparent;\n",
              "      border-left-color: var(--fill-color);\n",
              "      border-top-color: var(--fill-color);\n",
              "      border-right-color: var(--fill-color);\n",
              "    }\n",
              "    40% {\n",
              "      border-color: transparent;\n",
              "      border-right-color: var(--fill-color);\n",
              "      border-top-color: var(--fill-color);\n",
              "    }\n",
              "    60% {\n",
              "      border-color: transparent;\n",
              "      border-right-color: var(--fill-color);\n",
              "    }\n",
              "    80% {\n",
              "      border-color: transparent;\n",
              "      border-right-color: var(--fill-color);\n",
              "      border-bottom-color: var(--fill-color);\n",
              "    }\n",
              "    90% {\n",
              "      border-color: transparent;\n",
              "      border-bottom-color: var(--fill-color);\n",
              "    }\n",
              "  }\n",
              "</style>\n",
              "\n",
              "  <script>\n",
              "    async function quickchart(key) {\n",
              "      const quickchartButtonEl =\n",
              "        document.querySelector('#' + key + ' button');\n",
              "      quickchartButtonEl.disabled = true;  // To prevent multiple clicks.\n",
              "      quickchartButtonEl.classList.add('colab-df-spinner');\n",
              "      try {\n",
              "        const charts = await google.colab.kernel.invokeFunction(\n",
              "            'suggestCharts', [key], {});\n",
              "      } catch (error) {\n",
              "        console.error('Error during call to suggestCharts:', error);\n",
              "      }\n",
              "      quickchartButtonEl.classList.remove('colab-df-spinner');\n",
              "      quickchartButtonEl.classList.add('colab-df-quickchart-complete');\n",
              "    }\n",
              "    (() => {\n",
              "      let quickchartButtonEl =\n",
              "        document.querySelector('#df-76e22310-45a6-4f21-8b8d-20d018eaa57a button');\n",
              "      quickchartButtonEl.style.display =\n",
              "        google.colab.kernel.accessAllowed ? 'block' : 'none';\n",
              "    })();\n",
              "  </script>\n",
              "</div>\n",
              "\n",
              "    </div>\n",
              "  </div>\n"
            ],
            "application/vnd.google.colaboratory.intrinsic+json": {
              "type": "dataframe",
              "variable_name": "test_labels",
              "summary": "{\n  \"name\": \"test_labels\",\n  \"rows\": 780,\n  \"fields\": [\n    {\n      \"column\": \"IMAGE\",\n      \"properties\": {\n        \"dtype\": \"string\",\n        \"num_unique_values\": 780,\n        \"samples\": [\n          \"595.png\",\n          \"587.png\",\n          \"543.png\"\n        ],\n        \"semantic_type\": \"\",\n        \"description\": \"\"\n      }\n    },\n    {\n      \"column\": \"MEDICINE_NAME\",\n      \"properties\": {\n        \"dtype\": \"category\",\n        \"num_unique_values\": 78,\n        \"samples\": [\n          \"Fixal\",\n          \"Aceta\",\n          \"Flamyd\"\n        ],\n        \"semantic_type\": \"\",\n        \"description\": \"\"\n      }\n    },\n    {\n      \"column\": \"GENERIC_NAME\",\n      \"properties\": {\n        \"dtype\": \"category\",\n        \"num_unique_values\": 15,\n        \"samples\": [\n          \"Clonazepam\",\n          \"Ketoconazole (Tablet)\",\n          \"Paracetamol\"\n        ],\n        \"semantic_type\": \"\",\n        \"description\": \"\"\n      }\n    }\n  ]\n}"
            }
          },
          "metadata": {},
          "execution_count": 27
        }
      ],
      "source": [
        "test_labels.head()"
      ]
    },
    {
      "cell_type": "markdown",
      "metadata": {
        "id": "LdmY3GCR7y3T"
      },
      "source": [
        "##### Encode the medecine name"
      ]
    },
    {
      "cell_type": "code",
      "execution_count": 28,
      "metadata": {
        "id": "fkD5ncn87y3T"
      },
      "outputs": [],
      "source": [
        "test_name_enc = to_categorical(medicine_enc.transform(test_labels[\"MEDICINE_NAME\"]), num_classes=78)\n",
        "# test_labels[\"train_medecine_name_enc\"] = test_name_enc"
      ]
    },
    {
      "cell_type": "code",
      "execution_count": 29,
      "metadata": {
        "id": "ITBEu5ZN7y3T",
        "outputId": "004ecbf6-939c-47d3-9ed9-6cbbaa592fe5",
        "colab": {
          "base_uri": "https://localhost:8080/"
        }
      },
      "outputs": [
        {
          "output_type": "execute_result",
          "data": {
            "text/plain": [
              "78"
            ]
          },
          "metadata": {},
          "execution_count": 29
        }
      ],
      "source": [
        "len(test_labels[\"MEDICINE_NAME\"].unique())"
      ]
    },
    {
      "cell_type": "markdown",
      "metadata": {
        "id": "Rpdxh0jc7y3T"
      },
      "source": [
        "#### Testing Images"
      ]
    },
    {
      "cell_type": "code",
      "execution_count": 30,
      "metadata": {
        "id": "BUGvLEL97y3U"
      },
      "outputs": [],
      "source": [
        "test_images = []\n",
        "test_files = glob.glob(\"/content/drive/MyDrive/project_medzy/dataset/Testing/testing_words/*.png\")\n",
        "for picture in test_files:\n",
        "    image = cv2.resize(cv2.imread(picture, cv2.IMREAD_GRAYSCALE), (img_width, img_height))\n",
        "\n",
        "    #since cv2 sometimes return a \"none\" type we will append the data after validating it if it is a not \"none\" type\n",
        "    if image is None:\n",
        "        print(f\"Err importing picture {picture}\")\n",
        "        continue\n",
        "    res, image = cv2.threshold(image,210,255,cv2.THRESH_BINARY)\n",
        "    image = cv2.adaptiveThreshold(image,255,cv2.ADAPTIVE_THRESH_GAUSSIAN_C,\\\n",
        "            cv2.THRESH_BINARY,15,1)\n",
        "    # image = cv2.GaussianBlur(image,(5,5),5)\n",
        "    res, image = cv2.threshold(image,220,255,cv2.THRESH_BINARY+cv2.THRESH_OTSU)\n",
        "    res, image = cv2.threshold(image,220,255,cv2.THRESH_BINARY+cv2.THRESH_OTSU)\n",
        "\n",
        "\n",
        "    test_images.append(image)\n",
        "    # image = np.asarray(image) # for numpy 1.23\n",
        "\n",
        "    # To show the images\n",
        "    # plt.imshow(image, cmap = \"gray\")\n",
        "    # plt.show()\n",
        "\n",
        "test_images = np.array(test_images)\n",
        "test_dataset = tf.data.Dataset.from_tensor_slices((test_images, test_labels))"
      ]
    },
    {
      "cell_type": "code",
      "execution_count": 31,
      "metadata": {
        "id": "Ou9F3IHg7y3U",
        "outputId": "d14434bb-30ed-4087-c88b-326a05fce5d0",
        "colab": {
          "base_uri": "https://localhost:8080/"
        }
      },
      "outputs": [
        {
          "output_type": "stream",
          "name": "stdout",
          "text": [
            "Dataset shape: (780, 140, 420)\n",
            "Labels shape: (780, 3)\n"
          ]
        }
      ],
      "source": [
        "print(\"Dataset shape:\", test_images.shape)\n",
        "print(\"Labels shape:\", test_labels.shape)"
      ]
    },
    {
      "cell_type": "markdown",
      "metadata": {
        "id": "bkJSlwRk7y3U"
      },
      "source": [
        "##### Check if it is correct"
      ]
    },
    {
      "cell_type": "code",
      "execution_count": 32,
      "metadata": {
        "id": "vAj6XltF7y3U",
        "outputId": "50c04be6-95cb-4394-f2c8-02f348407b31",
        "colab": {
          "base_uri": "https://localhost:8080/"
        }
      },
      "outputs": [
        {
          "output_type": "execute_result",
          "data": {
            "text/plain": [
              "(140, 420)"
            ]
          },
          "metadata": {},
          "execution_count": 32
        }
      ],
      "source": [
        "test_images[0].shape"
      ]
    },
    {
      "cell_type": "code",
      "execution_count": 33,
      "metadata": {
        "id": "QbMfnElS7y3U",
        "outputId": "7185afb6-6297-4df0-8840-0207d842898c",
        "colab": {
          "base_uri": "https://localhost:8080/",
          "height": 248
        }
      },
      "outputs": [
        {
          "output_type": "execute_result",
          "data": {
            "text/plain": [
              "<matplotlib.image.AxesImage at 0x7eaa601d2e50>"
            ]
          },
          "metadata": {},
          "execution_count": 33
        },
        {
          "output_type": "display_data",
          "data": {
            "text/plain": [
              "<Figure size 640x480 with 1 Axes>"
            ],
            "image/png": "[encoded data removed]"
          },
          "metadata": {}
        }
      ],
      "source": [
        "plt.imshow(test_images[0])"
      ]
    },
    {
      "cell_type": "code",
      "execution_count": 34,
      "metadata": {
        "id": "0uKMTUX97y3U",
        "outputId": "f3a6d9e4-c1ae-4dec-ec68-04376c5f09e2",
        "colab": {
          "base_uri": "https://localhost:8080/"
        }
      },
      "outputs": [
        {
          "output_type": "stream",
          "name": "stdout",
          "text": [
            "Example label: IMAGE                  0.png\n",
            "MEDICINE_NAME          Aceta\n",
            "GENERIC_NAME     Paracetamol\n",
            "Name: 0, dtype: object\n"
          ]
        }
      ],
      "source": [
        "print(\"Example label:\", test_labels.iloc[0])"
      ]
    },
    {
      "cell_type": "markdown",
      "metadata": {
        "id": "9Q4NwUD37y3U"
      },
      "source": [
        "## Building the artificial neural network"
      ]
    },
    {
      "cell_type": "markdown",
      "metadata": {
        "id": "SS-zayeR7y3V"
      },
      "source": [
        "#### Make a model create function"
      ]
    },
    {
      "cell_type": "markdown",
      "metadata": {
        "id": "yDQ6UsSo7y3V"
      },
      "source": [
        "##### Parameters for the model"
      ]
    },
    {
      "cell_type": "code",
      "execution_count": 35,
      "metadata": {
        "id": "S077J9oc7y3V",
        "outputId": "5b58e25b-8fb2-4813-9938-3bc4295e0a9c",
        "colab": {
          "base_uri": "https://localhost:8080/"
        }
      },
      "outputs": [
        {
          "output_type": "execute_result",
          "data": {
            "text/plain": [
              "78"
            ]
          },
          "metadata": {},
          "execution_count": 35
        }
      ],
      "source": [
        "#number of classes to determine how many neurons are in the output layer\n",
        "num_classes = len(train_labels[\"MEDICINE_NAME\"].unique())\n",
        "num_classes"
      ]
    },
    {
      "cell_type": "code",
      "execution_count": 36,
      "metadata": {
        "id": "2k-oXelt7y3V",
        "outputId": "6911ae40-6e16-43a0-e85e-0703f78fa0fb",
        "colab": {
          "base_uri": "https://localhost:8080/"
        }
      },
      "outputs": [
        {
          "output_type": "execute_result",
          "data": {
            "text/plain": [
              "(140, 420)"
            ]
          },
          "metadata": {},
          "execution_count": 36
        }
      ],
      "source": [
        "#the image size to determine the shape for the convolutional neural network to scan\n",
        "train_images[0].shape"
      ]
    },
    {
      "cell_type": "code",
      "source": [
        "#make everything to int 32 since there is a type error\n",
        "train_images = train_images.astype(\"int32\")\n",
        "validation_images = validation_images.astype(\"int32\")\n",
        "test_images = test_images.astype(\"int32\")"
      ],
      "metadata": {
        "id": "VzeL1QKwsBLz"
      },
      "execution_count": 37,
      "outputs": []
    },
    {
      "cell_type": "markdown",
      "metadata": {
        "id": "MPv5ibTD7y3V"
      },
      "source": [
        "#### Custom metrics"
      ]
    },
    {
      "cell_type": "code",
      "execution_count": 38,
      "metadata": {
        "id": "GpI3GCny7y3V"
      },
      "outputs": [],
      "source": [
        "def recall_m(y_true, y_pred):\n",
        "    true_positives = K.sum(K.round(K.clip(y_true * y_pred, 0, 1)))\n",
        "    possible_positives = K.sum(K.round(K.clip(y_true, 0, 1)))\n",
        "    recall = true_positives / (possible_positives + K.epsilon())\n",
        "    return K.cast(recall, dtype=\"float16\")\n",
        "\n",
        "def precision_m(y_true, y_pred):\n",
        "    true_positives = K.sum(K.round(K.clip(y_true * y_pred, 0, 1)))\n",
        "    predicted_positives = K.sum(K.round(K.clip(y_pred, 0, 1)))\n",
        "    precision = true_positives / (predicted_positives + K.epsilon())\n",
        "    return K.cast(precision, dtype=\"float16\")\n",
        "\n",
        "def f1_score(y_true, y_pred):\n",
        "    precision = precision_m(y_true, y_pred)\n",
        "    recall = recall_m(y_true, y_pred)\n",
        "    f1 = 2*((precision*recall)/(precision+recall+K.epsilon()))\n",
        "    return K.cast(f1, dtype=\"float16\")\n",
        "\n",
        "def accuracy(y_true, y_pred):\n",
        "    correct_predictions = K.sum(K.round(K.clip(y_true * y_pred, 0, 1)))\n",
        "    total_samples = K.sum(K.round(K.clip(y_true, 0, 1)))\n",
        "    acc = correct_predictions / (total_samples + K.epsilon())\n",
        "    return K.cast(acc, dtype=\"float16\")"
      ]
    },
    {
      "cell_type": "markdown",
      "metadata": {
        "id": "ZKTUbdnc7y3V"
      },
      "source": [
        "#### Create a model builder for gridsearch"
      ]
    },
    {
      "cell_type": "markdown",
      "metadata": {
        "id": "W0H7pzkH7y3W"
      },
      "source": [
        "the even filter shapes aren't recommended because it lacks the ability to devide the previous layer pixels arould the output pixel <a hre = \"https://medium.com/analytics-vidhya/how-to-choose-the-size-of-the-convolution-filter-or-kernel-size-for-cnn-86a55a1e2d15\">(Pandey, 2020)</a>.\n",
        "\n",
        "<a href = \"https://medium.com/@nerdjock/convolutional-neural-network-lesson-9-activation-functions-in-cnns-57def9c6e759\">Machine Learning in Plain English (2023)</a> The most common activation functions are \"relu\" and \"leaky relu\" therefore we would pass it in the grid search.\n",
        "\n",
        "Max pooling excells in image classification, due to how max pooling captures the most prominent features and reduce the variance of the input <a href = \"https://www.linkedin.com/advice/1/how-do-you-choose-appropriate-pooling-method-2uvmc#adaptive-pooling\">(Awad et. al, n.d.)</a>."
      ]
    },
    {
      "cell_type": "code",
      "execution_count": 39,
      "metadata": {
        "id": "d1CXJxTu7y3W"
      },
      "outputs": [],
      "source": [
        "import json\n",
        "import numpy as np\n",
        "\n",
        "def create_model(hp):\n",
        "    input_shape = (img_height, img_width, 1)\n",
        "    model = Sequential()\n",
        "    metrics = [accuracy,\n",
        "            recall_m,\n",
        "            precision_m,\n",
        "            f1_score]\n",
        "\n",
        "    #input layer. The shape of the input layer must be huge to scale down the image. Ideally (5x5) or (7x7)\n",
        "    model.add(layers.Conv2D(filters = hp.Choice(\"input_filter\", [int(32), int(64), int(128)]),\n",
        "                            kernel_size = hp.Choice(\"input_kernel_size\", [int(3),int(5),int(7)]),\n",
        "                            activation = hp.Choice(\"input_activation\", [\"relu\", \"leaky_relu\"]),\n",
        "                            input_shape = input_shape))\n",
        "    model.add(layers.MaxPooling2D(pool_size=2))\n",
        "\n",
        "    #Convolutional layer\n",
        "    for i in range(hp.Choice(\"n_conv_layers\", [int(1),int(3)])):\n",
        "        model.add(layers.Conv2D(filters = hp.Choice(f\"conv_filter_{i}\", [int(32), int(64), int(128)]),\n",
        "                            kernel_size = hp.Choice(f\"conv_kernel_size_{i}\", [int(3),int(5),int(7)]),\n",
        "                            activation = hp.Choice(f\"conv_activation_{i}\", [\"relu\", \"leaky_relu\"])))\n",
        "        if i < 1:\n",
        "            model.add(layers.MaxPooling2D(pool_size=2))\n",
        "\n",
        "    #Flatten the resulted image so that the dense layer could extract the patterns and categorize it\n",
        "    model.add(layers.Flatten())\n",
        "\n",
        "    # intermediate layer (note: from previous grid searches, by using only one intermediate layer achived the best score)\n",
        "    model.add(layers.Dense(hp.Choice(f\"n_neurons_dense_{i}\", [int(256), int(512), int(1024)]),\n",
        "                        activation = hp.Choice(f\"dense_activation{i}\", [\"relu\", \"leaky_relu\"])))\n",
        "\n",
        "    #Output layer\n",
        "    #there are 78 classes in the output layer so we will take 78 neurons to classify it\n",
        "    model.add(layers.Dense(78, activation = \"softmax\"))\n",
        "\n",
        "    #optimizers (contributed by Rayhan)\n",
        "    optimizer_name = hp.Choice('optimizer', ['adamw', 'sgd', 'rmsprop'])\n",
        "\n",
        "    if optimizer_name == 'adamw':\n",
        "        optimizer = tf.keras.optimizers.AdamW(learning_rate=hp.Choice('learning_rate', [0.0001, 0.001, 0.005]), weight_decay=1e-4)\n",
        "    elif optimizer_name == 'sgd':\n",
        "        optimizer = tf.keras.optimizers.SGD(learning_rate=hp.Choice('learning_rate', [0.0001, 0.001, 0.01]), momentum=0.9)\n",
        "    elif optimizer_name == 'rmsprop':\n",
        "        optimizer = tf.keras.optimizers.RMSprop(learning_rate=hp.Choice('learning_rate', [0.0001, 0.001, 0.01]), rho=0.9)\n",
        "\n",
        "    model.compile(metrics = metrics, loss = \"categorical_crossentropy\")\n",
        "\n",
        "    return model"
      ]
    },
    {
      "cell_type": "markdown",
      "metadata": {
        "id": "RqP0fJkx7y3W"
      },
      "source": [
        "In this project, a hyperband gridsearch will be used since the hyperband tuner will stop training the model if the accuracy is low on the validation data <a href = \"https://medium.com/analytics-vidhya/automated-hyperparameter-tuning-with-keras-tuner-and-tensorflow-2-0-31ec83f08a62#:~:text=Overview%20of%20available%20Keras%20Tuners,Tuners%20available%2C%20as%20of%20now.&text=The%20basic%20and%20least%20efficient,from%20a%20search%20space%20randomly.&text=A%20Hyperband%20tuner%20is%20an,accuracy%20on%20the%20validation%20set.&text=Bayesian%20Optimization%20works%20the%20same,Keras%20Tuner%20with%20the%20Documentation.\">(Bag, 2021)</a>."
      ]
    },
    {
      "cell_type": "code",
      "execution_count": 40,
      "metadata": {
        "id": "cpcNXkil7y3W"
      },
      "outputs": [],
      "source": [
        "#tuner_hyperband = keras_tuner.Hyperband(\n",
        "#     hypermodel = create_model,\n",
        "#     objective= keras_tuner.Objective(\"val_recall\",\n",
        "#                                      direction='max'),\n",
        "#     max_epochs=100,\n",
        "#     factor = 5,\n",
        "#     hyperband_iterations=1, #the number of itterations that the model will go trough the hyperband algorithm\n",
        "#     seed = 42, #for reproducibility\n",
        "#     overwrite = True,\n",
        "#     # directory = \"model_train_log\", #to store logs on the trial results\n",
        "#     # project_name = \"medzy\"\n",
        "#)"
      ]
    },
    {
      "cell_type": "code",
      "execution_count": 41,
      "metadata": {
        "id": "uBIJQtLQ7y3W",
        "outputId": "0a1b7a2a-1a93-4eb3-d930-cfd709abd746",
        "colab": {
          "base_uri": "https://localhost:8080/"
        }
      },
      "outputs": [
        {
          "output_type": "stream",
          "name": "stderr",
          "text": [
            "/usr/local/lib/python3.11/dist-packages/keras/src/layers/convolutional/base_conv.py:107: UserWarning: Do not pass an `input_shape`/`input_dim` argument to a layer. When using Sequential models, prefer using an `Input(shape)` object as the first layer in the model instead.\n",
            "  super().__init__(activity_regularizer=activity_regularizer, **kwargs)\n"
          ]
        }
      ],
      "source": [
        " # Bayesian optimization\n",
        "tuner_bayes = keras_tuner.BayesianOptimization(\n",
        "   hypermodel = create_model,\n",
        "   objective= keras_tuner.Objective(\"val_recall\",\n",
        "                                     direction='max'),\n",
        "    max_trials = 2000000, #ther are so many combinations\n",
        "    seed = 42,\n",
        "    overwrite = True\n",
        ")"
      ]
    },
    {
      "cell_type": "code",
      "execution_count": 42,
      "metadata": {
        "id": "-kpTpibO7y3W"
      },
      "outputs": [],
      "source": [
        "#tuner_gridSearch = keras_tuner.GridSearch(\n",
        "#    hypermodel = create_model,\n",
        "#    objective = keras_tuner.Objective(\"val_recall\",\n",
        "#                                     direction='max'),\n",
        "#    seed = 42,\n",
        "#    overwrite = True\n",
        "#)"
      ]
    },
    {
      "cell_type": "markdown",
      "metadata": {
        "id": "c0q3xIi67y3X"
      },
      "source": [
        "#### Start the grid search"
      ]
    },
    {
      "cell_type": "code",
      "source": [
        "validation_steps = int(len(validation_images)) #the number of validation for number of batches\n",
        "\n",
        "tuner_bayes.search(\n",
        "    train_images,\n",
        "    train_name_enc,\n",
        "    epochs = 70,\n",
        "    validation_data = (validation_images, validation_name_enc), #data used to evaluate the model after each epoch\n",
        "    validation_steps = validation_steps #number of batches used for validation\n",
        "    # callbacks = [keras.callbacks.EarlyStopping(\n",
        "    #         monitor=\"val_recall_m\",  # Metric to monitor\n",
        "    #         patience=3,  # Number of epochs with no improvement before stopping\n",
        "    #         mode=\"min\",  # Since we want to maximize recall\n",
        "    #         # restore_best_weights=True,  # Restores the best model weights at the end\n",
        "    #         verbose=1  # Prints when early stopping happens\n",
        "    #         )\n",
        "            # keras.callbacks.EarlyStopping(\n",
        "            #     monitor = \"val_f1_score\",\n",
        "            #     patience = 3,\n",
        "            #     mode = \"max\",\n",
        "            #     restore_best_weights = True,\n",
        "            #     verbose = 1\n",
        "            # ),\n",
        "            # keras.callbacks.EarlyStopping(\n",
        "            #     monitor = \"val_precision\",\n",
        "            #     patience = 3,\n",
        "            #     mode = \"max\",\n",
        "            #     restore_best_weights = True,\n",
        "            #     verbose = 1\n",
        "            # )\n",
        "#            ]\n",
        ")"
      ],
      "metadata": {
        "colab": {
          "base_uri": "https://localhost:8080/",
          "height": 1000
        },
        "id": "-IQkzOArfWmx",
        "outputId": "7a6e6399-63dc-4d18-8bb4-ad860a49fa9e"
      },
      "execution_count": 44,
      "outputs": [
        {
          "output_type": "stream",
          "name": "stdout",
          "text": [
            "Trial 2 Complete [00h 04m 37s]\n",
            "\n",
            "Best val_recall So Far: None\n",
            "Total elapsed time: 00h 11m 48s\n",
            "\n",
            "Search: Running Trial #3\n",
            "\n",
            "Value             |Best Value So Far |Hyperparameter\n",
            "64                |64                |input_filter\n",
            "5                 |3                 |input_kernel_size\n",
            "relu              |relu              |input_activation\n",
            "1                 |1                 |n_conv_layers\n",
            "128               |128               |conv_filter_0\n",
            "7                 |5                 |conv_kernel_size_0\n",
            "leaky_relu        |leaky_relu        |conv_activation_0\n",
            "256               |256               |n_neurons_dense_0\n",
            "relu              |relu              |dense_activation0\n",
            "adamw             |adamw             |optimizer\n",
            "0.005             |0.005             |learning_rate\n",
            "64                |None              |conv_filter_1\n",
            "5                 |None              |conv_kernel_size_1\n",
            "leaky_relu        |None              |conv_activation_1\n",
            "128               |None              |conv_filter_2\n",
            "3                 |None              |conv_kernel_size_2\n",
            "relu              |None              |conv_activation_2\n",
            "512               |None              |n_neurons_dense_2\n",
            "relu              |None              |dense_activation2\n",
            "\n",
            "Epoch 1/70\n",
            "\u001b[1m98/98\u001b[0m \u001b[32m━━━━━━━━━━━━━━━━━━━━\u001b[0m\u001b[37m\u001b[0m \u001b[1m17s\u001b[0m 104ms/step - accuracy: 0.0098 - f1_score: 0.0102 - loss: 10499.8340 - precision_m: 0.0122 - recall_m: 0.0098 - val_accuracy: 0.0000e+00 - val_f1_score: 0.0000e+00 - val_loss: 4.4589 - val_precision_m: 0.0000e+00 - val_recall_m: 0.0000e+00\n",
            "Epoch 2/70\n",
            "\u001b[1m98/98\u001b[0m \u001b[32m━━━━━━━━━━━━━━━━━━━━\u001b[0m\u001b[37m\u001b[0m \u001b[1m6s\u001b[0m 63ms/step - accuracy: 6.3697e-04 - f1_score: 9.6880e-04 - loss: 21.1661 - precision_m: 0.0116 - recall_m: 6.3697e-04 - val_accuracy: 0.0000e+00 - val_f1_score: 0.0000e+00 - val_loss: 4.3568 - val_precision_m: 0.0000e+00 - val_recall_m: 0.0000e+00\n",
            "Epoch 3/70\n",
            "\u001b[1m98/98\u001b[0m \u001b[32m━━━━━━━━━━━━━━━━━━━━\u001b[0m\u001b[37m\u001b[0m \u001b[1m6s\u001b[0m 63ms/step - accuracy: 4.3557e-04 - f1_score: 4.5803e-04 - loss: 12.5573 - precision_m: 4.8913e-04 - recall_m: 4.3557e-04 - val_accuracy: 0.0000e+00 - val_f1_score: 0.0000e+00 - val_loss: 4.3568 - val_precision_m: 0.0000e+00 - val_recall_m: 0.0000e+00\n",
            "Epoch 4/70\n",
            "\u001b[1m98/98\u001b[0m \u001b[32m━━━━━━━━━━━━━━━━━━━━\u001b[0m\u001b[37m\u001b[0m \u001b[1m6s\u001b[0m 62ms/step - accuracy: 4.4228e-05 - f1_score: 4.4228e-05 - loss: 6.7109 - precision_m: 4.4228e-05 - recall_m: 4.4228e-05 - val_accuracy: 0.0000e+00 - val_f1_score: 0.0000e+00 - val_loss: 4.3567 - val_precision_m: 0.0000e+00 - val_recall_m: 0.0000e+00\n",
            "Epoch 5/70\n",
            "\u001b[1m98/98\u001b[0m \u001b[32m━━━━━━━━━━━━━━━━━━━━\u001b[0m\u001b[37m\u001b[0m \u001b[1m6s\u001b[0m 63ms/step - accuracy: 2.7037e-04 - f1_score: 4.1794e-04 - loss: 5.1818 - precision_m: 0.0051 - recall_m: 2.7037e-04 - val_accuracy: 0.0000e+00 - val_f1_score: 0.0000e+00 - val_loss: 4.3891 - val_precision_m: 0.0000e+00 - val_recall_m: 0.0000e+00\n",
            "Epoch 6/70\n",
            "\u001b[1m98/98\u001b[0m \u001b[32m━━━━━━━━━━━━━━━━━━━━\u001b[0m\u001b[37m\u001b[0m \u001b[1m6s\u001b[0m 63ms/step - accuracy: 7.9855e-04 - f1_score: 0.0015 - loss: 4.5564 - precision_m: 0.0178 - recall_m: 7.9855e-04 - val_accuracy: 0.0000e+00 - val_f1_score: 0.0000e+00 - val_loss: 6.9721 - val_precision_m: 0.0000e+00 - val_recall_m: 0.0000e+00\n",
            "Epoch 7/70\n",
            "\u001b[1m98/98\u001b[0m \u001b[32m━━━━━━━━━━━━━━━━━━━━\u001b[0m\u001b[37m\u001b[0m \u001b[1m6s\u001b[0m 60ms/step - accuracy: 6.5624e-04 - f1_score: 0.0013 - loss: 7.0095 - precision_m: 0.0210 - recall_m: 6.5624e-04 - val_accuracy: 0.0000e+00 - val_f1_score: 0.0000e+00 - val_loss: 4.3903 - val_precision_m: 0.0000e+00 - val_recall_m: 0.0000e+00\n",
            "Epoch 8/70\n",
            "\u001b[1m98/98\u001b[0m \u001b[32m━━━━━━━━━━━━━━━━━━━━\u001b[0m\u001b[37m\u001b[0m \u001b[1m6s\u001b[0m 62ms/step - accuracy: 0.0029 - f1_score: 0.0056 - loss: 4.3577 - precision_m: 0.0923 - recall_m: 0.0029 - val_accuracy: 0.0000e+00 - val_f1_score: 0.0000e+00 - val_loss: 4.3567 - val_precision_m: 0.0000e+00 - val_recall_m: 0.0000e+00\n",
            "Epoch 9/70\n",
            "\u001b[1m98/98\u001b[0m \u001b[32m━━━━━━━━━━━━━━━━━━━━\u001b[0m\u001b[37m\u001b[0m \u001b[1m6s\u001b[0m 63ms/step - accuracy: 6.9550e-04 - f1_score: 0.0013 - loss: 4.3532 - precision_m: 0.0223 - recall_m: 6.9550e-04 - val_accuracy: 0.0000e+00 - val_f1_score: 0.0000e+00 - val_loss: 4.3717 - val_precision_m: 0.0000e+00 - val_recall_m: 0.0000e+00\n",
            "Epoch 10/70\n",
            "\u001b[1m98/98\u001b[0m \u001b[32m━━━━━━━━━━━━━━━━━━━━\u001b[0m\u001b[37m\u001b[0m \u001b[1m6s\u001b[0m 63ms/step - accuracy: 0.0021 - f1_score: 0.0040 - loss: 4.3476 - precision_m: 0.0558 - recall_m: 0.0021 - val_accuracy: 0.0000e+00 - val_f1_score: 0.0000e+00 - val_loss: 4.3569 - val_precision_m: 0.0000e+00 - val_recall_m: 0.0000e+00\n",
            "Epoch 11/70\n",
            "\u001b[1m98/98\u001b[0m \u001b[32m━━━━━━━━━━━━━━━━━━━━\u001b[0m\u001b[37m\u001b[0m \u001b[1m6s\u001b[0m 58ms/step - accuracy: 0.0030 - f1_score: 0.0057 - loss: 4.3446 - precision_m: 0.0734 - recall_m: 0.0030 - val_accuracy: 0.0000e+00 - val_f1_score: 0.0000e+00 - val_loss: 4.3603 - val_precision_m: 0.0000e+00 - val_recall_m: 0.0000e+00\n",
            "Epoch 12/70\n",
            "\u001b[1m98/98\u001b[0m \u001b[32m━━━━━━━━━━━━━━━━━━━━\u001b[0m\u001b[37m\u001b[0m \u001b[1m6s\u001b[0m 62ms/step - accuracy: 6.6920e-05 - f1_score: 1.2600e-04 - loss: 4.3638 - precision_m: 0.0011 - recall_m: 6.6920e-05 - val_accuracy: 0.0000e+00 - val_f1_score: 0.0000e+00 - val_loss: 4.3568 - val_precision_m: 0.0000e+00 - val_recall_m: 0.0000e+00\n",
            "Epoch 13/70\n",
            "\u001b[1m98/98\u001b[0m \u001b[32m━━━━━━━━━━━━━━━━━━━━\u001b[0m\u001b[37m\u001b[0m \u001b[1m6s\u001b[0m 63ms/step - accuracy: 1.1330e-04 - f1_score: 2.1974e-04 - loss: 4.3543 - precision_m: 0.0036 - recall_m: 1.1330e-04 - val_accuracy: 0.0000e+00 - val_f1_score: 0.0000e+00 - val_loss: 4.3567 - val_precision_m: 0.0000e+00 - val_recall_m: 0.0000e+00\n",
            "Epoch 14/70\n",
            "\u001b[1m98/98\u001b[0m \u001b[32m━━━━━━━━━━━━━━━━━━━━\u001b[0m\u001b[37m\u001b[0m \u001b[1m6s\u001b[0m 64ms/step - accuracy: 4.3131e-04 - f1_score: 8.3651e-04 - loss: 4.3544 - precision_m: 0.0138 - recall_m: 4.3131e-04 - val_accuracy: 0.0000e+00 - val_f1_score: 0.0000e+00 - val_loss: 4.3567 - val_precision_m: 0.0000e+00 - val_recall_m: 0.0000e+00\n",
            "Epoch 15/70\n",
            "\u001b[1m98/98\u001b[0m \u001b[32m━━━━━━━━━━━━━━━━━━━━\u001b[0m\u001b[37m\u001b[0m \u001b[1m6s\u001b[0m 63ms/step - accuracy: 0.0000e+00 - f1_score: 0.0000e+00 - loss: 4.3555 - precision_m: 0.0000e+00 - recall_m: 0.0000e+00 - val_accuracy: 0.0000e+00 - val_f1_score: 0.0000e+00 - val_loss: 4.3567 - val_precision_m: 0.0000e+00 - val_recall_m: 0.0000e+00\n",
            "Epoch 16/70\n",
            "\u001b[1m98/98\u001b[0m \u001b[32m━━━━━━━━━━━━━━━━━━━━\u001b[0m\u001b[37m\u001b[0m \u001b[1m6s\u001b[0m 64ms/step - accuracy: 4.4228e-05 - f1_score: 8.5779e-05 - loss: 4.3556 - precision_m: 0.0014 - recall_m: 4.4228e-05 - val_accuracy: 0.0000e+00 - val_f1_score: 0.0000e+00 - val_loss: 4.3567 - val_precision_m: 0.0000e+00 - val_recall_m: 0.0000e+00\n",
            "Epoch 17/70\n",
            "\u001b[1m98/98\u001b[0m \u001b[32m━━━━━━━━━━━━━━━━━━━━\u001b[0m\u001b[37m\u001b[0m \u001b[1m7s\u001b[0m 72ms/step - accuracy: 2.9959e-05 - f1_score: 5.8104e-05 - loss: 4.3539 - precision_m: 9.5869e-04 - recall_m: 2.9959e-05 - val_accuracy: 0.0000e+00 - val_f1_score: 0.0000e+00 - val_loss: 4.3567 - val_precision_m: 0.0000e+00 - val_recall_m: 0.0000e+00\n",
            "Epoch 18/70\n",
            "\u001b[1m98/98\u001b[0m \u001b[32m━━━━━━━━━━━━━━━━━━━━\u001b[0m\u001b[37m\u001b[0m \u001b[1m6s\u001b[0m 62ms/step - accuracy: 4.8362e-04 - f1_score: 9.3797e-04 - loss: 4.3504 - precision_m: 0.0155 - recall_m: 4.8362e-04 - val_accuracy: 0.0000e+00 - val_f1_score: 0.0000e+00 - val_loss: 4.3567 - val_precision_m: 0.0000e+00 - val_recall_m: 0.0000e+00\n",
            "Epoch 19/70\n",
            "\u001b[1m98/98\u001b[0m \u001b[32m━━━━━━━━━━━━━━━━━━━━\u001b[0m\u001b[37m\u001b[0m \u001b[1m6s\u001b[0m 61ms/step - accuracy: 5.8688e-04 - f1_score: 0.0011 - loss: 4.3546 - precision_m: 0.0188 - recall_m: 5.8688e-04 - val_accuracy: 0.0000e+00 - val_f1_score: 0.0000e+00 - val_loss: 4.3567 - val_precision_m: 0.0000e+00 - val_recall_m: 0.0000e+00\n",
            "Epoch 20/70\n",
            "\u001b[1m98/98\u001b[0m \u001b[32m━━━━━━━━━━━━━━━━━━━━\u001b[0m\u001b[37m\u001b[0m \u001b[1m6s\u001b[0m 62ms/step - accuracy: 1.8430e-04 - f1_score: 3.5744e-04 - loss: 4.3561 - precision_m: 0.0059 - recall_m: 1.8430e-04 - val_accuracy: 0.0000e+00 - val_f1_score: 0.0000e+00 - val_loss: 4.3567 - val_precision_m: 0.0000e+00 - val_recall_m: 0.0000e+00\n",
            "Epoch 21/70\n",
            "\u001b[1m98/98\u001b[0m \u001b[32m━━━━━━━━━━━━━━━━━━━━\u001b[0m\u001b[37m\u001b[0m \u001b[1m7s\u001b[0m 76ms/step - accuracy: 0.0000e+00 - f1_score: 0.0000e+00 - loss: 4.3539 - precision_m: 0.0000e+00 - recall_m: 0.0000e+00 - val_accuracy: 0.0000e+00 - val_f1_score: 0.0000e+00 - val_loss: 4.3568 - val_precision_m: 0.0000e+00 - val_recall_m: 0.0000e+00\n",
            "Epoch 22/70\n",
            "\u001b[1m98/98\u001b[0m \u001b[32m━━━━━━━━━━━━━━━━━━━━\u001b[0m\u001b[37m\u001b[0m \u001b[1m6s\u001b[0m 60ms/step - accuracy: 3.8378e-04 - f1_score: 7.4433e-04 - loss: 4.3553 - precision_m: 0.0123 - recall_m: 3.8378e-04 - val_accuracy: 0.0000e+00 - val_f1_score: 0.0000e+00 - val_loss: 4.3567 - val_precision_m: 0.0000e+00 - val_recall_m: 0.0000e+00\n",
            "Epoch 23/70\n",
            "\u001b[1m98/98\u001b[0m \u001b[32m━━━━━━━━━━━━━━━━━━━━\u001b[0m\u001b[37m\u001b[0m \u001b[1m6s\u001b[0m 61ms/step - accuracy: 3.8378e-04 - f1_score: 7.4433e-04 - loss: 4.3536 - precision_m: 0.0123 - recall_m: 3.8378e-04 - val_accuracy: 0.0000e+00 - val_f1_score: 0.0000e+00 - val_loss: 4.3567 - val_precision_m: 0.0000e+00 - val_recall_m: 0.0000e+00\n",
            "Epoch 24/70\n",
            "\u001b[1m98/98\u001b[0m \u001b[32m━━━━━━━━━━━━━━━━━━━━\u001b[0m\u001b[37m\u001b[0m \u001b[1m6s\u001b[0m 64ms/step - accuracy: 3.4365e-04 - f1_score: 6.6649e-04 - loss: 4.3549 - precision_m: 0.0110 - recall_m: 3.4365e-04 - val_accuracy: 0.0000e+00 - val_f1_score: 0.0000e+00 - val_loss: 4.3567 - val_precision_m: 0.0000e+00 - val_recall_m: 0.0000e+00\n",
            "Epoch 25/70\n",
            "\u001b[1m98/98\u001b[0m \u001b[32m━━━━━━━━━━━━━━━━━━━━\u001b[0m\u001b[37m\u001b[0m \u001b[1m7s\u001b[0m 75ms/step - accuracy: 2.9165e-04 - f1_score: 5.6564e-04 - loss: 4.3519 - precision_m: 0.0093 - recall_m: 2.9165e-04 - val_accuracy: 0.0000e+00 - val_f1_score: 0.0000e+00 - val_loss: 4.3567 - val_precision_m: 0.0000e+00 - val_recall_m: 0.0000e+00\n",
            "Epoch 26/70\n",
            "\u001b[1m98/98\u001b[0m \u001b[32m━━━━━━━━━━━━━━━━━━━━\u001b[0m\u001b[37m\u001b[0m \u001b[1m6s\u001b[0m 62ms/step - accuracy: 0.0000e+00 - f1_score: 0.0000e+00 - loss: 4.3563 - precision_m: 0.0000e+00 - recall_m: 0.0000e+00 - val_accuracy: 0.0000e+00 - val_f1_score: 0.0000e+00 - val_loss: 4.3567 - val_precision_m: 0.0000e+00 - val_recall_m: 0.0000e+00\n",
            "Epoch 27/70\n",
            "\u001b[1m98/98\u001b[0m \u001b[32m━━━━━━━━━━━━━━━━━━━━\u001b[0m\u001b[37m\u001b[0m \u001b[1m6s\u001b[0m 64ms/step - accuracy: 0.0000e+00 - f1_score: 0.0000e+00 - loss: 4.3522 - precision_m: 0.0000e+00 - recall_m: 0.0000e+00 - val_accuracy: 0.0000e+00 - val_f1_score: 0.0000e+00 - val_loss: 4.3567 - val_precision_m: 0.0000e+00 - val_recall_m: 0.0000e+00\n",
            "Epoch 28/70\n",
            "\u001b[1m98/98\u001b[0m \u001b[32m━━━━━━━━━━━━━━━━━━━━\u001b[0m\u001b[37m\u001b[0m \u001b[1m6s\u001b[0m 63ms/step - accuracy: 0.0000e+00 - f1_score: 0.0000e+00 - loss: 4.3558 - precision_m: 0.0000e+00 - recall_m: 0.0000e+00 - val_accuracy: 0.0000e+00 - val_f1_score: 0.0000e+00 - val_loss: 4.3567 - val_precision_m: 0.0000e+00 - val_recall_m: 0.0000e+00\n",
            "Epoch 29/70\n",
            "\u001b[1m98/98\u001b[0m \u001b[32m━━━━━━━━━━━━━━━━━━━━\u001b[0m\u001b[37m\u001b[0m \u001b[1m6s\u001b[0m 60ms/step - accuracy: 0.0022 - f1_score: 0.0042 - loss: 4.3484 - precision_m: 0.0688 - recall_m: 0.0022 - val_accuracy: 0.0000e+00 - val_f1_score: 0.0000e+00 - val_loss: 4.3567 - val_precision_m: 0.0000e+00 - val_recall_m: 0.0000e+00\n",
            "Epoch 30/70\n",
            "\u001b[1m98/98\u001b[0m \u001b[32m━━━━━━━━━━━━━━━━━━━━\u001b[0m\u001b[37m\u001b[0m \u001b[1m6s\u001b[0m 64ms/step - accuracy: 0.0000e+00 - f1_score: 0.0000e+00 - loss: 4.3551 - precision_m: 0.0000e+00 - recall_m: 0.0000e+00 - val_accuracy: 0.0000e+00 - val_f1_score: 0.0000e+00 - val_loss: 4.3567 - val_precision_m: 0.0000e+00 - val_recall_m: 0.0000e+00\n",
            "Epoch 31/70\n",
            "\u001b[1m98/98\u001b[0m \u001b[32m━━━━━━━━━━━━━━━━━━━━\u001b[0m\u001b[37m\u001b[0m \u001b[1m6s\u001b[0m 64ms/step - accuracy: 0.0000e+00 - f1_score: 0.0000e+00 - loss: 4.3550 - precision_m: 0.0000e+00 - recall_m: 0.0000e+00 - val_accuracy: 0.0000e+00 - val_f1_score: 0.0000e+00 - val_loss: 4.3567 - val_precision_m: 0.0000e+00 - val_recall_m: 0.0000e+00\n",
            "Epoch 32/70\n",
            "\u001b[1m98/98\u001b[0m \u001b[32m━━━━━━━━━━━━━━━━━━━━\u001b[0m\u001b[37m\u001b[0m \u001b[1m6s\u001b[0m 62ms/step - accuracy: 2.6120e-04 - f1_score: 5.0659e-04 - loss: 4.3540 - precision_m: 0.0084 - recall_m: 2.6120e-04 - val_accuracy: 0.0000e+00 - val_f1_score: 0.0000e+00 - val_loss: 4.3567 - val_precision_m: 0.0000e+00 - val_recall_m: 0.0000e+00\n",
            "Epoch 33/70\n",
            "\u001b[1m98/98\u001b[0m \u001b[32m━━━━━━━━━━━━━━━━━━━━\u001b[0m\u001b[37m\u001b[0m \u001b[1m6s\u001b[0m 58ms/step - accuracy: 7.0865e-05 - f1_score: 1.3744e-04 - loss: 4.3527 - precision_m: 0.0023 - recall_m: 7.0865e-05 - val_accuracy: 0.0000e+00 - val_f1_score: 0.0000e+00 - val_loss: 4.3567 - val_precision_m: 0.0000e+00 - val_recall_m: 0.0000e+00\n",
            "Epoch 34/70\n",
            "\u001b[1m98/98\u001b[0m \u001b[32m━━━━━━━━━━━━━━━━━━━━\u001b[0m\u001b[37m\u001b[0m \u001b[1m6s\u001b[0m 62ms/step - accuracy: 9.7669e-04 - f1_score: 0.0019 - loss: 4.3521 - precision_m: 0.0313 - recall_m: 9.7669e-04 - val_accuracy: 0.0000e+00 - val_f1_score: 0.0000e+00 - val_loss: 4.3567 - val_precision_m: 0.0000e+00 - val_recall_m: 0.0000e+00\n",
            "Epoch 35/70\n",
            "\u001b[1m98/98\u001b[0m \u001b[32m━━━━━━━━━━━━━━━━━━━━\u001b[0m\u001b[37m\u001b[0m \u001b[1m6s\u001b[0m 63ms/step - accuracy: 0.0000e+00 - f1_score: 0.0000e+00 - loss: 4.3540 - precision_m: 0.0000e+00 - recall_m: 0.0000e+00 - val_accuracy: 0.0000e+00 - val_f1_score: 0.0000e+00 - val_loss: 4.3567 - val_precision_m: 0.0000e+00 - val_recall_m: 0.0000e+00\n",
            "Epoch 36/70\n",
            "\u001b[1m98/98\u001b[0m \u001b[32m━━━━━━━━━━━━━━━━━━━━\u001b[0m\u001b[37m\u001b[0m \u001b[1m6s\u001b[0m 63ms/step - accuracy: 0.0000e+00 - f1_score: 0.0000e+00 - loss: 4.3551 - precision_m: 0.0000e+00 - recall_m: 0.0000e+00 - val_accuracy: 0.0000e+00 - val_f1_score: 0.0000e+00 - val_loss: 4.3567 - val_precision_m: 0.0000e+00 - val_recall_m: 0.0000e+00\n",
            "Epoch 37/70\n",
            "\u001b[1m98/98\u001b[0m \u001b[32m━━━━━━━━━━━━━━━━━━━━\u001b[0m\u001b[37m\u001b[0m \u001b[1m6s\u001b[0m 62ms/step - accuracy: 6.5932e-04 - f1_score: 0.0013 - loss: 4.3539 - precision_m: 0.0211 - recall_m: 6.5932e-04 - val_accuracy: 0.0000e+00 - val_f1_score: 0.0000e+00 - val_loss: 4.3567 - val_precision_m: 0.0000e+00 - val_recall_m: 0.0000e+00\n",
            "Epoch 38/70\n",
            "\u001b[1m98/98\u001b[0m \u001b[32m━━━━━━━━━━━━━━━━━━━━\u001b[0m\u001b[37m\u001b[0m \u001b[1m6s\u001b[0m 59ms/step - accuracy: 0.0000e+00 - f1_score: 0.0000e+00 - loss: 4.3527 - precision_m: 0.0000e+00 - recall_m: 0.0000e+00 - val_accuracy: 0.0000e+00 - val_f1_score: 0.0000e+00 - val_loss: 4.3567 - val_precision_m: 0.0000e+00 - val_recall_m: 0.0000e+00\n",
            "Epoch 39/70\n",
            "\u001b[1m98/98\u001b[0m \u001b[32m━━━━━━━━━━━━━━━━━━━━\u001b[0m\u001b[37m\u001b[0m \u001b[1m6s\u001b[0m 60ms/step - accuracy: 2.9974e-04 - f1_score: 5.8133e-04 - loss: 4.3546 - precision_m: 0.0096 - recall_m: 2.9974e-04 - val_accuracy: 0.0000e+00 - val_f1_score: 0.0000e+00 - val_loss: 4.3567 - val_precision_m: 0.0000e+00 - val_recall_m: 0.0000e+00\n",
            "Epoch 40/70\n",
            "\u001b[1m98/98\u001b[0m \u001b[32m━━━━━━━━━━━━━━━━━━━━\u001b[0m\u001b[37m\u001b[0m \u001b[1m6s\u001b[0m 62ms/step - accuracy: 0.0000e+00 - f1_score: 0.0000e+00 - loss: 4.3531 - precision_m: 0.0000e+00 - recall_m: 0.0000e+00 - val_accuracy: 0.0000e+00 - val_f1_score: 0.0000e+00 - val_loss: 4.3567 - val_precision_m: 0.0000e+00 - val_recall_m: 0.0000e+00\n",
            "Epoch 41/70\n",
            "\u001b[1m98/98\u001b[0m \u001b[32m━━━━━━━━━━━━━━━━━━━━\u001b[0m\u001b[37m\u001b[0m \u001b[1m6s\u001b[0m 63ms/step - accuracy: 0.0000e+00 - f1_score: 0.0000e+00 - loss: 4.3543 - precision_m: 0.0000e+00 - recall_m: 0.0000e+00 - val_accuracy: 0.0000e+00 - val_f1_score: 0.0000e+00 - val_loss: 4.3567 - val_precision_m: 0.0000e+00 - val_recall_m: 0.0000e+00\n",
            "Epoch 42/70\n",
            "\u001b[1m98/98\u001b[0m \u001b[32m━━━━━━━━━━━━━━━━━━━━\u001b[0m\u001b[37m\u001b[0m \u001b[1m6s\u001b[0m 59ms/step - accuracy: 0.0000e+00 - f1_score: 0.0000e+00 - loss: 4.3513 - precision_m: 0.0000e+00 - recall_m: 0.0000e+00 - val_accuracy: 0.0000e+00 - val_f1_score: 0.0000e+00 - val_loss: 4.3567 - val_precision_m: 0.0000e+00 - val_recall_m: 0.0000e+00\n",
            "Epoch 43/70\n",
            "\u001b[1m98/98\u001b[0m \u001b[32m━━━━━━━━━━━━━━━━━━━━\u001b[0m\u001b[37m\u001b[0m \u001b[1m6s\u001b[0m 62ms/step - accuracy: 1.9004e-04 - f1_score: 3.6858e-04 - loss: 4.3514 - precision_m: 0.0061 - recall_m: 1.9004e-04 - val_accuracy: 0.0000e+00 - val_f1_score: 0.0000e+00 - val_loss: 4.3567 - val_precision_m: 0.0000e+00 - val_recall_m: 0.0000e+00\n",
            "Epoch 44/70\n",
            "\u001b[1m98/98\u001b[0m \u001b[32m━━━━━━━━━━━━━━━━━━━━\u001b[0m\u001b[37m\u001b[0m \u001b[1m6s\u001b[0m 64ms/step - accuracy: 0.0000e+00 - f1_score: 0.0000e+00 - loss: 4.3542 - precision_m: 0.0000e+00 - recall_m: 0.0000e+00 - val_accuracy: 0.0000e+00 - val_f1_score: 0.0000e+00 - val_loss: 4.3567 - val_precision_m: 0.0000e+00 - val_recall_m: 0.0000e+00\n",
            "Epoch 45/70\n",
            "\u001b[1m98/98\u001b[0m \u001b[32m━━━━━━━━━━━━━━━━━━━━\u001b[0m\u001b[37m\u001b[0m \u001b[1m6s\u001b[0m 61ms/step - accuracy: 0.0000e+00 - f1_score: 0.0000e+00 - loss: 4.3558 - precision_m: 0.0000e+00 - recall_m: 0.0000e+00 - val_accuracy: 0.0000e+00 - val_f1_score: 0.0000e+00 - val_loss: 4.3567 - val_precision_m: 0.0000e+00 - val_recall_m: 0.0000e+00\n",
            "Epoch 46/70\n",
            "\u001b[1m98/98\u001b[0m \u001b[32m━━━━━━━━━━━━━━━━━━━━\u001b[0m\u001b[37m\u001b[0m \u001b[1m6s\u001b[0m 63ms/step - accuracy: 0.0000e+00 - f1_score: 0.0000e+00 - loss: 4.3482 - precision_m: 0.0000e+00 - recall_m: 0.0000e+00 - val_accuracy: 0.0000e+00 - val_f1_score: 0.0000e+00 - val_loss: 4.3568 - val_precision_m: 0.0000e+00 - val_recall_m: 0.0000e+00\n",
            "Epoch 47/70\n",
            "\u001b[1m98/98\u001b[0m \u001b[32m━━━━━━━━━━━━━━━━━━━━\u001b[0m\u001b[37m\u001b[0m \u001b[1m6s\u001b[0m 64ms/step - accuracy: 2.2686e-04 - f1_score: 4.3998e-04 - loss: 4.3514 - precision_m: 0.0073 - recall_m: 2.2686e-04 - val_accuracy: 0.0000e+00 - val_f1_score: 0.0000e+00 - val_loss: 4.3568 - val_precision_m: 0.0000e+00 - val_recall_m: 0.0000e+00\n",
            "Epoch 48/70\n",
            "\u001b[1m98/98\u001b[0m \u001b[32m━━━━━━━━━━━━━━━━━━━━\u001b[0m\u001b[37m\u001b[0m \u001b[1m6s\u001b[0m 63ms/step - accuracy: 3.3466e-05 - f1_score: 6.4906e-05 - loss: 4.3543 - precision_m: 0.0011 - recall_m: 3.3466e-05 - val_accuracy: 0.0000e+00 - val_f1_score: 0.0000e+00 - val_loss: 4.3567 - val_precision_m: 0.0000e+00 - val_recall_m: 0.0000e+00\n",
            "Epoch 49/70\n",
            "\u001b[1m98/98\u001b[0m \u001b[32m━━━━━━━━━━━━━━━━━━━━\u001b[0m\u001b[37m\u001b[0m \u001b[1m6s\u001b[0m 62ms/step - accuracy: 0.0000e+00 - f1_score: 0.0000e+00 - loss: 4.3508 - precision_m: 0.0000e+00 - recall_m: 0.0000e+00 - val_accuracy: 0.0000e+00 - val_f1_score: 0.0000e+00 - val_loss: 4.3568 - val_precision_m: 0.0000e+00 - val_recall_m: 0.0000e+00\n",
            "Epoch 50/70\n",
            "\u001b[1m98/98\u001b[0m \u001b[32m━━━━━━━━━━━━━━━━━━━━\u001b[0m\u001b[37m\u001b[0m \u001b[1m6s\u001b[0m 62ms/step - accuracy: 6.4168e-04 - f1_score: 0.0012 - loss: 4.3533 - precision_m: 0.0205 - recall_m: 6.4168e-04 - val_accuracy: 0.0000e+00 - val_f1_score: 0.0000e+00 - val_loss: 4.3567 - val_precision_m: 0.0000e+00 - val_recall_m: 0.0000e+00\n",
            "Epoch 51/70\n",
            "\u001b[1m98/98\u001b[0m \u001b[32m━━━━━━━━━━━━━━━━━━━━\u001b[0m\u001b[37m\u001b[0m \u001b[1m7s\u001b[0m 67ms/step - accuracy: 6.8106e-04 - f1_score: 0.0013 - loss: 4.3569 - precision_m: 0.0218 - recall_m: 6.8106e-04 - val_accuracy: 0.0000e+00 - val_f1_score: 0.0000e+00 - val_loss: 4.3567 - val_precision_m: 0.0000e+00 - val_recall_m: 0.0000e+00\n",
            "Epoch 52/70\n",
            "\u001b[1m98/98\u001b[0m \u001b[32m━━━━━━━━━━━━━━━━━━━━\u001b[0m\u001b[37m\u001b[0m \u001b[1m6s\u001b[0m 61ms/step - accuracy: 5.6716e-04 - f1_score: 0.0011 - loss: 4.3536 - precision_m: 0.0181 - recall_m: 5.6716e-04 - val_accuracy: 0.0000e+00 - val_f1_score: 0.0000e+00 - val_loss: 4.3567 - val_precision_m: 0.0000e+00 - val_recall_m: 0.0000e+00\n",
            "Epoch 53/70\n",
            "\u001b[1m98/98\u001b[0m \u001b[32m━━━━━━━━━━━━━━━━━━━━\u001b[0m\u001b[37m\u001b[0m \u001b[1m6s\u001b[0m 62ms/step - accuracy: 6.3023e-05 - f1_score: 1.2223e-04 - loss: 4.3514 - precision_m: 0.0020 - recall_m: 6.3023e-05 - val_accuracy: 0.0000e+00 - val_f1_score: 0.0000e+00 - val_loss: 4.3567 - val_precision_m: 0.0000e+00 - val_recall_m: 0.0000e+00\n",
            "Epoch 54/70\n",
            "\u001b[1m98/98\u001b[0m \u001b[32m━━━━━━━━━━━━━━━━━━━━\u001b[0m\u001b[37m\u001b[0m \u001b[1m6s\u001b[0m 65ms/step - accuracy: 8.7161e-05 - f1_score: 1.6904e-04 - loss: 4.3561 - precision_m: 0.0028 - recall_m: 8.7161e-05 - val_accuracy: 0.0000e+00 - val_f1_score: 0.0000e+00 - val_loss: 4.3567 - val_precision_m: 0.0000e+00 - val_recall_m: 0.0000e+00\n",
            "Epoch 55/70\n",
            "\u001b[1m98/98\u001b[0m \u001b[32m━━━━━━━━━━━━━━━━━━━━\u001b[0m\u001b[37m\u001b[0m \u001b[1m6s\u001b[0m 61ms/step - accuracy: 2.2042e-04 - f1_score: 4.2748e-04 - loss: 4.3542 - precision_m: 0.0071 - recall_m: 2.2042e-04 - val_accuracy: 0.0000e+00 - val_f1_score: 0.0000e+00 - val_loss: 4.3567 - val_precision_m: 0.0000e+00 - val_recall_m: 0.0000e+00\n",
            "Epoch 56/70\n",
            "\u001b[1m98/98\u001b[0m \u001b[32m━━━━━━━━━━━━━━━━━━━━\u001b[0m\u001b[37m\u001b[0m \u001b[1m6s\u001b[0m 64ms/step - accuracy: 9.7669e-04 - f1_score: 0.0019 - loss: 4.3519 - precision_m: 0.0313 - recall_m: 9.7669e-04 - val_accuracy: 0.0000e+00 - val_f1_score: 0.0000e+00 - val_loss: 4.3567 - val_precision_m: 0.0000e+00 - val_recall_m: 0.0000e+00\n",
            "Epoch 57/70\n",
            "\u001b[1m98/98\u001b[0m \u001b[32m━━━━━━━━━━━━━━━━━━━━\u001b[0m\u001b[37m\u001b[0m \u001b[1m6s\u001b[0m 63ms/step - accuracy: 3.0805e-04 - f1_score: 5.9744e-04 - loss: 4.3516 - precision_m: 0.0099 - recall_m: 3.0805e-04 - val_accuracy: 0.0000e+00 - val_f1_score: 0.0000e+00 - val_loss: 4.3567 - val_precision_m: 0.0000e+00 - val_recall_m: 0.0000e+00\n",
            "Epoch 58/70\n",
            "\u001b[1m98/98\u001b[0m \u001b[32m━━━━━━━━━━━━━━━━━━━━\u001b[0m\u001b[37m\u001b[0m \u001b[1m6s\u001b[0m 62ms/step - accuracy: 5.8688e-04 - f1_score: 0.0011 - loss: 4.3520 - precision_m: 0.0188 - recall_m: 5.8688e-04 - val_accuracy: 0.0000e+00 - val_f1_score: 0.0000e+00 - val_loss: 4.3567 - val_precision_m: 0.0000e+00 - val_recall_m: 0.0000e+00\n",
            "Epoch 59/70\n",
            "\u001b[1m98/98\u001b[0m \u001b[32m━━━━━━━━━━━━━━━━━━━━\u001b[0m\u001b[37m\u001b[0m \u001b[1m6s\u001b[0m 63ms/step - accuracy: 8.3007e-05 - f1_score: 1.6099e-04 - loss: 4.3556 - precision_m: 0.0027 - recall_m: 8.3007e-05 - val_accuracy: 0.0000e+00 - val_f1_score: 0.0000e+00 - val_loss: 4.3567 - val_precision_m: 0.0000e+00 - val_recall_m: 0.0000e+00\n",
            "Epoch 60/70\n",
            "\u001b[1m98/98\u001b[0m \u001b[32m━━━━━━━━━━━━━━━━━━━━\u001b[0m\u001b[37m\u001b[0m \u001b[1m6s\u001b[0m 66ms/step - accuracy: 0.0000e+00 - f1_score: 0.0000e+00 - loss: 4.3554 - precision_m: 0.0000e+00 - recall_m: 0.0000e+00 - val_accuracy: 0.0000e+00 - val_f1_score: 0.0000e+00 - val_loss: 4.3568 - val_precision_m: 0.0000e+00 - val_recall_m: 0.0000e+00\n",
            "Epoch 61/70\n",
            "\u001b[1m98/98\u001b[0m \u001b[32m━━━━━━━━━━━━━━━━━━━━\u001b[0m\u001b[37m\u001b[0m \u001b[1m6s\u001b[0m 60ms/step - accuracy: 3.3466e-05 - f1_score: 6.4906e-05 - loss: 4.3547 - precision_m: 0.0011 - recall_m: 3.3466e-05 - val_accuracy: 0.0000e+00 - val_f1_score: 0.0000e+00 - val_loss: 4.3567 - val_precision_m: 0.0000e+00 - val_recall_m: 0.0000e+00\n",
            "Epoch 62/70\n",
            "\u001b[1m98/98\u001b[0m \u001b[32m━━━━━━━━━━━━━━━━━━━━\u001b[0m\u001b[37m\u001b[0m \u001b[1m6s\u001b[0m 58ms/step - accuracy: 2.1568e-04 - f1_score: 4.1830e-04 - loss: 4.3549 - precision_m: 0.0069 - recall_m: 2.1568e-04 - val_accuracy: 0.0000e+00 - val_f1_score: 0.0000e+00 - val_loss: 4.3567 - val_precision_m: 0.0000e+00 - val_recall_m: 0.0000e+00\n",
            "Epoch 63/70\n",
            "\u001b[1m98/98\u001b[0m \u001b[32m━━━━━━━━━━━━━━━━━━━━\u001b[0m\u001b[37m\u001b[0m \u001b[1m6s\u001b[0m 63ms/step - accuracy: 0.0000e+00 - f1_score: 0.0000e+00 - loss: 4.3541 - precision_m: 0.0000e+00 - recall_m: 0.0000e+00 - val_accuracy: 0.0000e+00 - val_f1_score: 0.0000e+00 - val_loss: 4.3568 - val_precision_m: 0.0000e+00 - val_recall_m: 0.0000e+00\n",
            "Epoch 64/70\n",
            "\u001b[1m98/98\u001b[0m \u001b[32m━━━━━━━━━━━━━━━━━━━━\u001b[0m\u001b[37m\u001b[0m \u001b[1m6s\u001b[0m 62ms/step - accuracy: 0.0000e+00 - f1_score: 0.0000e+00 - loss: 4.3558 - precision_m: 0.0000e+00 - recall_m: 0.0000e+00 - val_accuracy: 0.0000e+00 - val_f1_score: 0.0000e+00 - val_loss: 4.3567 - val_precision_m: 0.0000e+00 - val_recall_m: 0.0000e+00\n",
            "Epoch 65/70\n",
            "\u001b[1m98/98\u001b[0m \u001b[32m━━━━━━━━━━━━━━━━━━━━\u001b[0m\u001b[37m\u001b[0m \u001b[1m8s\u001b[0m 78ms/step - accuracy: 0.0019 - f1_score: 0.0038 - loss: 4.3492 - precision_m: 0.0622 - recall_m: 0.0019 - val_accuracy: 0.0000e+00 - val_f1_score: 0.0000e+00 - val_loss: 4.3568 - val_precision_m: 0.0000e+00 - val_recall_m: 0.0000e+00\n",
            "Epoch 66/70\n",
            "\u001b[1m98/98\u001b[0m \u001b[32m━━━━━━━━━━━━━━━━━━━━\u001b[0m\u001b[37m\u001b[0m \u001b[1m6s\u001b[0m 58ms/step - accuracy: 1.7867e-04 - f1_score: 3.4651e-04 - loss: 4.3539 - precision_m: 0.0057 - recall_m: 1.7867e-04 - val_accuracy: 0.0000e+00 - val_f1_score: 0.0000e+00 - val_loss: 4.3568 - val_precision_m: 0.0000e+00 - val_recall_m: 0.0000e+00\n",
            "Epoch 67/70\n",
            "\u001b[1m98/98\u001b[0m \u001b[32m━━━━━━━━━━━━━━━━━━━━\u001b[0m\u001b[37m\u001b[0m \u001b[1m6s\u001b[0m 58ms/step - accuracy: 3.3466e-05 - f1_score: 6.4906e-05 - loss: 4.3553 - precision_m: 0.0011 - recall_m: 3.3466e-05 - val_accuracy: 0.0000e+00 - val_f1_score: 0.0000e+00 - val_loss: 4.3567 - val_precision_m: 0.0000e+00 - val_recall_m: 0.0000e+00\n",
            "Epoch 68/70\n",
            "\u001b[1m98/98\u001b[0m \u001b[32m━━━━━━━━━━━━━━━━━━━━\u001b[0m\u001b[37m\u001b[0m \u001b[1m6s\u001b[0m 61ms/step - accuracy: 0.0010 - f1_score: 0.0020 - loss: 4.3525 - precision_m: 0.0332 - recall_m: 0.0010 - val_accuracy: 0.0000e+00 - val_f1_score: 0.0000e+00 - val_loss: 4.3567 - val_precision_m: 0.0000e+00 - val_recall_m: 0.0000e+00\n",
            "Epoch 69/70\n",
            "\u001b[1m98/98\u001b[0m \u001b[32m━━━━━━━━━━━━━━━━━━━━\u001b[0m\u001b[37m\u001b[0m \u001b[1m6s\u001b[0m 62ms/step - accuracy: 0.0012 - f1_score: 0.0023 - loss: 4.3485 - precision_m: 0.0371 - recall_m: 0.0012 - val_accuracy: 0.0000e+00 - val_f1_score: 0.0000e+00 - val_loss: 4.3568 - val_precision_m: 0.0000e+00 - val_recall_m: 0.0000e+00\n",
            "Epoch 70/70\n",
            "\u001b[1m98/98\u001b[0m \u001b[32m━━━━━━━━━━━━━━━━━━━━\u001b[0m\u001b[37m\u001b[0m \u001b[1m6s\u001b[0m 62ms/step - accuracy: 6.5353e-04 - f1_score: 0.0013 - loss: 4.3525 - precision_m: 0.0209 - recall_m: 6.5353e-04 - val_accuracy: 0.0000e+00 - val_f1_score: 0.0000e+00 - val_loss: 4.3568 - val_precision_m: 0.0000e+00 - val_recall_m: 0.0000e+00\n"
          ]
        },
        {
          "output_type": "stream",
          "name": "stderr",
          "text": [
            "Traceback (most recent call last):\n",
            "  File \"/usr/local/lib/python3.11/dist-packages/keras_tuner/src/engine/base_tuner.py\", line 274, in _try_run_and_update_trial\n",
            "    self._run_and_update_trial(trial, *fit_args, **fit_kwargs)\n",
            "  File \"/usr/local/lib/python3.11/dist-packages/keras_tuner/src/engine/base_tuner.py\", line 239, in _run_and_update_trial\n",
            "    results = self.run_trial(trial, *fit_args, **fit_kwargs)\n",
            "              ^^^^^^^^^^^^^^^^^^^^^^^^^^^^^^^^^^^^^^^^^^^^^^\n",
            "  File \"/usr/local/lib/python3.11/dist-packages/keras_tuner/src/engine/tuner.py\", line 314, in run_trial\n",
            "    obj_value = self._build_and_fit_model(trial, *args, **copied_kwargs)\n",
            "                ^^^^^^^^^^^^^^^^^^^^^^^^^^^^^^^^^^^^^^^^^^^^^^^^^^^^^^^^\n",
            "  File \"/usr/local/lib/python3.11/dist-packages/keras_tuner/src/engine/tuner.py\", line 237, in _build_and_fit_model\n",
            "    utils.save_json(\n",
            "  File \"/usr/local/lib/python3.11/dist-packages/keras_tuner/src/utils.py\", line 91, in save_json\n",
            "    obj_str = json.dumps(obj)\n",
            "              ^^^^^^^^^^^^^^^\n",
            "  File \"/usr/lib/python3.11/json/__init__.py\", line 231, in dumps\n",
            "    return _default_encoder.encode(obj)\n",
            "           ^^^^^^^^^^^^^^^^^^^^^^^^^^^^\n",
            "  File \"/usr/lib/python3.11/json/encoder.py\", line 200, in encode\n",
            "    chunks = self.iterencode(o, _one_shot=True)\n",
            "             ^^^^^^^^^^^^^^^^^^^^^^^^^^^^^^^^^^\n",
            "  File \"/usr/lib/python3.11/json/encoder.py\", line 258, in iterencode\n",
            "    return _iterencode(o, 0)\n",
            "           ^^^^^^^^^^^^^^^^^\n",
            "  File \"/usr/lib/python3.11/json/encoder.py\", line 180, in default\n",
            "    raise TypeError(f'Object of type {o.__class__.__name__} '\n",
            "TypeError: Object of type int64 is not JSON serializable\n"
          ]
        },
        {
          "output_type": "error",
          "ename": "RuntimeError",
          "evalue": "Number of consecutive failures exceeded the limit of 3.\nTraceback (most recent call last):\n  File \"/usr/local/lib/python3.11/dist-packages/keras_tuner/src/engine/base_tuner.py\", line 274, in _try_run_and_update_trial\n    self._run_and_update_trial(trial, *fit_args, **fit_kwargs)\n  File \"/usr/local/lib/python3.11/dist-packages/keras_tuner/src/engine/base_tuner.py\", line 239, in _run_and_update_trial\n    results = self.run_trial(trial, *fit_args, **fit_kwargs)\n              ^^^^^^^^^^^^^^^^^^^^^^^^^^^^^^^^^^^^^^^^^^^^^^\n  File \"/usr/local/lib/python3.11/dist-packages/keras_tuner/src/engine/tuner.py\", line 314, in run_trial\n    obj_value = self._build_and_fit_model(trial, *args, **copied_kwargs)\n                ^^^^^^^^^^^^^^^^^^^^^^^^^^^^^^^^^^^^^^^^^^^^^^^^^^^^^^^^\n  File \"/usr/local/lib/python3.11/dist-packages/keras_tuner/src/engine/tuner.py\", line 237, in _build_and_fit_model\n    utils.save_json(\n  File \"/usr/local/lib/python3.11/dist-packages/keras_tuner/src/utils.py\", line 91, in save_json\n    obj_str = json.dumps(obj)\n              ^^^^^^^^^^^^^^^\n  File \"/usr/lib/python3.11/json/__init__.py\", line 231, in dumps\n    return _default_encoder.encode(obj)\n           ^^^^^^^^^^^^^^^^^^^^^^^^^^^^\n  File \"/usr/lib/python3.11/json/encoder.py\", line 200, in encode\n    chunks = self.iterencode(o, _one_shot=True)\n             ^^^^^^^^^^^^^^^^^^^^^^^^^^^^^^^^^^\n  File \"/usr/lib/python3.11/json/encoder.py\", line 258, in iterencode\n    return _iterencode(o, 0)\n           ^^^^^^^^^^^^^^^^^\n  File \"/usr/lib/python3.11/json/encoder.py\", line 180, in default\n    raise TypeError(f'Object of type {o.__class__.__name__} '\nTypeError: Object of type int64 is not JSON serializable\n",
          "traceback": [
            "\u001b[0;31m---------------------------------------------------------------------------\u001b[0m",
            "\u001b[0;31mRuntimeError\u001b[0m                              Traceback (most recent call last)",
            "\u001b[0;32m<ipython-input-44-8e5281610a4f>\u001b[0m in \u001b[0;36m<cell line: 0>\u001b[0;34m()\u001b[0m\n\u001b[1;32m      1\u001b[0m \u001b[0mvalidation_steps\u001b[0m \u001b[0;34m=\u001b[0m \u001b[0mint\u001b[0m\u001b[0;34m(\u001b[0m\u001b[0mlen\u001b[0m\u001b[0;34m(\u001b[0m\u001b[0mvalidation_images\u001b[0m\u001b[0;34m)\u001b[0m\u001b[0;34m)\u001b[0m \u001b[0;31m#the number of validation for number of batches\u001b[0m\u001b[0;34m\u001b[0m\u001b[0;34m\u001b[0m\u001b[0m\n\u001b[1;32m      2\u001b[0m \u001b[0;34m\u001b[0m\u001b[0m\n\u001b[0;32m----> 3\u001b[0;31m tuner_bayes.search(\n\u001b[0m\u001b[1;32m      4\u001b[0m     \u001b[0mtrain_images\u001b[0m\u001b[0;34m,\u001b[0m\u001b[0;34m\u001b[0m\u001b[0;34m\u001b[0m\u001b[0m\n\u001b[1;32m      5\u001b[0m     \u001b[0mtrain_name_enc\u001b[0m\u001b[0;34m,\u001b[0m\u001b[0;34m\u001b[0m\u001b[0;34m\u001b[0m\u001b[0m\n",
            "\u001b[0;32m/usr/local/lib/python3.11/dist-packages/keras_tuner/src/engine/base_tuner.py\u001b[0m in \u001b[0;36msearch\u001b[0;34m(self, *fit_args, **fit_kwargs)\u001b[0m\n\u001b[1;32m    233\u001b[0m             \u001b[0mself\u001b[0m\u001b[0;34m.\u001b[0m\u001b[0mon_trial_begin\u001b[0m\u001b[0;34m(\u001b[0m\u001b[0mtrial\u001b[0m\u001b[0;34m)\u001b[0m\u001b[0;34m\u001b[0m\u001b[0;34m\u001b[0m\u001b[0m\n\u001b[1;32m    234\u001b[0m             \u001b[0mself\u001b[0m\u001b[0;34m.\u001b[0m\u001b[0m_try_run_and_update_trial\u001b[0m\u001b[0;34m(\u001b[0m\u001b[0mtrial\u001b[0m\u001b[0;34m,\u001b[0m \u001b[0;34m*\u001b[0m\u001b[0mfit_args\u001b[0m\u001b[0;34m,\u001b[0m \u001b[0;34m**\u001b[0m\u001b[0mfit_kwargs\u001b[0m\u001b[0;34m)\u001b[0m\u001b[0;34m\u001b[0m\u001b[0;34m\u001b[0m\u001b[0m\n\u001b[0;32m--> 235\u001b[0;31m             \u001b[0mself\u001b[0m\u001b[0;34m.\u001b[0m\u001b[0mon_trial_end\u001b[0m\u001b[0;34m(\u001b[0m\u001b[0mtrial\u001b[0m\u001b[0;34m)\u001b[0m\u001b[0;34m\u001b[0m\u001b[0;34m\u001b[0m\u001b[0m\n\u001b[0m\u001b[1;32m    236\u001b[0m         \u001b[0mself\u001b[0m\u001b[0;34m.\u001b[0m\u001b[0mon_search_end\u001b[0m\u001b[0;34m(\u001b[0m\u001b[0;34m)\u001b[0m\u001b[0;34m\u001b[0m\u001b[0;34m\u001b[0m\u001b[0m\n\u001b[1;32m    237\u001b[0m \u001b[0;34m\u001b[0m\u001b[0m\n",
            "\u001b[0;32m/usr/local/lib/python3.11/dist-packages/keras_tuner/src/engine/base_tuner.py\u001b[0m in \u001b[0;36mon_trial_end\u001b[0;34m(self, trial)\u001b[0m\n\u001b[1;32m    337\u001b[0m             \u001b[0mtrial\u001b[0m\u001b[0;34m:\u001b[0m \u001b[0mA\u001b[0m\u001b[0;31m \u001b[0m\u001b[0;31m`\u001b[0m\u001b[0mTrial\u001b[0m\u001b[0;31m`\u001b[0m \u001b[0minstance\u001b[0m\u001b[0;34m.\u001b[0m\u001b[0;34m\u001b[0m\u001b[0;34m\u001b[0m\u001b[0m\n\u001b[1;32m    338\u001b[0m         \"\"\"\n\u001b[0;32m--> 339\u001b[0;31m         \u001b[0mself\u001b[0m\u001b[0;34m.\u001b[0m\u001b[0moracle\u001b[0m\u001b[0;34m.\u001b[0m\u001b[0mend_trial\u001b[0m\u001b[0;34m(\u001b[0m\u001b[0mtrial\u001b[0m\u001b[0;34m)\u001b[0m\u001b[0;34m\u001b[0m\u001b[0;34m\u001b[0m\u001b[0m\n\u001b[0m\u001b[1;32m    340\u001b[0m         \u001b[0mself\u001b[0m\u001b[0;34m.\u001b[0m\u001b[0msave\u001b[0m\u001b[0;34m(\u001b[0m\u001b[0;34m)\u001b[0m\u001b[0;34m\u001b[0m\u001b[0;34m\u001b[0m\u001b[0m\n\u001b[1;32m    341\u001b[0m \u001b[0;34m\u001b[0m\u001b[0m\n",
            "\u001b[0;32m/usr/local/lib/python3.11/dist-packages/keras_tuner/src/engine/oracle.py\u001b[0m in \u001b[0;36mwrapped_func\u001b[0;34m(*args, **kwargs)\u001b[0m\n\u001b[1;32m    106\u001b[0m             \u001b[0mLOCKS\u001b[0m\u001b[0;34m[\u001b[0m\u001b[0moracle\u001b[0m\u001b[0;34m]\u001b[0m\u001b[0;34m.\u001b[0m\u001b[0macquire\u001b[0m\u001b[0;34m(\u001b[0m\u001b[0;34m)\u001b[0m\u001b[0;34m\u001b[0m\u001b[0;34m\u001b[0m\u001b[0m\n\u001b[1;32m    107\u001b[0m             \u001b[0mTHREADS\u001b[0m\u001b[0;34m[\u001b[0m\u001b[0moracle\u001b[0m\u001b[0;34m]\u001b[0m \u001b[0;34m=\u001b[0m \u001b[0mthread_name\u001b[0m\u001b[0;34m\u001b[0m\u001b[0;34m\u001b[0m\u001b[0m\n\u001b[0;32m--> 108\u001b[0;31m         \u001b[0mret_val\u001b[0m \u001b[0;34m=\u001b[0m \u001b[0mfunc\u001b[0m\u001b[0;34m(\u001b[0m\u001b[0;34m*\u001b[0m\u001b[0margs\u001b[0m\u001b[0;34m,\u001b[0m \u001b[0;34m**\u001b[0m\u001b[0mkwargs\u001b[0m\u001b[0;34m)\u001b[0m\u001b[0;34m\u001b[0m\u001b[0;34m\u001b[0m\u001b[0m\n\u001b[0m\u001b[1;32m    109\u001b[0m         \u001b[0;32mif\u001b[0m \u001b[0mneed_acquire\u001b[0m\u001b[0;34m:\u001b[0m\u001b[0;34m\u001b[0m\u001b[0;34m\u001b[0m\u001b[0m\n\u001b[1;32m    110\u001b[0m             \u001b[0mTHREADS\u001b[0m\u001b[0;34m[\u001b[0m\u001b[0moracle\u001b[0m\u001b[0;34m]\u001b[0m \u001b[0;34m=\u001b[0m \u001b[0;32mNone\u001b[0m\u001b[0;34m\u001b[0m\u001b[0;34m\u001b[0m\u001b[0m\n",
            "\u001b[0;32m/usr/local/lib/python3.11/dist-packages/keras_tuner/src/engine/oracle.py\u001b[0m in \u001b[0;36mend_trial\u001b[0;34m(self, trial)\u001b[0m\n\u001b[1;32m    586\u001b[0m         \u001b[0;32mif\u001b[0m \u001b[0;32mnot\u001b[0m \u001b[0mself\u001b[0m\u001b[0;34m.\u001b[0m\u001b[0m_retry\u001b[0m\u001b[0;34m(\u001b[0m\u001b[0mtrial\u001b[0m\u001b[0;34m)\u001b[0m\u001b[0;34m:\u001b[0m\u001b[0;34m\u001b[0m\u001b[0;34m\u001b[0m\u001b[0m\n\u001b[1;32m    587\u001b[0m             \u001b[0mself\u001b[0m\u001b[0;34m.\u001b[0m\u001b[0mend_order\u001b[0m\u001b[0;34m.\u001b[0m\u001b[0mappend\u001b[0m\u001b[0;34m(\u001b[0m\u001b[0mtrial\u001b[0m\u001b[0;34m.\u001b[0m\u001b[0mtrial_id\u001b[0m\u001b[0;34m)\u001b[0m\u001b[0;34m\u001b[0m\u001b[0;34m\u001b[0m\u001b[0m\n\u001b[0;32m--> 588\u001b[0;31m             \u001b[0mself\u001b[0m\u001b[0;34m.\u001b[0m\u001b[0m_check_consecutive_failures\u001b[0m\u001b[0;34m(\u001b[0m\u001b[0;34m)\u001b[0m\u001b[0;34m\u001b[0m\u001b[0;34m\u001b[0m\u001b[0m\n\u001b[0m\u001b[1;32m    589\u001b[0m \u001b[0;34m\u001b[0m\u001b[0m\n\u001b[1;32m    590\u001b[0m         \u001b[0mself\u001b[0m\u001b[0;34m.\u001b[0m\u001b[0m_save_trial\u001b[0m\u001b[0;34m(\u001b[0m\u001b[0mtrial\u001b[0m\u001b[0;34m)\u001b[0m\u001b[0;34m\u001b[0m\u001b[0;34m\u001b[0m\u001b[0m\n",
            "\u001b[0;32m/usr/local/lib/python3.11/dist-packages/keras_tuner/src/engine/oracle.py\u001b[0m in \u001b[0;36m_check_consecutive_failures\u001b[0;34m(self)\u001b[0m\n\u001b[1;32m    543\u001b[0m                 \u001b[0mconsecutive_failures\u001b[0m \u001b[0;34m=\u001b[0m \u001b[0;36m0\u001b[0m\u001b[0;34m\u001b[0m\u001b[0;34m\u001b[0m\u001b[0m\n\u001b[1;32m    544\u001b[0m             \u001b[0;32mif\u001b[0m \u001b[0mconsecutive_failures\u001b[0m \u001b[0;34m==\u001b[0m \u001b[0mself\u001b[0m\u001b[0;34m.\u001b[0m\u001b[0mmax_consecutive_failed_trials\u001b[0m\u001b[0;34m:\u001b[0m\u001b[0;34m\u001b[0m\u001b[0;34m\u001b[0m\u001b[0m\n\u001b[0;32m--> 545\u001b[0;31m                 raise RuntimeError(\n\u001b[0m\u001b[1;32m    546\u001b[0m                     \u001b[0;34m\"Number of consecutive failures exceeded the limit \"\u001b[0m\u001b[0;34m\u001b[0m\u001b[0;34m\u001b[0m\u001b[0m\n\u001b[1;32m    547\u001b[0m                     \u001b[0;34mf\"of {self.max_consecutive_failed_trials}.\\n\"\u001b[0m\u001b[0;34m\u001b[0m\u001b[0;34m\u001b[0m\u001b[0m\n",
            "\u001b[0;31mRuntimeError\u001b[0m: Number of consecutive failures exceeded the limit of 3.\nTraceback (most recent call last):\n  File \"/usr/local/lib/python3.11/dist-packages/keras_tuner/src/engine/base_tuner.py\", line 274, in _try_run_and_update_trial\n    self._run_and_update_trial(trial, *fit_args, **fit_kwargs)\n  File \"/usr/local/lib/python3.11/dist-packages/keras_tuner/src/engine/base_tuner.py\", line 239, in _run_and_update_trial\n    results = self.run_trial(trial, *fit_args, **fit_kwargs)\n              ^^^^^^^^^^^^^^^^^^^^^^^^^^^^^^^^^^^^^^^^^^^^^^\n  File \"/usr/local/lib/python3.11/dist-packages/keras_tuner/src/engine/tuner.py\", line 314, in run_trial\n    obj_value = self._build_and_fit_model(trial, *args, **copied_kwargs)\n                ^^^^^^^^^^^^^^^^^^^^^^^^^^^^^^^^^^^^^^^^^^^^^^^^^^^^^^^^\n  File \"/usr/local/lib/python3.11/dist-packages/keras_tuner/src/engine/tuner.py\", line 237, in _build_and_fit_model\n    utils.save_json(\n  File \"/usr/local/lib/python3.11/dist-packages/keras_tuner/src/utils.py\", line 91, in save_json\n    obj_str = json.dumps(obj)\n              ^^^^^^^^^^^^^^^\n  File \"/usr/lib/python3.11/json/__init__.py\", line 231, in dumps\n    return _default_encoder.encode(obj)\n           ^^^^^^^^^^^^^^^^^^^^^^^^^^^^\n  File \"/usr/lib/python3.11/json/encoder.py\", line 200, in encode\n    chunks = self.iterencode(o, _one_shot=True)\n             ^^^^^^^^^^^^^^^^^^^^^^^^^^^^^^^^^^\n  File \"/usr/lib/python3.11/json/encoder.py\", line 258, in iterencode\n    return _iterencode(o, 0)\n           ^^^^^^^^^^^^^^^^^\n  File \"/usr/lib/python3.11/json/encoder.py\", line 180, in default\n    raise TypeError(f'Object of type {o.__class__.__name__} '\nTypeError: Object of type int64 is not JSON serializable\n"
          ]
        }
      ]
    },
    {
      "cell_type": "code",
      "source": [
        "best_hp = tuner_bayes.get_best_hyperparameters()[0]\n",
        "best_hp.values"
      ],
      "metadata": {
        "id": "6j5Xr6pGf8MF"
      },
      "execution_count": null,
      "outputs": []
    },
    {
      "cell_type": "code",
      "source": [],
      "metadata": {
        "id": "I5C_DcmJ833x"
      },
      "execution_count": null,
      "outputs": []
    }
  ],
  "metadata": {
    "kernelspec": {
      "display_name": "Python 3",
      "name": "python3"
    },
    "language_info": {
      "codemirror_mode": {
        "name": "ipython",
        "version": 3
      },
      "file_extension": ".py",
      "mimetype": "text/x-python",
      "name": "python",
      "nbconvert_exporter": "python",
      "pygments_lexer": "ipython3",
      "version": "3.10.13"
    },
    "colab": {
      "provenance": [],
      "gpuType": "A100",
      "machine_shape": "hm",
      "toc_visible": true,
      "include_colab_link": true
    },
    "accelerator": "GPU"
  },
  "nbformat": 4,
  "nbformat_minor": 0
}